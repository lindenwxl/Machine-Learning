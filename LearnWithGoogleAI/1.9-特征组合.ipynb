{
 "cells": [
  {
   "cell_type": "markdown",
   "metadata": {},
   "source": [
    "# 特征组合 (Feature Crosses)\n",
    "\n",
    "**特征组合**是指两个或多个特征相乘形成的**合成特征**。特征的相乘组合可以提供超出这些特征单独能够提供的预测能力。\n",
    "\n",
    "- **学习目标**\n",
    " - 了解特征组合。\n",
    " - 在 TensorFlow 中实施特征组合"
   ]
  },
  {
   "cell_type": "markdown",
   "metadata": {},
   "source": [
    "## 特征组合 (Feature Crosses)：对非线性规律进行编码"
   ]
  },
  {
   "cell_type": "markdown",
   "metadata": {},
   "source": [
    "在图 1 和图 2 中，我们做出如下假设：\n",
    "\n",
    "- 蓝点代表生病的树。\n",
    "- 橙点代表健康的树\n",
    "\n",
    "**图 1. 这是线性问题吗？**\n",
    "\n",
    "<img align=\"left\" src=\"photos/特征1.png\">\n",
    "\n",
    "您可以画一条线将生病的树与健康的树清晰地分开吗？\n",
    "\n",
    "当然可以。\n",
    "\n",
    "这是个线性问题。\n",
    "\n",
    "这条线并不完美。\n",
    "\n",
    "有一两棵生病的树可能位于“健康”一侧，但您画的这条线可以很好地做出预测。"
   ]
  },
  {
   "cell_type": "markdown",
   "metadata": {},
   "source": [
    "**图 2. 这是线性问题吗？**\n",
    "\n",
    "<img align=\"left\" src=\"photos/特征2.png\">\n",
    "<img align=\"right\" src=\"photos/特征3.png\">\n",
    "\n",
    "您可以画一条直线将生病的树与健康的树清晰地分开吗？\n",
    "\n",
    "不，您做不到。\n",
    "\n",
    "这是个非线性问题。\n",
    "\n",
    "您画的任何一条线都不能很好地预测树的健康状况。\n",
    "\n"
   ]
  },
  {
   "cell_type": "markdown",
   "metadata": {},
   "source": [
    "要解决图 2 所示的非线性问题，可以创建一个特征组合。**特征组合**是指通过将两个或多个输入特征相乘来对特征空间中的非线性规律进行编码的合成特征。``“cross”``（组合）这一术语来自 ``cross product（向量积）``。我们通过将 x1 与 x2 组合来创建一个名为 x3 的特征组合：$x_3 = x_1x_2$\n",
    "\n",
    "---\n",
    "\n",
    "我们像处理任何其他特征一样来处理这个新建的 x3 特征组合。线性公式变为：$y = b + w_1x_1 + w_2x_2 + w_3x_3$\n",
    "\n",
    "线性算法可以算出 $w_3$ 的权重，就像算出 $w_1$ 和 $w_2$ 的权重一样。换言之，虽然 $w_3$ 表示非线性信息，但您不需要改变线性模型的训练方式来确定$w_3$ 的值。\n"
   ]
  },
  {
   "cell_type": "markdown",
   "metadata": {},
   "source": [
    "### 特征组合的种类\n",
    "\n",
    "我们可以创建很多不同种类的特征组合。例如：\n",
    "- ``[A X B]``：将两个特征的值相乘形成的特征组合。\n",
    "\n",
    "- ``[A x B x C x D x E]``：将五个特征的值相乘形成的特征组合。\n",
    "\n",
    "- ``[A x A]``：对单个特征的值求平方形成的特征组合。\n",
    "\n",
    "通过采用**随机梯度下降法**，可以有效地训练线性模型。因此，在使用扩展的线性模型时辅以特征组合一直都是训练大规模数据集的有效方法。"
   ]
  },
  {
   "cell_type": "markdown",
   "metadata": {},
   "source": [
    "## 特征组合 (Feature Crosses)：组合独热矢量\n",
    "\n",
    "\n",
    "到目前为止，我们已经重点介绍了如何对两个单独的浮点特征进行特征组合。在实践中，机器学习模型很少会组合连续特征。\n",
    "\n",
    "不过，机器学习模型却经常组合独热特征矢量，将独热特征矢量的特征组合视为逻辑连接。\n",
    "\n",
    "例如，假设我们具有以下两个特征：国家/地区和语言。\n",
    "\n",
    "对每个特征进行独热编码会生成具有二元特征的矢量，这些二元特征可解读为 country=USA, country=France 或 language=English, language=Spanish。然后，如果您对这些独热编码进行特征组合，则会得到可解读为逻辑连接的二元特征，如下所示：\n",
    "```\n",
    "country:usa AND language:spanish\n",
    "```\n",
    "\n",
    "再举一个例子，假设您对纬度和经度进行分箱，获得单独的独热 5 元素特征矢量。例如，指定的纬度和经度可以表示如下：\n",
    "\n",
    "```\n",
    "binned_latitude = [0, 0, 0, 1, 0]\n",
    "binned_longitude = [0, 1, 0, 0, 0]\n",
    "```\n",
    "\n",
    "假设您对这两个特征矢量创建了特征组合：\n",
    "```\n",
    "binned_latitude X binned_longitude\n",
    "```\n",
    "\n",
    "此特征组合是一个 25 元素独热矢量（24 个 0 和 1 个 1）。该组合中的单个 1 表示纬度与经度的特定连接。然后，您的模型就可以了解到有关这种连接的特定关联性。\n",
    "\n",
    "假设我们更粗略地对纬度和经度进行分箱，如下所示：\n",
    "\n",
    "```\n",
    "binned_latitude(lat) = [\n",
    "  0  < lat <= 10\n",
    "  10 < lat <= 20\n",
    "  20 < lat <= 30\n",
    "]\n",
    "\n",
    "binned_longitude(lon) = [\n",
    "  0  < lon <= 15\n",
    "  15 < lon <= 30\n",
    "]\n",
    "\n",
    "```"
   ]
  },
  {
   "cell_type": "markdown",
   "metadata": {},
   "source": [
    "针对这些粗略分箱创建特征组合会生成具有以下含义的合成特征：\n",
    "```\n",
    "binned_latitude_X_longitude(lat, lon) = [\n",
    "  0  < lat <= 10 AND 0  < lon <= 15\n",
    "  0  < lat <= 10 AND 15 < lon <= 30\n",
    "  10 < lat <= 20 AND 0  < lon <= 15\n",
    "  10 < lat <= 20 AND 15 < lon <= 30\n",
    "  20 < lat <= 30 AND 0  < lon <= 15\n",
    "  20 < lat <= 30 AND 15 < lon <= 30\n",
    "]\n",
    "```"
   ]
  },
  {
   "cell_type": "markdown",
   "metadata": {},
   "source": [
    "现在，假设我们的模型需要根据以下两个特征来预测狗主人对狗狗的满意程度：\n",
    "- 行为类型（吠叫、叫、偎依等）\n",
    "- 时段\n",
    "\n",
    "如果我们根据这两个特征构建以下特征组合：\n",
    "```\n",
    "[behavior type X time of day]\n",
    "```\n",
    "\n",
    "我们最终获得的预测能力将远远超过任一特征单独的预测能力。例如，如果狗狗在下午 5 点主人下班回来时（快乐地）叫喊，可能表示对主人满意度的正面预测结果。如果狗狗在凌晨 3 点主人熟睡时（也许痛苦地）哀叫，可能表示对主人满意度的强烈负面预测结果。\n",
    "\n",
    "线性学习器可以很好地扩展到大量数据。对大规模数据集使用特征组合是学习高度复杂模型的一种有效策略。**神经网络**可提供另一种策略。"
   ]
  }
 ],
 "metadata": {
  "kernelspec": {
   "display_name": "Python 3",
   "language": "python",
   "name": "python3"
  },
  "language_info": {
   "codemirror_mode": {
    "name": "ipython",
    "version": 3
   },
   "file_extension": ".py",
   "mimetype": "text/x-python",
   "name": "python",
   "nbconvert_exporter": "python",
   "pygments_lexer": "ipython3",
   "version": "3.6.3"
  }
 },
 "nbformat": 4,
 "nbformat_minor": 2
}

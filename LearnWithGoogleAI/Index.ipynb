{
 "cells": [
  {
   "cell_type": "markdown",
   "metadata": {},
   "source": [
    "# 机器学习速成课程\n",
    "\n",
    "机器学习速成课程包含一系列视频讲座课程、实际案例分析和实践练习。"
   ]
  },
  {
   "cell_type": "markdown",
   "metadata": {},
   "source": [
    "### 目标：前提条件和准备工作"
   ]
  },
  {
   "cell_type": "markdown",
   "metadata": {},
   "source": [
    "## 1. 机器学习概念\n",
    "\n",
    "\n",
    "- 框架处理\n",
    "\n",
    "\n",
    "- 深入了解机器学习\n",
    "\n",
    "\n",
    "- 降低损失\n",
    "\n",
    "\n",
    "- 使用TF的基本步骤\n",
    "\n",
    "\n",
    "- 泛化\n",
    "\n",
    "\n",
    "- 训练集和测试集\n",
    "\n",
    "\n",
    "- 验证\n",
    "\n",
    "\n",
    "- 表示法\n",
    "\n",
    "\n",
    "- 特征组合\n",
    "\n",
    "\n",
    "- 正则化：简单性\n",
    "\n",
    "\n",
    "- 逻辑回归\n",
    "\n",
    "\n",
    "- 分类\n",
    "\n",
    "\n",
    "- 正则化：稀疏性\n",
    "\n",
    "\n",
    "- 神经网络简介\n",
    "\n",
    "\n",
    "- 多类别神经网络\n",
    "\n",
    "\n",
    "- 嵌入"
   ]
  },
  {
   "cell_type": "markdown",
   "metadata": {},
   "source": [
    "## 2. 机器学习工程\n",
    "\n",
    "\n",
    "- 生产环境机器学习系统\n",
    "\n",
    "\n",
    "- 静态训练和动态训练\n",
    "\n",
    "\n",
    "- 静态推理和动态推理\n",
    "\n",
    "\n",
    "- 数据依赖关系"
   ]
  },
  {
   "cell_type": "markdown",
   "metadata": {},
   "source": [
    "## 机器学习现实世界应用示例\n",
    "\n",
    "\n",
    "- 癌症预测\n",
    "\n",
    "\n",
    "- 18世纪文学\n",
    "\n",
    "\n",
    "- 现实世界应用准则"
   ]
  },
  {
   "cell_type": "markdown",
   "metadata": {},
   "source": [
    "## 总结：后续步骤"
   ]
  }
 ],
 "metadata": {
  "kernelspec": {
   "display_name": "Python 3",
   "language": "python",
   "name": "python3"
  },
  "language_info": {
   "codemirror_mode": {
    "name": "ipython",
    "version": 3
   },
   "file_extension": ".py",
   "mimetype": "text/x-python",
   "name": "python",
   "nbconvert_exporter": "python",
   "pygments_lexer": "ipython3",
   "version": "3.6.4"
  }
 },
 "nbformat": 4,
 "nbformat_minor": 2
}

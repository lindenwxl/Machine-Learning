{
 "cells": [
  {
   "cell_type": "markdown",
   "metadata": {},
   "source": [
    "# 验证 (Validation)"
   ]
  },
  {
   "cell_type": "markdown",
   "metadata": {},
   "source": [
    "通过将数据集划分为训练集和测试集，您可以判断给定模型能否很好地泛化到新数据。不过，当进行多轮超参数调整时，仅使用两类数据可能不太够。\n",
    "\n",
    "#### 学习目标\n",
    "- 了解验证集在划分方案中的重要性"
   ]
  },
  {
   "cell_type": "markdown",
   "metadata": {},
   "source": [
    "## 验证 (Validation)：另一个划分"
   ]
  },
  {
   "cell_type": "markdown",
   "metadata": {},
   "source": [
    "上一单元介绍了如何将数据集划分为训练集和测试集。借助这种划分，您可以对一个样本集进行训练，然后使用不同的样本集测试模型。采用两种分类之后，工作流程可能如下所示：\n",
    "\n",
    "**图 1. 可能的工作流程？**\n",
    "\n",
    "<img align=\"left\" src=\"photos/验证1.png\">"
   ]
  },
  {
   "cell_type": "markdown",
   "metadata": {},
   "source": [
    "在图中，“调整模型”指的是调整您可以想到的关于模型的任何方面，从更改学习速率、添加或移除特征，到从头开始设计全新模型。该工作流程结束时，您可以选择在测试集上获得最佳效果的模型。\n",
    "\n",
    "将数据集划分为两个子集是个不错的想法，但不是万能良方。通过将数据集划分为三个子集（如下图所示），您可以大幅降低过拟合的发生几率：\n",
    "\n",
    "**图2：将单个数据集划分为三个子集**\n",
    "\n",
    "<img align=\"left\" src=\"photos/验证2.png\">"
   ]
  },
  {
   "cell_type": "markdown",
   "metadata": {},
   "source": [
    "使用验证集评估训练集的效果。然后，在模型“通过”验证集之后，使用测试集再次检查评估结果。下图展示了这一新工作流程：\n",
    "\n",
    "**图 3. 更好的工作流程**\n",
    "\n",
    "<img align=\"left\" src=\"photos/验证3.png\">"
   ]
  },
  {
   "cell_type": "markdown",
   "metadata": {},
   "source": [
    "在这一经过改进的工作流程中：\n",
    "1. **选择在验证集上获得最佳效果的模型**\n",
    "2. **使用测试集再次检查该模型**\n",
    "\n",
    "*该工作流程之所以更好，原因在于它暴露给测试集的信息更少*."
   ]
  },
  {
   "cell_type": "markdown",
   "metadata": {},
   "source": [
    "#### 提示：\n",
    "   \n",
    "  * 不断使用测试集和验证集会使其逐渐失去效果。也就是说，您使用相同数据来决定超参数设置或其他模型改进的次数越多，您对于这些结果能够真正泛化到未见过的新数据的信心就越低。请注意，验证集的失效速度通常比测试集缓慢。\n",
    "  * 如果可能的话，建议您收集更多数据来“刷新”测试集和验证集。重新开始是一种很好的重置方式*。"
   ]
  }
 ],
 "metadata": {
  "kernelspec": {
   "display_name": "Python 3",
   "language": "python",
   "name": "python3"
  },
  "language_info": {
   "codemirror_mode": {
    "name": "ipython",
    "version": 3
   },
   "file_extension": ".py",
   "mimetype": "text/x-python",
   "name": "python",
   "nbconvert_exporter": "python",
   "pygments_lexer": "ipython3",
   "version": "3.6.3"
  }
 },
 "nbformat": 4,
 "nbformat_minor": 2
}

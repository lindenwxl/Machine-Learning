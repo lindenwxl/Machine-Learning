{
 "cells": [
  {
   "cell_type": "markdown",
   "metadata": {},
   "source": [
    "# 使用 TensorFlow 的起始步骤 (First Steps with TensorFlow)：工具包\n",
    "\n",
    "### 学习目标\n",
    "  - 了解如何在 TensorFlow 中创建和修改张量。\n",
    "  - 了解 Pandas 的基础知识。\n",
    "  - 使用 TensorFlow 的一种高级 API 开发线性回归代码。\n",
    "  - 尝试不同的学习速率。"
   ]
  },
  {
   "cell_type": "markdown",
   "metadata": {},
   "source": [
    "**图 1. TensorFlow 工具包层次结构**\n",
    "\n",
    "<img align=\"left\" src=\"photos/tf1.png\">"
   ]
  },
  {
   "cell_type": "markdown",
   "metadata": {},
   "source": [
    "下表总结了不同层的用途：\n",
    "\n",
    "<img align=\"left\" src=\"photos/tf2.png\">"
   ]
  },
  {
   "cell_type": "markdown",
   "metadata": {},
   "source": [
    "TensorFlow 由以下两个组件组成：\n",
    "\n",
    "- **图协议缓冲区**\n",
    "- **执行（分布式）图的运行时**\n",
    "\n",
    "这两个组件类似于 Java 编译器和 JVM。正如 JVM 会实施在多个硬件平台（CPU 和 GPU）上一样，TensorFlow 也是如此。\n",
    "\n",
    "您应该使用哪个 API？您应该使用能够解决问题的最高级抽象层。较高级别的抽象层更易于使用，但（设计方面）不够灵活。我们建议您先从最高级 API 入手，让所有组件正常运作起来。如果您希望在某些特殊建模方面能够更加灵活一些，则可以降低一个级别。请注意，每个级别都是使用低级 API 构建的，因此降低层次结构级别应该比较直观。"
   ]
  },
  {
   "cell_type": "markdown",
   "metadata": {},
   "source": [
    "## tf.estimator API\n",
    "---\n",
    "\n",
    "我们将使用 ``tf.estimator`` 来完成机器学习速成课程中的大部分练习。您在练习中所做的一切都可以在较低级别（原始）的 ``TensorFlow`` 中完成，但使用 ``tf.estimator`` 会大大减少代码行数。\n",
    "\n",
    "``tf.estimator`` 与 ``scikit-learn API`` 兼容。 ``scikit-learn`` 是极其热门的 ``Python`` 开放源代码机器学习库，拥有超过 10 万名用户，其中包括许多 Google 员工。\n",
    "\n",
    "概括而言，以下是在 ``tf.estimator`` 中实现的线性回归程序的格式：\n",
    "\n",
    "```python\n",
    "import tensorflow as tf\n",
    "\n",
    "# Set up a linear classifier.\n",
    "classifier = tf.estimator.LinearClassifier()\n",
    "\n",
    "# Train the model on some example data.\n",
    "classifier.train(input_fn=train_input_fn, steps=2000)\n",
    "\n",
    "# Use it to predict.\n",
    "predictions = classifier.predict(input_fn=predict_input_fn)\n",
    "```"
   ]
  },
  {
   "cell_type": "markdown",
   "metadata": {},
   "source": [
    "# 使用 TensorFlow 的起始步骤 (First Steps with TensorFlow)：编程练习"
   ]
  },
  {
   "cell_type": "markdown",
   "metadata": {},
   "source": [
    "机器学习速成课程将引导您使用 ``tf.estimator``（一种高级 ``TensorFlow API``）对模型进行编码，以便您将学到的原则和技术应用于实践。\n",
    "\n",
    "机器学习速成课程中的编程练习使用的是可将代码、输出和说明性文字合并到一个协作文档中的数据分析平台。"
   ]
  },
  {
   "cell_type": "markdown",
   "metadata": {},
   "source": [
    "#### 请按照指定顺序运行以下三项练习：\n",
    "\n",
    "1. [Pandas 简介]()。 Pandas 是用于进行数据分析和建模的重要库，广泛应用于 TensorFlow 编码。该教程提供了您学习本课程所需的全部 Pandas 信息。如果您已了解 Pandas，则可以跳过此练习。\n",
    "\n",
    "\n",
    "2. [使用 TensorFlow 的起始步骤]()。此练习介绍了线性回归。\n",
    "\n",
    "\n",
    "3. [合成特征和离群值]()。此练习介绍了合成特征，以及输入离群值会造成的影响。\n"
   ]
  },
  {
   "cell_type": "markdown",
   "metadata": {},
   "source": [
    "### 机器学习速成课程练习中的常用超参数\n",
    "\n",
    "很多编码练习都包含以下超参数：\n",
    "\n",
    "- **steps**：是指训练迭代的总次数。一步计算一批样本产生的损失，然后使用该值修改模型的权重一次。\n",
    "\n",
    "\n",
    "- **batch size**：是指单步的样本数量（随机选择）。例如，SGD 的批量大小为 1\n",
    "\n",
    "以下公式成立:\n",
    "\n",
    "### $total\\,number\\,of\\,trained\\,examples = batch\\,size * steps$"
   ]
  },
  {
   "cell_type": "markdown",
   "metadata": {},
   "source": [
    "### 机器学习速成课程练习中的方便变量\n",
    "\n",
    "有些练习中会出现以下方便变量：\n",
    "\n",
    "- **periods**：控制报告的粒度。例如，如果 periods 设为 7 且 steps 设为 70，则练习将每 10 步（或 7 次）输出一次损失值。与超参数不同，我们不希望您修改 periods 的值。请注意，修改 periods 不会更改您的模型所学习的内容。\n",
    "\n",
    "以下公式成立：\n",
    "\n",
    "\n",
    "###  $number\\,of\\,training\\,examples\\,in\\,each\\,period = \\frac{batch\\,size * steps} {periods}$"
   ]
  }
 ],
 "metadata": {
  "kernelspec": {
   "display_name": "Python 3",
   "language": "python",
   "name": "python3"
  },
  "language_info": {
   "codemirror_mode": {
    "name": "ipython",
    "version": 3
   },
   "file_extension": ".py",
   "mimetype": "text/x-python",
   "name": "python",
   "nbconvert_exporter": "python",
   "pygments_lexer": "ipython3",
   "version": "3.6.3"
  }
 },
 "nbformat": 4,
 "nbformat_minor": 2
}

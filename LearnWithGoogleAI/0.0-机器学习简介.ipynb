{
 "cells": [
  {
   "cell_type": "markdown",
   "metadata": {},
   "source": [
    "##  [  前提条件和准备工作  ](前提条件和准备工作.ipynb)||[  目录  ](Index.ipynb)||[   框架处理   ](1.1-框架处理.ipynb)"
   ]
  },
  {
   "cell_type": "markdown",
   "metadata": {},
   "source": [
    "# 机器学习简介 (Introduction to Machine Learning)\n",
    "\n",
    "本单元将为您介绍机器学习 (ML)。\n",
    "\n",
    "学习目标\n",
    "- 了解掌握机器学习技术的实际优势\n",
    "- 理解机器学习技术背后的理念"
   ]
  },
  {
   "cell_type": "markdown",
   "metadata": {},
   "source": [
    "## 机器学习概念\n",
    "\n",
    "- 框架处理\n",
    "\n",
    "\n",
    "- 深入了解机器学习\n",
    "\n",
    "\n",
    "- 降低损失\n",
    "\n",
    "\n",
    "- 使用TF的基本步骤\n",
    "\n",
    "\n",
    "- 泛化\n",
    "\n",
    "\n",
    "- 训练集和测试集\n",
    "\n",
    "\n",
    "- 验证\n",
    "\n",
    "\n",
    "- 表示法\n",
    "\n",
    "\n",
    "- 特征组合\n",
    "\n",
    "\n",
    "- 正则化：简单性\n",
    "\n",
    "\n",
    "- 逻辑回归\n",
    "\n",
    "\n",
    "- 分类\n",
    "\n",
    "\n",
    "- 正则化：稀疏性\n",
    "\n",
    "\n",
    "- 神经网络简介\n",
    "\n",
    "\n",
    "- 多类别神经网络\n",
    "\n",
    "\n",
    "- 嵌入"
   ]
  },
  {
   "cell_type": "markdown",
   "metadata": {},
   "source": [
    "##  [  前提条件和准备工作  ](前提条件和准备工作.ipynb)||[  目录  ](Index.ipynb)||[   框架处理   ](1.1-框架处理.ipynb)"
   ]
  }
 ],
 "metadata": {
  "kernelspec": {
   "display_name": "Python 3",
   "language": "python",
   "name": "python3"
  },
  "language_info": {
   "codemirror_mode": {
    "name": "ipython",
    "version": 3
   },
   "file_extension": ".py",
   "mimetype": "text/x-python",
   "name": "python",
   "nbconvert_exporter": "python",
   "pygments_lexer": "ipython3",
   "version": "3.6.4"
  }
 },
 "nbformat": 4,
 "nbformat_minor": 2
}

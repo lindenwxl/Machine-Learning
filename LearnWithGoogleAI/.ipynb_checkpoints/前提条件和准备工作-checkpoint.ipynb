{
 "cells": [
  {
   "cell_type": "markdown",
   "metadata": {},
   "source": [
    "## 机器学习速成课程适合您吗？\n",
    "\n",
    "机器学习课程适合你吗？\n",
    "\n",
    "- 我对机器学习知之甚少或一无所知......\n",
    "- 我对机器学习有一些了解，但是想了解更新更全面的知识......\n",
    "- 我很了解机器学习，但是对TensorFlow知之甚少或一无所知......\n",
    "\n",
    "在开始机器学习速成课程之前，请先阅读下面的*`前提条件`*和*`准备工作部分`*，以确保您已做好完成所有单元所需的准备工作。"
   ]
  },
  {
   "cell_type": "markdown",
   "metadata": {},
   "source": [
    "## 前提条件\n",
    "\n",
    "机器学习速成课程并不会假定或要求您预先掌握机器学习方面的任何知识。但是，为了能够理解课程中介绍的概念并完成练习，您最好满足以下前提条件：\n",
    "\n",
    "- 掌握入门级代数知识。 您应该了解变量和系数、线性方程式、函数图和直方图（熟悉对数和导数等更高级的数学概念会有帮助，但不是必需条件）。\n",
    "\n",
    "\n",
    "- 熟练掌握编程基础知识，并且具有一些使用 Python 进行编码的经验。 机器学习速成课程中的编程练习是通过 TensorFlow 并使用 Python 进行编码的。您无需拥有使用 TensorFlow 的任何经验，但应该能够熟练阅读和编写包含基础编程结构（例如，函数定义/调用、列表和字典、循环和条件表达式）的 Python 代码。\n",
    "\n",
    "**注意：有关机器学习速成课程中使用的数学和编程概念的详细列表，请参阅下面的主要概念和工具部分，其中列出了每个概念的参考资料。**"
   ]
  },
  {
   "cell_type": "markdown",
   "metadata": {},
   "source": [
    "## 准备工作\n",
    "\n",
    "**可使用 Colaboratory 平台直接在浏览器中运行编程练习（无需设置！）。Colaboratory 支持大多数主流浏览器，并且在 Chrome 和 Firefox 的各个桌面版本上进行了最全面的测试。如果您想下载并离线运行这些练习，请参阅有关设置本地环境的说明。**"
   ]
  },
  {
   "cell_type": "markdown",
   "metadata": {},
   "source": [
    "### Pandas 使用入门\n",
    "\n",
    "机器学习速成课程中的编程练习使用 Pandas 库来操控数据集。如果您不熟悉 Pandas，最好先学习 Pandas 简介教程，该教程介绍了练习中使用的主要 Pandas 功能。"
   ]
  },
  {
   "cell_type": "markdown",
   "metadata": {},
   "source": [
    "### 低阶 TensorFlow 基础知识\n",
    "\n",
    "机器学习速成课程中的编程练习使用 TensorFlow 的高阶 tf.estimator API 来配置模型。如果您有兴趣从头开始构建 TensorFlow 模型，请学习以下教程：\n",
    "\n",
    "- TensorFlow Hello World 在低阶 TensorFlow 中编码的“Hello World”。\n",
    "- TensorFlow 编程概念 演示了 TensorFlow 应用中的基本组件：张量、指令、图和会话。\n",
    "- 创建和操控张量 张量快速入门：TensorFlow 编程中的核心概念。此外，还提供了线性代数中的矩阵加法和乘法方面的复习进修内容。"
   ]
  },
  {
   "cell_type": "markdown",
   "metadata": {},
   "source": [
    "## 主要概念和工具\n",
    "\n",
    "机器学习速成课程中介绍并应用了以下概念和工具。有关详情，请参阅链接的资源。"
   ]
  },
  {
   "cell_type": "markdown",
   "metadata": {},
   "source": [
    "### 数学\n",
    "\n",
    "#### 代数\n",
    "- 变量、系数和函数\n",
    "- 线性方程式，例如 y=b+w1x1+w2x2\n",
    "- 对数和对数方程式，例如 y=ln(1+ez)\n",
    "- S 型函数\n",
    "\n",
    "#### 线性代数\n",
    "\n",
    "- 张量和张量等级\n",
    "- 矩阵乘法\n",
    "- 三角学\n",
    "- Tanh（作为激活函数进行讲解，无需提前掌握相关知识）\n",
    "\n",
    "#### 统计信息\n",
    "\n",
    "- 平均值、中间值、离群值和标准偏差\n",
    "- 能够读懂直方图\n",
    "\n",
    "#### 微积分（可选，适合高级主题）\n",
    "\n",
    "- 导数概念（您不必真正计算导数）\n",
    "- 梯度或斜率\n",
    "- 偏导数（与梯度紧密相关）\n",
    "- 链式法则（可让您全面了解用于训练神经网络的反向传播算法）"
   ]
  },
  {
   "cell_type": "markdown",
   "metadata": {},
   "source": [
    "### Python 编程\n",
    "\n",
    "#### 基础 Python\n",
    "\n",
    "Python 教程中介绍了以下 Python 基础知识：\n",
    "\n",
    "- 定义和调用函数：使用位置和关键字参数\n",
    "\n",
    "- 字典、列表、集合（创建、访问和迭代）\n",
    "\n",
    "- for 循环：包含多个迭代器变量的 for 循环（例如 for a, b in [(1,2), (3,4)]）\n",
    "\n",
    "- if/else 条件块和条件表达式\n",
    "\n",
    "- 字符串格式化（例如 '%.2f' % 3.14）\n",
    "\n",
    "- 变量、赋值、基本数据类型（int、float、bool、str）\n",
    "\n",
    "- pass 语句\n",
    "\n",
    "#### 中级 Python\n",
    "\n",
    "Python 教程还介绍了以下更高级的 Python 功能：\n",
    "\n",
    "- 列表推导式\n",
    "- Lambda 函数"
   ]
  },
  {
   "cell_type": "markdown",
   "metadata": {},
   "source": [
    "### 第三方 Python 库\n",
    "\n",
    "机器学习速成课程代码示例使用了第三方库提供的以下功能。无需提前熟悉这些库；您可以在需要时查询相关内容。\n",
    "\n",
    "#### Matplotlib（适合数据可视化）\n",
    "\n",
    "- pyplot 模块\n",
    "- cm 模块\n",
    "- gridspec 模块\n",
    "\n",
    "#### Seaborn（适合热图）\n",
    "\n",
    "- heatmap 函数\n",
    "\n",
    "####  Pandas（适合数据处理）\n",
    "\n",
    "- DataFrame 类\n",
    "\n",
    "#### NumPy（适合低阶数学运算）\n",
    "\n",
    "- linspace 函数\n",
    "- random 函数\n",
    "- array 函数\n",
    "- arange 函数\n",
    "\n",
    "#### scikit-learn（适合评估指标）\n",
    "\n",
    "- metrics 模块"
   ]
  },
  {
   "cell_type": "markdown",
   "metadata": {},
   "source": [
    "### Bash 终端/云端控制台\n",
    "\n",
    "要在本地计算机上或云端控制台中运行编程练习，您应该能熟练使用命令行：\n",
    "\n",
    "- [Bash 参考手册](https://tiswww.case.edu/php/chet/bash/bashref.html)\n",
    "- [Bash 快速参考表](https://github.com/LeCoupa/awesome-cheatsheets/blob/master/languages/bash.sh)\n",
    "- [了解 Shell](http://www.learnshell.org/)"
   ]
  },
  {
   "cell_type": "markdown",
   "metadata": {},
   "source": [
    "##  |[Content](Index.ipynb)|[机器学习简介](0.0-机器学习简介.ipynb)|"
   ]
  }
 ],
 "metadata": {
  "kernelspec": {
   "display_name": "Python 3",
   "language": "python",
   "name": "python3"
  },
  "language_info": {
   "codemirror_mode": {
    "name": "ipython",
    "version": 3
   },
   "file_extension": ".py",
   "mimetype": "text/x-python",
   "name": "python",
   "nbconvert_exporter": "python",
   "pygments_lexer": "ipython3",
   "version": "3.6.4"
  }
 },
 "nbformat": 4,
 "nbformat_minor": 2
}

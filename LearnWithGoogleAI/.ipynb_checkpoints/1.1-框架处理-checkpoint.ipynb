{
 "cells": [
  {
   "cell_type": "markdown",
   "metadata": {},
   "source": [
    "\n"
   ]
  },
  {
   "cell_type": "markdown",
   "metadata": {},
   "source": [
    "##  [  机器学习简介  ](0.0-机器学习简介.ipynb)||[  目录  ](Index.ipynb)||[   深入了解机器学习   ](1.2-深入了解机器学习.ipynb)"
   ]
  },
  {
   "cell_type": "markdown",
   "metadata": {},
   "source": [
    "# 问题构建 (Framing)：机器学习主要术语"
   ]
  },
  {
   "cell_type": "markdown",
   "metadata": {},
   "source": [
    "### **什么是（监督式）机器学习？简单来说，它的定义如下：**\n",
    "\n",
    "``机器学习系统通过学习如何组合输入信息来对从未见过的数据做出有用的预测。``\n",
    "下面我们来了解一下机器学习的基本术语。"
   ]
  },
  {
   "cell_type": "markdown",
   "metadata": {},
   "source": [
    "## 标签\n",
    "\n",
    "在简单线性回归中，标签是我们要预测的事物，即 $y$ 变量。标签可以是小麦未来的价格、图片中显示的动物品种、音频剪辑的含义或任何事物。"
   ]
  },
  {
   "cell_type": "markdown",
   "metadata": {},
   "source": [
    "## 特征\n",
    "\n",
    "在简单线性回归中，特征是输入变量，即 $x$ 变量。简单的机器学习项目可能会使用单个特征，而比较复杂的机器学习项目可能会使用数百万个特征， 按如下方式指定： $ \\{  x_{1}, x_{2}, x_{3}, .... x_{n} \\}$ \n",
    "\n",
    "在垃圾检测器示例中，特征可能包括：\n",
    "- 电子邮件文本中的字词\n",
    "- 发件人的地址\n",
    "- 发送电子邮件的时段\n",
    "- 电子邮件中包含“一种奇怪的把戏”这样的短语。\n",
    "- ......."
   ]
  },
  {
   "cell_type": "markdown",
   "metadata": {},
   "source": [
    "## 样本\n",
    "样本是指数据的特定实例：$x$。（我们采用粗体 $x$ 表示它是一个矢量。）我们将样本分为以下两类：\n",
    "\n",
    "- **有标签样本**\n",
    "- **无标签样本**"
   ]
  },
  {
   "cell_type": "markdown",
   "metadata": {},
   "source": [
    "**有标签样本**同时包含**特征**和**标签**。即：\n",
    "\n",
    "```\n",
    "  labeled examples: {features, label}: (x, y)\n",
    "```\n",
    "\n",
    "*我们使用有标签样本来**训练**模型。在我们的垃圾邮件检测器示例中，有标签样本是用户明确标记为“垃圾邮件”或“非垃圾邮件”的各个电子邮件。*"
   ]
  },
  {
   "cell_type": "markdown",
   "metadata": {},
   "source": [
    "例如，下表显示了从包含加利福尼亚州房价信息的[数据集](https://developers.google.cn/machine-learning/crash-course/california-housing-data-description)中抽取的 5 个有标签样本：\n",
    "\n",
    "|housingMedianAge(特征)|totalRooms(特征)|totalBedrooms(特征)|medianHouseValue(标签)|\n",
    "|----------------|----------|-------------|----------------|\n",
    "|15\t|5612\t|1283|\t66900|\n",
    "|19\t|7650\t|1901\t|80100|\n",
    "|17\t|720\t|174\t|85700|\n",
    "|14\t|1501\t|337\t|73400|\n",
    "|20\t|1454\t|326\t|65500|\n"
   ]
  },
  {
   "cell_type": "markdown",
   "metadata": {},
   "source": [
    "**无标签样本**包含**特征**，但**不包含标签**。即：\n",
    "\n",
    "```\n",
    "  unlabeled examples: {features, ?}: (x, ?)\n",
    "```\n",
    "\n",
    "*在使用有标签样本训练了我们的模型之后，我们会使用该模型来预测无标签样本的标签。在垃圾邮件检测器示例中，无标签样本是用户尚未添加标签的新电子邮件。*"
   ]
  },
  {
   "cell_type": "markdown",
   "metadata": {},
   "source": [
    "## 模型\n",
    "\n",
    "模型定义了特征与标签之间的关系。例如，垃圾邮件检测模型可能会将某些特征与“垃圾邮件”紧密联系起来。我们来重点介绍一下模型生命周期的两个阶段：\n",
    "\n",
    "- **训练**表示**创建或学习**模型。也就是说，您向模型展示*有标签样本*，让模型逐渐学习**特征**与**标签**之间的关系\n",
    "\n",
    "\n",
    "- **推断**表示将训练后的模型应用于*无标签样本*。也就是说，您使用训练后的模型来做出有用的预测 (y')。例如，在推断期间，您可以针对新的无标签样本预测 medianHouseValue。"
   ]
  },
  {
   "cell_type": "markdown",
   "metadata": {},
   "source": [
    "## 回归与分类\n",
    "\n",
    "\n",
    "回归模型可预测连续值。例如，回归模型做出的预测可回答如下问题：\n",
    "\n",
    "\n",
    "- 加利福尼亚州一栋房产的价值是多少？\n",
    "\n",
    "\n",
    "- 用户点击此广告的概率是多少？\n",
    "\n",
    "\n",
    "分类模型可预测离散值。例如，分类模型做出的预测可回答如下问题：\n",
    "\n",
    "- 某个指定电子邮件是垃圾邮件还是非垃圾邮件？\n",
    "\n",
    "\n",
    "- 这是一张狗、猫还是仓鼠图片？"
   ]
  },
  {
   "cell_type": "markdown",
   "metadata": {},
   "source": [
    "### [关键词](关键字.ipynb)\n",
    "\n",
    "- 分类模型\n",
    "- 样本\n",
    "- 特征\n",
    "- 推断\n",
    "- 标签\n",
    "- 模型\n",
    "- 回归\n",
    "- 训练"
   ]
  },
  {
   "cell_type": "markdown",
   "metadata": {},
   "source": [
    "### [问题构建 (Framing)：检查您的理解情况](https://developers.google.cn/machine-learning/crash-course/framing/check-your-understanding)"
   ]
  },
  {
   "cell_type": "markdown",
   "metadata": {},
   "source": [
    "##  [  机器学习简介  ](0.0-机器学习简介.ipynb)||[  目录  ](Index.ipynb)||[   深入了解机器学习   ](1.2-深入了解机器学习.ipynb)"
   ]
  }
 ],
 "metadata": {
  "kernelspec": {
   "display_name": "Python 3",
   "language": "python",
   "name": "python3"
  },
  "language_info": {
   "codemirror_mode": {
    "name": "ipython",
    "version": 3
   },
   "file_extension": ".py",
   "mimetype": "text/x-python",
   "name": "python",
   "nbconvert_exporter": "python",
   "pygments_lexer": "ipython3",
   "version": "3.6.4"
  }
 },
 "nbformat": 4,
 "nbformat_minor": 2
}

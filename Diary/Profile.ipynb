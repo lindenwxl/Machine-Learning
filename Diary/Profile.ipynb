{
 "cells": [
  {
   "cell_type": "markdown",
   "metadata": {},
   "source": [
    "## ``岗位申请：数据挖掘岗``"
   ]
  },
  {
   "cell_type": "markdown",
   "metadata": {},
   "source": [
    "## 吴晓亮（``30岁``）\n",
    "\n",
    "\n",
    "#### ``电话``： 18964781361\n",
    "#### ``邮件``： holyrisewu@126.com\n",
    "#### ``职业``： 量化工程师\n",
    "#### ``学历`` ： 本科学士\n",
    "\n",
    "---\n",
    "\n",
    "## 个人简介：\n",
    "\n",
    "\n",
    "您好，我是一位居住在上海市浦东新区的量化工程师，自2011年一直从事金融行业，擅长于数据科学（具备算法、统计学、数学和python方面知识），在金融学、经济学方面有一定基础，具备机器学习算法基础，准备向数据科学家和机器学习方面发展.\n",
    "\n",
    "\n",
    "## 教育背景\n",
    "\n",
    "#### ``2006.09-2010.07``: 三峡大学---->数学与应用数学----> 本科学士\n",
    "```\n",
    " 主要课程： 微积分、高等代数、概率论及数理统计等\n",
    "```\n",
    "\n",
    "#### ``2017.01-至今``: Coursera在线课程\n",
    "```\n",
    " 机器学习(Machine Learning)： Andrew Ng, Stanford University \n",
    " Introduction to Data Science in Python: Christopher Brooks, University of Michigan\n",
    " Applied Machine Learning in Python: Kevyn Collins-Thompsonby, University of Michigan\n",
    "```\n",
    "\n",
    "## 工作经历\n",
    "\n",
    "### 量化工程师\n",
    "```\n",
    " 上海青晟财富管理有限公司\n",
    " 2016年 4月 -- 至今 （2年）\n",
    " 职位描述：\n",
    "    1、利用数学、统计学、算法等知识，结合编程语言（Python）对金融行业数据进行处理，挖掘交易机会。\n",
    "    2、通过量化交易平台，设计量化交易策略，管理资金账户.\n",
    "```\n",
    "\n",
    "### 期货高级研究员\n",
    "```\n",
    " 暨升贸易咨询（上海）有限公司\n",
    " 2015年 1月 -- 2016年 2月（1年）\n",
    " 职位描述：\n",
    "    1、一年内两次升职，由期货交易员升职为期货高级研究员，后提升为总经理助理。\n",
    "    2、对期货基本面数据进行分析，进行定量化研究，开发量化交易策略。\n",
    "    3、参与黑色产业链、化工产业链调研，定期撰写报告，汇总与同行业研究人员的交流结论.\n",
    "```"
   ]
  }
 ],
 "metadata": {
  "kernelspec": {
   "display_name": "Python 3",
   "language": "python",
   "name": "python3"
  },
  "language_info": {
   "codemirror_mode": {
    "name": "ipython",
    "version": 3
   },
   "file_extension": ".py",
   "mimetype": "text/x-python",
   "name": "python",
   "nbconvert_exporter": "python",
   "pygments_lexer": "ipython3",
   "version": "3.6.3"
  }
 },
 "nbformat": 4,
 "nbformat_minor": 2
}

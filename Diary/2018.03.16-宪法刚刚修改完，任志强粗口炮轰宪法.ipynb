{
 "cells": [
  {
   "cell_type": "markdown",
   "metadata": {},
   "source": [
    "3月11日，社交媒体上流传一段任志强在中国经济50人论坛中讲话的视频，视频显示满头白发的任志强“大炮”本色依旧不减当年。他直指宪法中存在的双轨制规定，称要实现高质量发展，就要修改宪法，取消宪法中各种双轨制的限制。值得注意的是，中国经济50人论坛是由大陆经济学界人士共同发起组成的。习近平的“首席金融智囊”刘鹤是该论坛的核心发起人。本次年会于2月25日举办，主题是“高质量发展” 。\n",
    "\n",
    "---\n",
    "任志强在讲话中针对多个经济和社会问题提出自己的看法，直言 “实现高质量发展唯一之路是修改宪法，取消宪法中各种双轨制的限制”。“这么多一号文件，强调的是农民永远是农民，生下来是农民，世世代代还是农民，因为宪法就这么定的。如果不修改宪法，还让农民永远是农民，我们就完了，也不可能有高质量的发展。”他个人认为，让农民回去当农民是非常错误的战略。说到城乡差距时，任志强说：“城乡之间的界线要打破了才能空间自由配置，如果城乡之间的界线不打破，你配置个屁啊！”"
   ]
  },
  {
   "cell_type": "markdown",
   "metadata": {},
   "source": [
    "---"
   ]
  }
 ],
 "metadata": {
  "kernelspec": {
   "display_name": "Python 3",
   "language": "python",
   "name": "python3"
  },
  "language_info": {
   "codemirror_mode": {
    "name": "ipython",
    "version": 3
   },
   "file_extension": ".py",
   "mimetype": "text/x-python",
   "name": "python",
   "nbconvert_exporter": "python",
   "pygments_lexer": "ipython3",
   "version": "3.6.4"
  }
 },
 "nbformat": 4,
 "nbformat_minor": 2
}

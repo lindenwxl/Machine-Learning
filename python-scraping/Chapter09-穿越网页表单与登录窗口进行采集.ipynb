{
 "cells": [
  {
   "cell_type": "markdown",
   "metadata": {},
   "source": [
    "# 穿越网页表单与登录窗口进行采集\n",
    "\n",
    "到目前为止，我们示例中的网络爬虫在和大多数网站的服务器进行数据交互时，都是用\n",
    "HTTP 协议的 GET 方法去请求信息。这一章，我们将重点介绍 POST 方法，即把信息推送给\n",
    "网络服务器进行存储和分析。\n",
    "\n",
    "页面表单基本上可以看成是一种用户提交 POST 请求的方式，且这种请求方式是服务器能够\n",
    "理解和使用的。就像网站的 URL 链接可以帮助用户发送 GET 请求一样，HTML 表单可以\n",
    "帮助用户发出 POST 请求。当然，我们也可以用一点儿代码来自己创建这些请求，然后通过\n",
    "网络爬虫把它们提交给服务器。"
   ]
  },
  {
   "cell_type": "code",
   "execution_count": null,
   "metadata": {
    "collapsed": true
   },
   "outputs": [],
   "source": []
  }
 ],
 "metadata": {
  "kernelspec": {
   "display_name": "Python 3",
   "language": "python",
   "name": "python3"
  },
  "language_info": {
   "codemirror_mode": {
    "name": "ipython",
    "version": 3
   },
   "file_extension": ".py",
   "mimetype": "text/x-python",
   "name": "python",
   "nbconvert_exporter": "python",
   "pygments_lexer": "ipython3",
   "version": "3.6.3"
  }
 },
 "nbformat": 4,
 "nbformat_minor": 2
}

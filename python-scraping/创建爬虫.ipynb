{
 "cells": [
  {
   "cell_type": "markdown",
   "metadata": {},
   "source": [
    "# 创建爬虫\n",
    "\n",
    "### 重点介绍网络数据采集的基本原理\n",
    "\n",
    "- 1.0 如何用Python从网络服务器请求信息\n",
    "\n",
    "\n",
    "- 2.0 如何对服务器的响应做基本的处理\n",
    "\n",
    "\n",
    "- 3.0 如何自动化手段与网站进行交互\n",
    "\n",
    "\n",
    "- 4.0 创建出具有域名、信息收集以及信息存储功能的爬虫"
   ]
  },
  {
   "cell_type": "markdown",
   "metadata": {},
   "source": [
    "### 一般人在思考“网络爬虫”时通常的想法：\n",
    "\n",
    "- 通过网站域名获取HTML 数据\n",
    "\n",
    "- 根据目标信息解析数据\n",
    "\n",
    "- 存储目标信息\n",
    "\n",
    "- 如果有必要，移动到另一个网页重复这个过程\n",
    "\n",
    "这将为你学习本书第二部分中更复杂的项目奠定坚实的基础"
   ]
  }
 ],
 "metadata": {
  "kernelspec": {
   "display_name": "Python 3",
   "language": "python",
   "name": "python3"
  },
  "language_info": {
   "codemirror_mode": {
    "name": "ipython",
    "version": 3
   },
   "file_extension": ".py",
   "mimetype": "text/x-python",
   "name": "python",
   "nbconvert_exporter": "python",
   "pygments_lexer": "ipython3",
   "version": "3.6.3"
  }
 },
 "nbformat": 4,
 "nbformat_minor": 2
}

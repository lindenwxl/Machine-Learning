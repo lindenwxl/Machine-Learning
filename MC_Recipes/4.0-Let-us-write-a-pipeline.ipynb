{
 "cells": [
  {
   "cell_type": "markdown",
   "metadata": {},
   "source": [
    "仅用12行代码，我们即可编写一个基本的流水线，进行监督式学习。同时，会讨论训练数据与测试数据。我们还会锐化直觉，深入了解从数据中“学习”的概念。\n",
    "\n",
    "多个分类器解决同一个问题. 关于一个算法从数据中学习的真正含义."
   ]
  },
  {
   "cell_type": "markdown",
   "metadata": {},
   "source": [
    "## Use tree"
   ]
  },
  {
   "cell_type": "code",
   "execution_count": 16,
   "metadata": {
    "scrolled": true
   },
   "outputs": [
    {
     "name": "stdout",
     "output_type": "stream",
     "text": [
      "0.9734513274336283\n"
     ]
    }
   ],
   "source": [
    "from sklearn import datasets\n",
    "from sklearn.model_selection import train_test_split \n",
    "from sklearn import tree\n",
    "from sklearn.metrics import accuracy_score\n",
    "\n",
    "# COLLECT TRAINING DATA\n",
    "\n",
    "iris = datasets.load_iris()\n",
    "\n",
    "X = iris.data \n",
    "y = iris.target\n",
    "\n",
    "X_train, X_test, y_train, y_test = train_test_split(X, y, test_size= .75) \n",
    "\n",
    "#TRAIN CLASSIFIER\n",
    "\n",
    "my_classifier = tree.DecisionTreeClassifier() \n",
    "\n",
    "my_classifier.fit(X_train, y_train)\n",
    "\n",
    "# MAKE PREDICTIONS\n",
    "\n",
    "predictions = my_classifier.predict(X_test)\n",
    "\n",
    "# CHECK ACCURACY\n",
    "\n",
    "print(accuracy_score(y_test, predictions))"
   ]
  },
  {
   "cell_type": "markdown",
   "metadata": {},
   "source": [
    "## Use KNeighborsClassifier"
   ]
  },
  {
   "cell_type": "code",
   "execution_count": 14,
   "metadata": {},
   "outputs": [
    {
     "name": "stdout",
     "output_type": "stream",
     "text": [
      "0.9823008849557522\n"
     ]
    }
   ],
   "source": [
    "from sklearn import datasets\n",
    "from sklearn.model_selection import train_test_split \n",
    "from sklearn.neighbors import KNeighborsClassifier\n",
    "from sklearn.metrics import accuracy_score\n",
    "\n",
    "# COLLECT TRAINING DATA\n",
    "\n",
    "iris = datasets.load_iris()\n",
    "\n",
    "X = iris.data \n",
    "y = iris.target\n",
    "\n",
    "X_train, X_test, y_train, y_test = train_test_split(X, y, test_size= .75) \n",
    "\n",
    "#TRAIN CLASSIFIER\n",
    "\n",
    "my_classifier = KNeighborsClassifier()\n",
    "\n",
    "my_classifier.fit(X_train, y_train)\n",
    "\n",
    "# MAKE PREDICTIONS\n",
    "\n",
    "predictions = my_classifier.predict(X_test)\n",
    "\n",
    "# CHECK ACCURACY\n",
    "\n",
    "print(accuracy_score(y_test, predictions))"
   ]
  },
  {
   "cell_type": "markdown",
   "metadata": {},
   "source": [
    "##### Let's talk a little bit more about what means to learn from data.\n",
    "\n",
    "The features $x$ and the labels $y$, $f(x) = y$, because they were the input and output of a function.\n",
    "\n",
    "```python\n",
    "def classify(features):\n",
    "    # do some loggic\n",
    "    return label\n",
    "```\n"
   ]
  },
  {
   "cell_type": "markdown",
   "metadata": {},
   "source": [
    "The difference between ``Tree`` and  ``KNeighborsClassifier``"
   ]
  }
 ],
 "metadata": {
  "kernelspec": {
   "display_name": "Python 3",
   "language": "python",
   "name": "python3"
  },
  "language_info": {
   "codemirror_mode": {
    "name": "ipython",
    "version": 3
   },
   "file_extension": ".py",
   "mimetype": "text/x-python",
   "name": "python",
   "nbconvert_exporter": "python",
   "pygments_lexer": "ipython3",
   "version": "3.6.4"
  }
 },
 "nbformat": 4,
 "nbformat_minor": 2
}

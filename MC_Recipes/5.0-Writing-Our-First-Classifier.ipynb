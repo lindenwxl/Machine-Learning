{
 "cells": [
  {
   "cell_type": "markdown",
   "metadata": {},
   "source": [
    "This is a milestone if you're new to machine learning. We'll start with our code from episode #4 and comment out the classifier we imported. \n",
    "\n",
    "Then we'll start our code a simple replacement--using a scrappy version of K-Nearest Neighbors."
   ]
  },
  {
   "cell_type": "markdown",
   "metadata": {},
   "source": [
    "## Pros\n",
    "\n",
    "- Relatively simple\n",
    "\n",
    "\n",
    "## Cons\n",
    "\n",
    "- Computationally intensive\n",
    "\n",
    "- Hard to represent relationships between features\n"
   ]
  },
  {
   "cell_type": "markdown",
   "metadata": {},
   "source": [
    "Outline\n",
    "\n",
    "- Step 1: Comment out imports\n",
    "\n",
    "- Step 2: Implement a class\n",
    "\n",
    "- Step 3: Understand interface\n",
    "\n",
    "- Step 4: Get pipline working\n",
    "\n",
    "- Step 5: Intro to k-NN\n",
    "\n",
    "- Step 6: Measure distance\n",
    "\n",
    "- Step 7: Implement nearest neighbor algorithm\n",
    "\n",
    "- Step 8: Run pipeline"
   ]
  },
  {
   "cell_type": "code",
   "execution_count": 10,
   "metadata": {},
   "outputs": [
    {
     "name": "stdout",
     "output_type": "stream",
     "text": [
      "0.9733333333333334\n"
     ]
    }
   ],
   "source": [
    "from sklearn import datasets\n",
    "from sklearn.model_selection import train_test_split\n",
    "from sklearn.metrics import accuracy_score\n",
    "from scipy.spatial import distance\n",
    "\n",
    "def euc(a,b): \n",
    "    #function to return distance between points\n",
    "    return distance.euclidean(a,b)\n",
    "\n",
    "# classifier class\n",
    "class ScrappyKNN(): \n",
    "    def fit(self, X_train, y_train): #function to train the classifier\n",
    "        self.X_train = X_train\n",
    "        self.y_train = y_train\n",
    "\n",
    "    def predict(self, X_test):\n",
    "        predictions = []\n",
    "        for row in X_test: #for each value in the testing features, predict the closest point\n",
    "            label = self.closest(row)\n",
    "            predictions.append(label)\n",
    "        return predictions\n",
    "\n",
    "    def closest(self, row):\n",
    "        best_dist = euc(row, self.X_train[0]) #initial best value\n",
    "        best_index = 0\n",
    "        for i in range(1, len(self.X_train)): #iterate over each point to find the closest\n",
    "            dist = euc(row, self.X_train[i])\n",
    "            if dist < best_dist:\n",
    "                best_dist = dist\n",
    "                best_index = i #sets the index of the shortest distance so we can obtain the label for it\n",
    "        return self.y_train[best_index]\n",
    "\n",
    "# COLLECT TRAINING DATA\n",
    "iris = datasets.load_iris()\n",
    "\n",
    "X = iris.data #input FEATURES\n",
    "y = iris.target #output LABELS\n",
    "\n",
    "\n",
    "X_train, X_test, y_train, y_test = train_test_split(X, y, test_size= .5) #splits the data so some can be used for testing 50%\n",
    "\n",
    "# TRAIN CLASSIFIER\n",
    "my_classifier = ScrappyKNN()\n",
    "my_classifier.fit(X_train, y_train)\n",
    "\n",
    "# MAKE PREDICTIONS\n",
    "predictions = my_classifier.predict(X_test)\n",
    "\n",
    "# CHECK ACCURACY\n",
    "print(accuracy_score(y_test, predictions))"
   ]
  },
  {
   "cell_type": "code",
   "execution_count": null,
   "metadata": {},
   "outputs": [],
   "source": []
  },
  {
   "cell_type": "code",
   "execution_count": null,
   "metadata": {},
   "outputs": [],
   "source": []
  }
 ],
 "metadata": {
  "kernelspec": {
   "display_name": "Python 3",
   "language": "python",
   "name": "python3"
  },
  "language_info": {
   "codemirror_mode": {
    "name": "ipython",
    "version": 3
   },
   "file_extension": ".py",
   "mimetype": "text/x-python",
   "name": "python",
   "nbconvert_exporter": "python",
   "pygments_lexer": "ipython3",
   "version": "3.6.4"
  }
 },
 "nbformat": 4,
 "nbformat_minor": 2
}

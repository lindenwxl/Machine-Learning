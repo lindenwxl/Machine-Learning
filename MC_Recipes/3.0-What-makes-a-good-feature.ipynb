{
 "cells": [
  {
   "cell_type": "markdown",
   "metadata": {},
   "source": [
    "优秀的特征不仅能提供有用的信息，而且须是独立、简单的。\n",
    "\n",
    "本节内容，如何使用训练集，使得特征可视化.\n",
    "\n",
    "下一节将会跟复习一下并强化概念，介绍更清晰的句法，花更多时间进行测试，并继续锐化监督式学习.\n",
    "\n",
    "\n",
    "\n",
    "Just a note. Features have a very different meaning when working with image data. As we saw in ep #1, we don't want to write rules to process images in order to extract features. Instead, we can actually use the raw pixels as features, and let the classifier figure it out. "
   ]
  },
  {
   "cell_type": "code",
   "execution_count": 9,
   "metadata": {},
   "outputs": [
    {
     "data": {
      "image/png": "[encoded data removed]",
      "text/plain": [
       "<Figure size 432x288 with 1 Axes>"
      ]
     },
     "metadata": {},
     "output_type": "display_data"
    }
   ],
   "source": [
    "import numpy as np\n",
    "import matplotlib.pyplot as plt\n",
    "\n",
    "greyhounds = 500\n",
    "labs = 500\n",
    "\n",
    "grey_height = 28 + 4 * np.random.randn(greyhounds)\n",
    "lab_height = 24 + 4 * np.random.randn(labs)\n",
    "\n",
    "plt.hist([grey_height, lab_height], stacked = True)\n",
    "plt.show()"
   ]
  },
  {
   "cell_type": "markdown",
   "metadata": {},
   "source": [
    "**Height is a useful feature but it's not perfect!**\n",
    "\n",
    "That's why in MC ,you almost always need multiple features.\n",
    "\n",
    "1. Avoid useless features!\n",
    "2. Independent features are best!\n",
    "3. Avoid redundant features!\n",
    "4. Featurs should be easy to understand. *(Simpler relationships are easier to learn.)*"
   ]
  },
  {
   "cell_type": "markdown",
   "metadata": {},
   "source": [
    "## Ideal features are\n",
    "\n",
    "- Informative\n",
    "\n",
    "- Independent\n",
    "\n",
    "- Simple"
   ]
  }
 ],
 "metadata": {
  "kernelspec": {
   "display_name": "Python 3",
   "language": "python",
   "name": "python3"
  },
  "language_info": {
   "codemirror_mode": {
    "name": "ipython",
    "version": 3
   },
   "file_extension": ".py",
   "mimetype": "text/x-python",
   "name": "python",
   "nbconvert_exporter": "python",
   "pygments_lexer": "ipython3",
   "version": "3.6.4"
  }
 },
 "nbformat": 4,
 "nbformat_minor": 2
}

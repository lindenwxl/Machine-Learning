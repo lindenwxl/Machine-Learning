{
 "cells": [
  {
   "cell_type": "markdown",
   "metadata": {},
   "source": [
    "TensorFlow was designed to be flexible, scalable, and production-ready, and existing frameworks\n",
    "arguably hit only two out of the three of these. Here are some of TensorFlow’s highlights:\n",
    "\n",
    "- It runs not only on Windows, Linux, and macOS, but also on mobile devices,including both iOS and Android.\n",
    "\n",
    "\n",
    "- It provides a very simple Python API called TF.Learn2 (tensorflow.contrib.learn), compatible with Scikit-Learn. As you will see, you can use it to train various types of neural networks in just a few lines of code. It was previously an independent project called Scikit Flow (or skflow).\n",
    "\n",
    "\n",
    "- It also provides another simple API called TF-slim (tensorflow.contrib.slim)to simplify building, training, and evaluating neural networks.\n",
    "\n",
    "\n",
    "- Several other high-level APIs have been built independently on top of Tensor‐Flow, such as Keras or Pretty Tensor.\n",
    "\n",
    "\n",
    "- Its main Python API offers much more flexibility (at the cost of higher complexity)to create all sorts of computations, including any neural network architecture you can think of.\n",
    "\n",
    "\n",
    "- It includes highly efficient C++ implementations of many ML operations, particularly those needed to build neural networks. There is also a C++ API to define your own high-performance operations.\n",
    "\n",
    "\n",
    "- It provides several advanced optimization nodes to search for the parameters that minimize a cost function. These are very easy to use since TensorFlow automatically takes care of computing the gradients of the functions you define. This is called automatic differentiating (or autodiff).\n",
    "\n",
    "\n",
    "- It also comes with a great visualization tool called TensorBoard that allows you to browse through the computation graph, view learning curves, and more.\n",
    "\n",
    "\n",
    "-  Google also launched a cloud service to run TensorFlow graphs.\n",
    "\n",
    "\n",
    "- Last but not least, it has a dedicated team of passionate and helpful developers,and a growing community contributing to improving it. It is one of the most popular open source projects on GitHub, and more and more great projects are being built on top of it (for examples, check out the resources page on https://www.tensorflow.org/, or https://github.com/jtoy/awesome-tensorflow). To ask technical questions, you should use http://stackoverflow.com/ and tag your question with \"tensorflow\". You can file bugs and feature requests through GitHub.For general discussions, join the Google group."
   ]
  },
  {
   "cell_type": "markdown",
   "metadata": {},
   "source": [
    "**Figure 9-1. A simple computation graph**\n",
    "\n",
    "<img align=\"left\" src=\"figures/figure9-1.png\">"
   ]
  },
  {
   "cell_type": "markdown",
   "metadata": {},
   "source": [
    "**Figure 9-2. Parallel computation on multiple CPUs/GPUs/servers**\n",
    "\n",
    "<img align=\"left\" src=\"figures/figure9-2.png\">"
   ]
  },
  {
   "cell_type": "markdown",
   "metadata": {},
   "source": [
    "## Creating Your First Graph and Running It in a Session\n",
    "\n",
    "The following code creates the graph represented in Figure 9-1:"
   ]
  },
  {
   "cell_type": "code",
   "execution_count": 1,
   "metadata": {},
   "outputs": [
    {
     "name": "stderr",
     "output_type": "stream",
     "text": [
      "D:\\ProgramData\\Anaconda3\\lib\\site-packages\\h5py\\__init__.py:34: FutureWarning: Conversion of the second argument of issubdtype from `float` to `np.floating` is deprecated. In future, it will be treated as `np.float64 == np.dtype(float).type`.\n",
      "  from ._conv import register_converters as _register_converters\n"
     ]
    }
   ],
   "source": [
    "import tensorflow as tf"
   ]
  },
  {
   "cell_type": "code",
   "execution_count": 3,
   "metadata": {
    "collapsed": true
   },
   "outputs": [],
   "source": [
    "x = tf.Variable(3, name=\"x\")\n",
    "y = tf.Variable(4, name=\"y\")\n",
    "\n",
    "f = x*x*y + y + 2  # It just creates a computation graph"
   ]
  },
  {
   "cell_type": "markdown",
   "metadata": {},
   "source": [
    "It just creates a computation graph. In fact, even the variables are not initialized\n",
    "yet. To evaluate this graph, you need to open a TensorFlow session and use it\n",
    "to initialize the variables and evaluate $f$.\n",
    "\n",
    "A TensorFlow session takes care of placing the operations onto devices such as CPUs and GPUs and running them, and it holds all the variable values. The following code creates a session, initializes the variables,\n",
    "and evaluates, and $f$ then closes the session (which frees up resources):"
   ]
  },
  {
   "cell_type": "code",
   "execution_count": 4,
   "metadata": {},
   "outputs": [
    {
     "name": "stdout",
     "output_type": "stream",
     "text": [
      "42\n"
     ]
    }
   ],
   "source": [
    "sess = tf.Session()\n",
    "sess.run(x.initializer)\n",
    "sess.run(y.initializer)\n",
    "result = sess.run(f)\n",
    "\n",
    "print(result)\n",
    "\n",
    "sess.close()"
   ]
  },
  {
   "cell_type": "markdown",
   "metadata": {},
   "source": [
    "Having to repeat ``sess.run()`` all the time is a bit cumbersome, but fortunately there is a better way:"
   ]
  },
  {
   "cell_type": "code",
   "execution_count": 6,
   "metadata": {},
   "outputs": [
    {
     "name": "stdout",
     "output_type": "stream",
     "text": [
      "42\n"
     ]
    }
   ],
   "source": [
    "with tf.Session() as sess:\n",
    "    x.initializer.run()\n",
    "    y.initializer.run()\n",
    "    result = f.eval()\n",
    "    print(result)"
   ]
  },
  {
   "cell_type": "markdown",
   "metadata": {},
   "source": [
    "Inside the with block, the session is set as the default session. Calling ``x.initializer.run()`` is equivalent to calling ``tf.get_default_session().run(x.initializer)``, and similarly ``f.eval()`` is equivalent to calling ``tf.get_default_session().run(f)``. This makes the code easier to read. Moreover,the session is automatically closed at the end of the block."
   ]
  },
  {
   "cell_type": "markdown",
   "metadata": {},
   "source": [
    "Instead of manually running the initializer for every single variable, you can use the ``global_variables_initializer()`` function. Note that it does not actually perform the initialization immediately, but rather creates a node in the graph that will initialize all variables when it is run:"
   ]
  },
  {
   "cell_type": "code",
   "execution_count": 7,
   "metadata": {},
   "outputs": [
    {
     "name": "stdout",
     "output_type": "stream",
     "text": [
      "42\n"
     ]
    }
   ],
   "source": [
    "init = tf.global_variables_initializer()  #  prepare an init node\n",
    "\n",
    "with tf.Session() as sess:\n",
    "    init.run()                           #  actually initialize all the variables\n",
    "    result = f.eval()\n",
    "    print(result)"
   ]
  },
  {
   "cell_type": "markdown",
   "metadata": {},
   "source": [
    "A TensorFlow program is typically split into two parts: the first part builds a computation\n",
    "graph (this is called the **construction phase**), and the second part runs it (this is\n",
    "the **execution phase**). The construction phase typically builds a computation graph\n",
    "representing the ML model and the computations required to train it. The execution\n",
    "phase generally runs a loop that evaluates a training step repeatedly (for example, one\n",
    "step per mini-batch), gradually improving the model parameters. We will go through\n",
    "an example shortly."
   ]
  },
  {
   "cell_type": "markdown",
   "metadata": {},
   "source": [
    "## Managing Graphs\n",
    "Any node you create is automatically added to the default graph:"
   ]
  },
  {
   "cell_type": "code",
   "execution_count": 8,
   "metadata": {},
   "outputs": [
    {
     "data": {
      "text/plain": [
       "True"
      ]
     },
     "execution_count": 8,
     "metadata": {},
     "output_type": "execute_result"
    }
   ],
   "source": [
    "x1 = tf.Variable(1)\n",
    "x1.graph is tf.get_default_graph()"
   ]
  },
  {
   "cell_type": "markdown",
   "metadata": {},
   "source": [
    "In most cases this is fine, but sometimes you may want to manage multiple independent\n",
    "graphs. You can do this by creating a new Graph and temporarily making it the\n",
    "default graph inside a with block, like so:"
   ]
  },
  {
   "cell_type": "code",
   "execution_count": 9,
   "metadata": {
    "collapsed": true
   },
   "outputs": [],
   "source": [
    "graph = tf.Graph()"
   ]
  },
  {
   "cell_type": "code",
   "execution_count": 13,
   "metadata": {},
   "outputs": [
    {
     "data": {
      "text/plain": [
       "(True, False)"
      ]
     },
     "execution_count": 13,
     "metadata": {},
     "output_type": "execute_result"
    }
   ],
   "source": [
    "with graph.as_default():\n",
    "    x2 = tf.Variable(2)\n",
    "\n",
    "x2.graph is graph,   x2.graph is tf.get_default_graph()"
   ]
  },
  {
   "cell_type": "markdown",
   "metadata": {},
   "source": [
    "```\n",
    "In Jupyter (or in a Python shell), it is common to run the same commands more than once while \n",
    "you are experimenting. As a result, you may end up with a default graph containing many\n",
    "duplicate nodes. One solution is to restart the Jupyter kernel (or the Python shell), but a \n",
    "more convenient solution is to just reset the default graph by running tf.reset_default_graph().\n",
    "```"
   ]
  },
  {
   "cell_type": "markdown",
   "metadata": {},
   "source": [
    "## Linear Regression with TensorFlow\n",
    "\n",
    "TensorFlow operations (also called ops for short) can take any number of inputs and\n",
    "produce any number of outputs."
   ]
  }
 ],
 "metadata": {
  "kernelspec": {
   "display_name": "Python 3",
   "language": "python",
   "name": "python3"
  },
  "language_info": {
   "codemirror_mode": {
    "name": "ipython",
    "version": 3
   },
   "file_extension": ".py",
   "mimetype": "text/x-python",
   "name": "python",
   "nbconvert_exporter": "python",
   "pygments_lexer": "ipython3",
   "version": "3.6.3"
  }
 },
 "nbformat": 4,
 "nbformat_minor": 2
}

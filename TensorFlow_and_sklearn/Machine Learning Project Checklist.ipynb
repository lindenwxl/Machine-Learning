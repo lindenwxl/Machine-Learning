{
 "cells": [
  {
   "cell_type": "markdown",
   "metadata": {},
   "source": [
    "# Machine Learning Project Checklist\n",
    "\n",
    "机器学习项目清单\n",
    "\n",
    "---\n",
    "This checklist can guide you through your Machine Learning projects. There are eight main steps:（这份清单可指导您完成机器学习项目。有八个主要步骤）\n",
    "\n",
    "1. Frame the problem and look at the big picture.（构建问题并且查看大图）\n",
    "2. Get the data.（获取数据）\n",
    "3. Explore the data to gain insights.（搜索数据以获取初步认知）\n",
    "4. Prepare the data to better expose the underlying data patterns to Machine Learning algorithms.（准备数据以更好地将底层数据模式提供给机器学习算法）\n",
    "5. Explore many different models and short-list the best ones.（探索许多不同的模型，并且简列出最好的模型）\n",
    "6. Fine-tune your models and combine them into a great solution.（微调你的模型，并将他们组合成一个更好的方案）\n",
    "7. Present your solution.（提出你的解决方案）\n",
    "8. Launch, monitor, and maintain your system.（启动、监视和维护你的系统）\n",
    "\n",
    "\n",
    "Obviously, you should feel free to adapt this checklist to your needs.（很明显，你应该随时根据自己的需求来调整这份清单）"
   ]
  },
  {
   "cell_type": "markdown",
   "metadata": {},
   "source": [
    "## Frame the Problem and Look at the Big Picture【构建问题】\n",
    "\n",
    "1. Define the objective in business terms.\n",
    "（用商业术语来定义目标）\n",
    "2. How will your solution be used?\n",
    "（你的解决方案如何使用）\n",
    "3. What are the current solutions/workarounds (if any)?（目前的解决方案是什么？（如果有的话？））\n",
    "4. How should you frame this problem (supervised/unsupervised, online/offline,etc.)?(你应该如何解决这个问题？（监督/无人监督， 在线/离线等？）)\n",
    "5. How should performance be measured?（应该如何衡量表现）\n",
    "6. Is the performance measure aligned with the business objective?（绩效指标是否与业务目标保持一致?）\n",
    "7. What would be the minimum performance needed to reach the business objective?(达到业务目标所需的最低性能是什么？)\n",
    "8. What are comparable problems? Can you reuse experience or tools?（什么是可比较的问题？你能重用经验或者工具吗？）\n",
    "9. Is human expertise available?（人力资源是否可用？）\n",
    "10. How would you solve the problem manually?（你会如何手动解决问题？）\n",
    "11. List the assumptions you (or others) have made so far.（列出你（或其他人）到目前为止所做的假设.）\n",
    "12. Verify assumptions if possible.（如果可能的话，验证假设.）"
   ]
  },
  {
   "cell_type": "markdown",
   "metadata": {},
   "source": [
    "## Get the Data\n",
    "Note: automate as much as possible so you can easily get fresh data.（注意：尽可能自动化，以便您可以轻松获取最新数据）\n",
    "1. List the data you need and how much you need.（列出你所需要的数据和需要的数量）\n",
    "2. Find and document where you can get that data.（查找并记录可以获取该数据的位置）\n",
    "3. Check how much space it will take.（检查它所需要的空间）\n",
    "4. Check legal obligations, and get authorization if necessary.（检查法律义务，并在必要时获得授权）\n",
    "5. Get access authorizations.（获取访问权限）\n",
    "6. Create a workspace (with enough storage space).（创建一个工作区（有足够的存储空间））\n",
    "7. Get the data.（获取数据）\n",
    "8. Convert the data to a format you can easily manipulate (without changing the data itself).（将数据转换成您可以轻松操作的格式（无需改变数据本身））\n",
    "9. Ensure sensitive information is deleted or protected (e.g., anonymized).（确保删除或保护敏感信息（如：匿名））\n",
    "10. Check the size and type of data (time series, sample, geographical, etc.).（检查数据的大小和类型（时间序列、样本、地理位置））\n",
    "11. Sample a test set, put it aside, and never look at it (no data snooping!).（对一个测试集进行抽样，放在一边，不要看它（没有数据监听））"
   ]
  },
  {
   "cell_type": "markdown",
   "metadata": {},
   "source": [
    "## Explore the Data（搜索数据）\n",
    "\n",
    "Note: try to get insights from a field expert for these steps.（注意：尝试从现场专家获取这些步骤的简介）\n",
    "1. Create a copy of the data for exploration (sampling it down to a manageable size if necessary).（为探索创建一份数据副本（如果需要，可将其抽样为可管理的大小））\n",
    "2. Create a Jupyter notebook to keep a record of your data exploration.（创建一个Jupyter笔记本以记录您的数据探索。）\n",
    "3. Study each attribute and its characteristics:（研究每个属性及其特征）\n",
    " -  Name （名称）\n",
    " -  Type (categorical, int/float, bounded/unbounded, text, structured, etc.)【类型（分类，int / float，有界/无界，文本，结构化等）】\n",
    " - % of missing values【缺失值的百分比】\n",
    " - Noisiness and type of noise (stochastic, outliers, rounding errors, etc.)【噪音和噪音类型（随机，异常值，舍入误差等）】\n",
    " - Possibly useful for the task?【可能对任务有用吗？】\n",
    " - Type of distribution (Gaussian, uniform, logarithmic, etc.)【分布类型（高斯，均匀，对数等）】\n",
    "4. For supervised learning tasks, identify the target attribute(s).【对于有监督的学习任务，确定目标属性。】\n",
    "5. Visualize the data.【数据可视化】\n",
    "6. Study the correlations between attributes.【研究属性之间的相关性】\n",
    "7. Study how you would solve the problem manually.【研究如何手动解决问题】\n",
    "8. Identify the promising transformations you may want to apply.【确定您可能想要应用的有希望的转换】\n",
    "9. Identify extra data that would be useful (go back to “Get the Data” on page 498).【确定有用的额外数据】\n",
    "10. Document what you have learned.【记录你学到的东西。】"
   ]
  },
  {
   "cell_type": "markdown",
   "metadata": {},
   "source": [
    "## Prepare the Data\n",
    "Notes:\n",
    "- Work on copies of the data (keep the original dataset intact).【处理数据的副本（保持原始数据集完整）】\n",
    "- Write functions for all data transformations you apply, for five reasons:【编写适用于所有数据转换的函数，原因有五：】\n",
    " - —So you can easily prepare the data the next time you get a fresh dataset（1.您可以在下次获取新数据集时轻松准备数据）\n",
    " - —So you can apply these transformations in future projects（2.你可以在未来的项目中应用这些转换）\n",
    " - —To clean and prepare the test set（3.清洁并准备测试装置）\n",
    " - —To clean and prepare new data instances once your solution is live（4. 在解决方案生效后清理并准备新的数据实例）\n",
    " - —To make it easy to treat your preparation choices as hyperparameters（5. 使超级参数处理您的准备选择变得容易）\n",
    "\n",
    "step1. Data cleaning:【步骤1。数据清理：】\n",
    "- Fix or remove outliers (optional).（修复或删除异常值（可选））\n",
    "- Fill in missing values (e.g., with zero, mean, median…) or drop their rows (orcolumns).（填写缺失值（例如，零，平均数，中位数......）或删除它们的行（或列））\n",
    "\n",
    "step2. Feature selection (optional):【第2步。功能选择（可选）】\n",
    "- Drop the attributes that provide no useful information for the task.（删除不提供任务有用信息的属性）\n",
    "\n",
    "step3. Feature engineering, where appropriate:【第3步。特征工程，如适用】\n",
    "- Discretize continuous features.（分散连续的功能）\n",
    "- Decompose features (e.g., categorical, date/time, etc.).（分解功能（例如，分类，日期/时间等））\n",
    "- Add promising transformations of features (e.g., $log(x), sqrt(x), x^2$, etc.).（添加有希望的特征变换（例如，log（x），sqrt（x），x2log（x），sqrt（x），x2等））\n",
    "- Aggregate features into promising new features.（将功能聚合成有前途的新功能）\n",
    "\n",
    "4. Feature scaling: standardize or normalize features.（功能缩放：标准化或标准化功能）"
   ]
  },
  {
   "cell_type": "markdown",
   "metadata": {},
   "source": [
    "## Short-List Promising Models（简列出可用的模型）\n",
    "Notes:\n",
    "- If the data is huge, you may want to sample smaller training sets so you can train many different models in a reasonable time (be aware that this penalizes complex models such as large neural nets or Random Forests).（如果数据很大，您可能需要对较小的训练集进行采样，以便您可以在合理的时间内训练许多不同的模型（请注意，这会对诸如大型神经网络或随机森林等复杂模型造成不利影响））\n",
    "-  Once again, try to automate these steps as much as possible.（再次尝试尽可能自动执行这些步骤）\n",
    "\n",
    "**step1**. Train many quick and dirty models from different categories (e.g., linear, naiveBayes, SVM, Random Forests, neural net, etc.) using standard parameters.【使用标准参数训练来自不同类别（例如，线性，朴素贝叶斯，SVM，随机森林，神经网络等）的许多快速和粗糙的模型】\n",
    "\n",
    "**step2**. Measure and compare their performance.【衡量并比较他们的表现】\n",
    "- For each model, use N-fold cross-validation and compute the mean and standard deviation of the performance measure on the N folds（对于每个模型，使用N倍交叉验证并计算N次折叠的性能测量的均值和标准差）.\n",
    "\n",
    "**step3**. Analyze the most significant variables for each algorithm.【分析每种算法的最重要变量】\n",
    "\n",
    "**step4**. Analyze the types of errors the models make.【分析模型产生的错误类型】\n",
    "- What data would a human have used to avoid these errors?（人们用什么数据来避免这些错误？）\n",
    "\n",
    "**step5**. Have a quick round of feature selection and engineering.【快速进行功能选择和工程设计】\n",
    "\n",
    "**step6**. Have one or two more quick iterations of the five previous steps.【对前面五个步骤进行一两个更快的迭代】\n",
    "\n",
    "**step7**. Short-list the top three to five most promising models, preferring models that make different types of errors.【简短列出前三到五个最有希望的模型，更喜欢使用不同类型错误的模型】"
   ]
  },
  {
   "cell_type": "markdown",
   "metadata": {},
   "source": [
    "## Fine-Tune the System（微调系统）\n",
    "\n",
    "Notes:\n",
    "- You will want to use as much data as possible for this step, especially as you move toward the end of fine-tuning.（您会希望尽可能多地使用此步骤的数据，特别是在您正在进行微调结束时）\n",
    "- As always automate what you can.（在你能力所及，一如既往的自动化处理）\n",
    "\n",
    "**step1**. Fine-tune the hyperparameters using cross-validation.【使用交叉验证对超参数进行微调】\n",
    "- Treat your data transformation choices as hyperparameters, especially when you are not sure about them (e.g., should I replace missing values with zero or with the median value? Or just drop the rows?).（把你的数据转换选择当作超参数处理，特别是当你不确定它们的时候（例如，我应该用0还是用中值替换缺失的值？或者只是删除行？））\n",
    "- Unless there are very few hyperparameter values to explore, prefer random search over grid search. If training is very long, you may prefer a Bayesian optimization approach (e.g., using Gaussian process priors, as described by Jasper Snoek, Hugo Larochelle, and Ryan Adams).（除非需要探索的超参数值很少，否则首选在网格搜索上进行随机搜索。如果训练时间很长，您可能更喜欢贝叶斯优化方法（例如，使用高斯过程先验，如Jasper Snoek，Hugo Larochelle和Ryan Adams所述））\n",
    "\n",
    "**step2**. Try Ensemble methods. Combining your best models will often perform better than running them individually.（尝试使用Ensemble方法。结合你最好的模型往往会比单独运行更好）\n",
    "\n",
    "**step3**. Once you are confident about your final model, measure its performance on the test set to estimate the generalization error.（一旦您对最终模型充满信心，就可以在测试集上测量其性能，以估计泛化误差。）\n",
    "\n",
    "#### Don’t tweak your model after measuring the generalization error:you would just start overfitting the test set.####\n",
    "（测量泛化误差后，不要调整模型：你正在过度拟合测试集。）"
   ]
  },
  {
   "cell_type": "markdown",
   "metadata": {},
   "source": [
    "## Present Your Solution（呈现你的解决方案）\n",
    "\n",
    "**step1**. Document what you have done.【记录你所做的事情】\n",
    "\n",
    "**step2**. Create a nice presentation.（创建一个不错的演示）\n",
    " - Make sure you highlight the big picture first.（确保首先突出重点）\n",
    " \n",
    "**step3**. Explain why your solution achieves the business objective.【解释为什么你的解决方案实现了业务目标】\n",
    "\n",
    "**step4**. Don’t forget to present interesting points you noticed along the way.【不要忘记介绍一下你注意到的有趣点。】\n",
    " -  Describe what worked and what did not.（描述什么有效，什么无效）\n",
    " -  List your assumptions and your system’s limitations.（列出您的假设和系统的限制）\n",
    " \n",
    "**step5**. Ensure your key findings are communicated through beautiful visualizations or easy-to-remember statements (e.g., “the median income is the number-one predictor of housing prices”).（确保您的关键调查结果通过美观的可视化或易于记忆的陈述进行沟通（例如，“收入中位数是房价的头号预测指标”））"
   ]
  },
  {
   "cell_type": "markdown",
   "metadata": {},
   "source": [
    "## Launch!（启动方案）\n",
    "\n",
    "**step1**. Get your solution ready for production (plug into production data inputs, write unit tests, etc.).【准备好生产解决方案（插入生产数据输入，编写单元测试等）】\n",
    "\n",
    "**step2**. Write monitoring code to check your system’s live performance at regular intervals and trigger alerts when it drops.【编写监控代码以定期检查系统的实时性能，并在警报丢失时触发警报】\n",
    " - Beware of slow degradation too: models tend to “rot” as data evolves.（也要小心缓慢的退化：随着数据的发展，模型往往会“退化”）\n",
    " - Measuring performance may require a human pipeline (e.g., via a crowdsourcing service).（衡量绩效可能需要人工管道（例如通过众包服务））\n",
    " - Also monitor your inputs’ quality (e.g., a malfunctioning sensor sending random values, or another team’s output becoming stale). This is particularly important for online learning systems.（还要监视输入的质量（例如发送随机值的故障传感器，或其他团队的输出过时）。 这对于在线学习系统尤为重要）\n",
    " \n",
    "**step3**. Retrain your models on a regular basis on fresh data (automate as much as possible).【定期在新数据上重新定型（尽可能自动化）】"
   ]
  }
 ],
 "metadata": {
  "kernelspec": {
   "display_name": "Python 3",
   "language": "python",
   "name": "python3"
  },
  "language_info": {
   "codemirror_mode": {
    "name": "ipython",
    "version": 3
   },
   "file_extension": ".py",
   "mimetype": "text/x-python",
   "name": "python",
   "nbconvert_exporter": "python",
   "pygments_lexer": "ipython3",
   "version": "3.6.3"
  }
 },
 "nbformat": 4,
 "nbformat_minor": 2
}

{
 "cells": [
  {
   "cell_type": "markdown",
   "metadata": {},
   "source": [
    "---\n",
    "# In this chapter\n",
    "\n",
    "- `You learn about hash tables, one of the most useful basic data structures. \n",
    "  Hash tables have many uses; this chapter covers the common use cases.`\n",
    "\n",
    "\n",
    "- `You learn about the internals of hash tables:implementation, collisions, \n",
    "  and hash functions.This will help you understand how to analyze a hash \n",
    "  table’s performance`.\n",
    "\n",
    "---\n",
    "\n",
    "Suppose you work at a grocery store. When a customer\n",
    "buys produce, you have to look up the price in a book. If\n",
    "the book is unalphabetized, it can take you a long time to\n",
    "look through every single line for apple. You’d be doing\n",
    "simple search from chapter 1, where you have to look at\n",
    "every line. Do you remember how long that would take?\n",
    "O(n) time. If the book is alphabetized, you could run\n",
    "binary search to ind the price of an apple. hat would\n",
    "only take O(log n) time.\n",
    "\n",
    "As a reminder, there’s a big diference between O(n) and O(log n) time!\n",
    "Suppose you could look through 10 lines of the book per second. Here’s\n",
    "how long simple search and binary search would take you.\n",
    "\n",
    "You already know that binary search is darn fast. But as a cashier,\n",
    "looking things up in a book is a pain, even if the book is sorted. You can\n",
    "feel the customer steaming up as you search for items in the book. What\n",
    "you really need is a buddy who has all the names and prices memorized.\n",
    "Then you don’t need to look up anything: you ask her, and she tells you\n",
    "the answer instantly.\n",
    "\n",
    "Your buddy Maggie can give you the price in O(1) time for any item, no\n",
    "matter how big the book is. She’s even faster than binary search.\n",
    "\n",
    "What a wonderful person! How do you get a “Maggie”?\n",
    "\n",
    "Let’s put on our data structure hats. You know two data structures so\n",
    "far: arrays and lists (I won’t talk about stacks because you can’t really\n",
    "“search” for something in a stack). You could implement this book as\n",
    "an array.\n",
    "\n",
    "\n",
    "||||\n",
    "|--|--|--|\n",
    "|(EGGS, 2.49)|(MILK, 1.49)| (PEAR, 0.79)|\n",
    "\n",
    "Each item in the array is really two items: one is the name of a kind of\n",
    "produce, and the other is the price. If you sort this array by name, you\n",
    "can run binary search on it to find the price of an item. So you can find\n",
    "items in O(log n) time. But you want to ind items in O(1) time. That is,\n",
    "you want to make a “Maggie.” That’s where hash functions come in.\n",
    "\n",
    "\t\n"
   ]
  },
  {
   "cell_type": "markdown",
   "metadata": {},
   "source": [
    "## Hash functions\n",
    "\n",
    "<img align=\"left\" src=\"figures/hash1.png\">\n",
    "A hash function is a function where you put in a string1 and you get\n",
    "back a number.\n",
    "\n",
    "In technical terminology, we’d say that a hash function “maps strings\n",
    "to numbers.” You might think there’s no discernable pattern to what\n",
    "number you get out when you put a string in. But there are some\n",
    "requirements for a hash function:\n",
    "\n",
    "- It needs to be consistent. For example, suppose you put in “apple” and get back “4”. Every time you put in “apple”, you should get “4” back.Without this, your hash table won’t work.\n",
    "\n",
    "\n",
    "- It should map diferent words to diferent numbers. For example, a hash function is no good if it always returns “1” for any word you put in. In the best case, every diferent word should map to a diferent number.\n",
    "\n",
    "\n",
    "So a hash function maps strings to numbers. What is that good for?\n",
    "Well, you can use it to make your “Maggie”!\n",
    "\n",
    "-  Start with an empty array:\n",
    "\n",
    "-  You’ll store all of your prices in this array. Let’s add the price of an apple.Feed “apple” into the hash function.\n",
    "\n",
    "-  The hash function outputs “3”. So let’s store the price of an apple at index 3 in the array.\n",
    "\n",
    "-  Let’s add milk. Feed “milk”into the hash function.\n",
    "\n",
    "\n",
    "<img align=\"left\" src=\"figures/h1.png\">\n",
    "<img align=\"left\" src=\"figures/h2.png\">\n",
    "<img align=\"left\" src=\"figures/h3.png\">\n",
    "<img align=\"left\" src=\"figures/h4.png\">"
   ]
  },
  {
   "cell_type": "markdown",
   "metadata": {},
   "source": [
    "- The hash function says “0”. Let’s store the price of milk at index 0.\n",
    "- Keep going, and eventually the whole array will be full of prices.\n",
    "- Now you ask, “Hey, what’s the price of an avocado?” You don’t need to search for it in the array. Just feed “avocado” into the hash function.\n",
    "- It tells you that the price is stored at index 4. And sure enough,there it is.\n",
    "\n",
    "<img align=\"left\" src=\"figures/h5.png\">\n",
    "<img align=\"left\" src=\"figures/h6.png\">\n",
    "<img align=\"left\" src=\"figures/h7.png\">\n",
    "<img align=\"left\" src=\"figures/h8.png\">"
   ]
  },
  {
   "cell_type": "markdown",
   "metadata": {},
   "source": [
    "The hash function tells you exactly where the price is stored, so you\n",
    "don’t have to search at all! This works because:\n",
    "\n",
    "- The hash function consistently maps a name to the same index. Every time you put in “avocado”, you’ll get the same number back. So you can use it the first time to find where to store the price of an avocado,and then you can use it to find where you stored that price.\n",
    "\n",
    "\n",
    "- The hash function maps diferent strings to diferent indexes.“Avocado” maps to index 4. “Milk” maps to index 0. Everything maps to a diferent slot in the array where you can store its price.\n",
    "\n",
    "\n",
    "- The hash function knows how big your array is and only returns valid indexes. So if your array is 5 items, the hash function doesn’t return 100 … that wouldn’t be a valid index in the array.\n",
    "\n",
    "\n",
    "You just built a “Maggie”! Put a hash function and an array together,\n",
    "and you get a data structure called a hash table.**``` A hash table is the first data structure you’ll learn that has some extra logic behind it. Arrays and lists map straight to memory, but hash tables are smarter. They use a hash function to intelligently figure out where to store elements.```**\n",
    "\n",
    "`Hash tables are probably the most useful complex data structure\n",
    "you’ll learn.` They’re also known as hash maps, maps, dictionaries, and\n",
    "associative arrays. And hash tables are fast! Remember our discussion\n",
    "of arrays and linked lists back in chapter 2? You can get an item from an\n",
    "array instantly. *And hash tables use an array to store the data, so they’re\n",
    "equally fast.*\n",
    "\n",
    "You’ll probably never have to implement hash tables yourself. Any good\n",
    "language will have an implementation for hash tables. Python has hash\n",
    "tables; they’re called dictionaries. You can make a new hash table using\n",
    "the dict function:\n",
    "\n",
    "```python\n",
    ">>> book = dict()\n",
    "```\n",
    "\n",
    "`book` is a new hash table. Let’s add some prices to book:\n",
    "```python\n",
    "book = dict()\n",
    "book[\"apple\"] = 0.67  # An apple costs 67 cents\n",
    "book[\"milk\"] = 1.49   # Milk costs $1.49\n",
    "book[\"avocado\"] = 1.49\n",
    "print(book)\n",
    "{'apple': 0.67, 'milk': 1.49, 'avocado': 1.49}\n",
    "```\n",
    "\n",
    "\n",
    "Pretty easy! Now let’s ask for the price of an avocado:\n",
    "\n",
    "```python\n",
    "\n",
    "print(book[\"avocado\"])\n",
    "1.49\n",
    "```\n",
    "\n",
    "A hash table has keys and values. In the book hash, the names of\n",
    "produce are the keys, and their prices are the values. A hash table maps\n",
    "keys to values.\n",
    "\n",
    "In the next section, you’ll see some examples where hash tables are\n",
    "really useful."
   ]
  },
  {
   "cell_type": "markdown",
   "metadata": {},
   "source": [
    "#### EXERCISES\n",
    "\n",
    "*It’s important for hash functions to consistently return the same output\n",
    "for the same input. If they don’t, you won’t be able to find your item\n",
    "after you put it in the hash table!*"
   ]
  },
  {
   "cell_type": "markdown",
   "metadata": {},
   "source": [
    "## Use cases\n",
    "\n",
    "Hash tables are used everywhere. his section will show you a few\n",
    "use cases."
   ]
  },
  {
   "cell_type": "markdown",
   "metadata": {},
   "source": [
    "\n",
    "### Using hash tables for lookups\n",
    "Your phone has a handy phonebook built in.\n",
    "Each name has a phone number associated with it.\n",
    "\n",
    "Suppose you want to build a phone book like this. You’re mapping\n",
    "people’s names to phone numbers. Your phone book needs to have this\n",
    "functionality:\n",
    "\n",
    "- Add a person’s name and the phone number associated with that person.\n",
    "- Enter a person’s name, and get the phone number associated with that name.\n",
    "\n",
    "This is a perfect use case for hash tables! Hash tables are\n",
    "great when you want to\n",
    "\n",
    "- Create a mapping from one thing to another thing\n",
    "- Look something up\n",
    "\n",
    "Building a phone book is pretty easy. First, make a new hash table:\n",
    "```python\n",
    ">>> phone_book = dict()\n",
    "```\n",
    "\n",
    "By the way, Python has a shortcut for making a new hash table. You can\n",
    "use two curly braces:\n",
    "```python\n",
    ">>> phone_book = {} \n",
    "```\n",
    "\n",
    "Let’s add the phone numbers of some people into this phone book:\n",
    "```python\n",
    ">>> phone_book[\"jenny\"] = 8675309\n",
    ">>> phone_book[\"emergency\"] = 911\n",
    "```\n",
    "\n",
    "That's all there is to it! Now, suppose you want to find\n",
    "Jenny's phone number. Just pass the key in to the hash:\n",
    "```python\n",
    ">>>print (phone_book[\"jenny\"])\n",
    "8675309\n",
    "```\n",
    "\n",
    "Imagine if you had to do this using an array instead.\n",
    "How would you do it? Hash tables make it easy to model a relationship\n",
    "from one item to another.\n",
    "\n",
    "Hash tables are used for lookups on a much larger scale. For example,\n",
    "suppose you go to a website like http://adit.io. Your computer has to\n",
    "translate adit.io to an IP address.\n",
    "\n",
    "For any website you go to, the address has to be translated to an IP\n",
    "address.\n",
    "\n",
    "Wow, mapping a web address to an IP address? Sounds like a perfect\n",
    "use case for hash tables! This process is called DNS resolution. Hash\n",
    "tables are one way to provide this functionality."
   ]
  },
  {
   "cell_type": "markdown",
   "metadata": {},
   "source": [
    "### Preventing duplicate entries\n",
    "\n",
    "Suppose you’re running a voting booth. Naturally, every person can\n",
    "vote just once. How do you make sure they haven't voted before? When\n",
    "someone comes in to vote, you ask for their full name. Then you check\n",
    "it against the list of people who have voted.\n",
    "\n",
    "If their name is on the list, this person has already voted—kick them\n",
    "out! Otherwise, you add their name to the list and let them vote. Now\n",
    "suppose a lot of people have come in to vote, and the list of people who\n",
    "have voted is really long.\n",
    "\n",
    "Each time someone new comes in to vote, you have to scan this giant\n",
    "list to see if they’ve already voted. But there's a better way: use a hash!\n",
    "\n",
    "First, make a hash to keep track of the people who have voted:\n",
    "\n",
    "```python\n",
    ">>> voted = {}\n",
    "```\n",
    "\n",
    "When someone new comes in to vote, check if they're already in\n",
    "the hash:\n",
    "\n",
    "```python\n",
    ">>>value = voted.get(“tom”)\n",
    "```\n",
    "\n",
    "The get function returns the value if “tom” is in the hash table.\n",
    "Otherwise, it returns `None`. You can use this to check if someone\n",
    "has already voted!\n",
    "\n",
    "Here's the code:\n",
    "\n",
    "```python\n",
    "In [3]:voted ={}\n",
    "def check_voter(name):\n",
    "    if voted.get(name):\n",
    "        print(\"Kick them out!\")\n",
    "    else:\n",
    "        voted[name] = True\n",
    "        print(\"Let them vote!\")\n",
    "             \n",
    "In [4]:check_voter(\"tom\")\n",
    "     Let them vote!\n",
    "     \n",
    "In [5]:check_voter(\"Dam\")\n",
    "     Let them vote!\n",
    "     \n",
    "In [6]:check_voter(\"tom\")\n",
    "     Kick them out!\n",
    "```\n",
    "\n",
    "The first time Tom goes in, this will print, \"let them vote!\""
   ]
  },
  {
   "cell_type": "code",
   "execution_count": 3,
   "metadata": {
    "collapsed": true
   },
   "outputs": [],
   "source": [
    "voted ={}\n",
    "def check_voter(name):\n",
    "    if voted.get(name):\n",
    "        print(\"Kick them out!\")\n",
    "    else:\n",
    "        voted[name] = True\n",
    "        print(\"Let them vote!\")"
   ]
  },
  {
   "cell_type": "code",
   "execution_count": 4,
   "metadata": {},
   "outputs": [
    {
     "name": "stdout",
     "output_type": "stream",
     "text": [
      "Let them vote!\n"
     ]
    }
   ],
   "source": [
    "check_voter(\"tom\")"
   ]
  },
  {
   "cell_type": "code",
   "execution_count": 5,
   "metadata": {},
   "outputs": [
    {
     "name": "stdout",
     "output_type": "stream",
     "text": [
      "Let them vote!\n"
     ]
    }
   ],
   "source": [
    "check_voter(\"Dam\")"
   ]
  },
  {
   "cell_type": "code",
   "execution_count": 6,
   "metadata": {},
   "outputs": [
    {
     "name": "stdout",
     "output_type": "stream",
     "text": [
      "Kick them out!\n"
     ]
    }
   ],
   "source": [
    "check_voter(\"tom\")"
   ]
  },
  {
   "cell_type": "code",
   "execution_count": null,
   "metadata": {
    "collapsed": true
   },
   "outputs": [],
   "source": []
  }
 ],
 "metadata": {
  "kernelspec": {
   "display_name": "Python 3",
   "language": "python",
   "name": "python3"
  },
  "language_info": {
   "codemirror_mode": {
    "name": "ipython",
    "version": 3
   },
   "file_extension": ".py",
   "mimetype": "text/x-python",
   "name": "python",
   "nbconvert_exporter": "python",
   "pygments_lexer": "ipython3",
   "version": "3.6.3"
  }
 },
 "nbformat": 4,
 "nbformat_minor": 2
}

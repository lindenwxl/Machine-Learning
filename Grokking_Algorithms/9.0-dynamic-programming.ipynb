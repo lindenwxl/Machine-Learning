{
 "cells": [
  {
   "cell_type": "markdown",
   "metadata": {},
   "source": [
    "# 动态规划\n",
    "\n",
    "## 本章内容\n",
    "\n",
    "- 学习动态规划，这是一种解决棘手问题的方法，它将问题分成小问题，并先着手解决这些小问题。\n",
    "\n",
    "- 学习如何设计问题的动态规划解决方案。\n",
    "\n",
    "\n",
    "- You learn dynamic programming, a technique to solve a hard problem by breaking it up into subproblems and solving those subproblems irst.\n",
    "- Using examples, you learn to how to come up with a dynamic programming solution to a new problem."
   ]
  },
  {
   "cell_type": "markdown",
   "metadata": {
    "collapsed": true
   },
   "source": [
    "在第8章，你学习了如何找到近似解，这接近最优解，但可能不是最优解。**那么如何找到最优解呢？答案是使用动态规划！下面来看看动态规划算法的工作原理。动态规划先解决子问题，再逐步解决大问题.**\n",
    "\n",
    "每个动态规划算法都从一个网格开始\n",
    "\n",
    "<img align=\"left\" src=\"figures/dynamic0.png\">"
   ]
  },
  {
   "cell_type": "markdown",
   "metadata": {},
   "source": [
    "### 可以偷商品的一部分吗? \n",
    "\n",
    "- 答案是没法处理。使用动态规划时，要么考虑拿走整件商品，要么考虑不拿，而没法判断该不该拿走商品的一部分。\n",
    "- 但使用贪婪算法可轻松地处理这种情况！首先，尽可能多地拿价值最高的商品；如果拿光了，再尽可能多地拿价值次高的商品，以此类推。\n",
    "\n",
    "- **`动态规划功能强大，它能够解决子问题并使用这些答案来解决大问题。但仅当每个子问题都是离散的，即不依赖于其他子问题时，动态规划才管用。这意味着使用动态规划算法解决不了去巴黎玩的问题。`**"
   ]
  },
  {
   "cell_type": "markdown",
   "metadata": {},
   "source": [
    "## 最长公共子串\n",
    "\n",
    "通过前面的动态规划问题，你得到了哪些启示呢？\n",
    "- 动态规划可帮助你在给定约束条件下找到最优解。在背包问题中，你必须在背包容量给定的情况下，偷到价值最高的商品。\n",
    "- 在问题可分解为彼此独立且离散的子问题时，就可使用动态规划来解决。\n",
    "\n",
    "要设计出动态规划解决方案可能很难，这正是本节要介绍的。下面是一些通用的小贴士。\n",
    "\n",
    "- 每种动态规划解决方案都涉及网格。\n",
    "- 单元格中的值通常就是你要优化的值。在前面的背包问题中，单元格的值为商品的价值。\n",
    "- 每个单元格都是一个子问题，因此你应考虑如何将问题分成子问题，这有助于你找出网格的坐标轴.\n",
    "\n",
    "### ``费曼算法（Feynman algorithm）``\n",
    "- (1) 将问题写下来。\n",
    "- (2) 好好思考。\n",
    "- (3) 将答案写下来。"
   ]
  },
  {
   "cell_type": "markdown",
   "metadata": {},
   "source": [
    "### ``动态规划都有哪些实际应用呢？``\n",
    "\n",
    "- 1.0-->生物学家根据最长公共序列来确定DNA链的相似性，进而判断度两种动物或疾病有多相似。最长公共序列还被用来寻找多发性硬化症治疗方案。\n",
    "\n",
    "\n",
    "- 2.0-->你使用过诸如git diff等命令吗？它们指出两个文件的差异，也是使用动态规划实现的。\n",
    "\n",
    "\n",
    "- 3.0-->前面讨论了字符串的相似程度。编辑距离（levenshtein distance）指出了两个字符串的相似程度，也是使用动态规划计算得到的。编辑距离算法的用途很多，从拼写检查到判断用户上传的资料是否是盗版，都在其中。\n",
    "\n",
    "\n",
    "- 4.0-->你使用过诸如Microsoft Word等具有断字功能的应用程序吗？它们如何确定在什么地方断字以确保行长一致呢？使用动态规划！"
   ]
  },
  {
   "cell_type": "markdown",
   "metadata": {},
   "source": [
    "### ``小结``\n",
    "- 需要在给定约束条件下优化某种指标时，动态规划很有用。\n",
    "- 问题可分解为离散子问题时，可使用动态规划来解决。\n",
    "- 每种动态规划解决方案都涉及网格。\n",
    "- 单元格中的值通常就是你要优化的值。\n",
    "- 每个单元格都是一个子问题，因此你需要考虑如何将问题分解为子问题。\n",
    "- 没有放之四海皆准的计算动态规划解决方案的公式。"
   ]
  }
 ],
 "metadata": {
  "kernelspec": {
   "display_name": "Python 3",
   "language": "python",
   "name": "python3"
  },
  "language_info": {
   "codemirror_mode": {
    "name": "ipython",
    "version": 3
   },
   "file_extension": ".py",
   "mimetype": "text/x-python",
   "name": "python",
   "nbconvert_exporter": "python",
   "pygments_lexer": "ipython3",
   "version": "3.6.3"
  }
 },
 "nbformat": 4,
 "nbformat_minor": 2
}

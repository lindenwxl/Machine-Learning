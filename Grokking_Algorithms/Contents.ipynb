{
 "cells": [
  {
   "cell_type": "markdown",
   "metadata": {},
   "source": [
    "# Contents\n",
    "\n",
    "## preface\n",
    "\n",
    "- 1.Intruducing to algorithms\n",
    "\n",
    "- 2.Selection sort\n",
    "\n",
    "- 3.Recursion\n",
    "\n",
    "- 4.Quicksort\n",
    "\n",
    "- 5.Hash tables\n",
    "\n",
    "- 6.Breadth-first search\n",
    "\n",
    "- 7.Dijkstra's algorithm\n",
    "\n",
    "- 8.Greedy algorithms\n",
    "\n",
    "- 9.Dynamic programming\n",
    "\n",
    "- 10.K-nearest neighbors\n",
    "\n",
    "- 11.Where to go next\n",
    " \n",
    " \n",
    "\n",
    "\n"
   ]
  }
 ],
 "metadata": {
  "kernelspec": {
   "display_name": "Python 3",
   "language": "python",
   "name": "python3"
  },
  "language_info": {
   "codemirror_mode": {
    "name": "ipython",
    "version": 3
   },
   "file_extension": ".py",
   "mimetype": "text/x-python",
   "name": "python",
   "nbconvert_exporter": "python",
   "pygments_lexer": "ipython3",
   "version": "3.6.3"
  }
 },
 "nbformat": 4,
 "nbformat_minor": 2
}

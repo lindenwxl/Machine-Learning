{
 "cells": [
  {
   "cell_type": "markdown",
   "metadata": {},
   "source": [
    "## 本章内容\n",
    "\n",
    "-  学习使用新的数据结构图来建立网络模型。\n",
    "-  学习广度优先搜索，你可对图使用这种算法回答诸如“到X的最短路径是什么”等问题。\n",
    "-  学习有向图和无向图。\n",
    "-  学习拓扑排序，这种排序算法指出了节点之间的依赖关系\n",
    "\n",
    "\n",
    "- You learn how to model a network using a new, abstract data structure: graphs.\n",
    "- You learn breadth-first search, an algorithm you can run on graphs to answer questions like,“What’s the shortest path to go to X?”\n",
    "- You learn about directed versus undirected graphs.\n",
    "- You learn topological sort, a diferent kind of sorting algorithm that exposes dependencies between nodes."
   ]
  },
  {
   "cell_type": "markdown",
   "metadata": {},
   "source": [
    "首先，我将说说什么是图（它们不涉及X轴和Y轴），再介绍第一种图算法——广度优先搜索（breadth-first search，BFS）:\n",
    "\n",
    "广度优先搜索让你能够找出两样东西之间的最短距离，不过最短距离的含义有很多！使用广度优先搜索可以：\n",
    "\n",
    "- 编写国际跳棋AI，计算最少走多少步就可获胜；\n",
    "- 编写拼写检查器，计算最少编辑多少个地方就可将错拼的单词改成正确的单词，如将READED改为READER需要编辑一个地方；\n",
    "- 根据你的人际关系网络找到关系最近的医生。\n",
    "\n",
    "*图算法应该是最有用的。*"
   ]
  },
  {
   "cell_type": "markdown",
   "metadata": {},
   "source": [
    "### 最短路径问题（shorterst-path problem）。\n",
    "你经常要找出最短路径，这可能是前往朋友家的最短路径，也可能是国际象棋中把对方将死的最少步数。解决最短路径问题的算法被称为广度优先搜索。\n",
    "\n",
    "需要两个步骤。\n",
    "\n",
    "- (1) 使用图来建立问题模型。\n",
    "- (2) 使用广度优先搜索解决问题。"
   ]
  },
  {
   "cell_type": "markdown",
   "metadata": {},
   "source": [
    "## 图是什么\n",
    "\n",
    "**图模拟一组连接**. 图由节点（node）和边（edge）组成。\n",
    "\n",
    "就这么简单！图由节点和边组成。一个节点可能与众多节点直接相连，这些节点被称为邻居。\n",
    "\n",
    "图用于模拟不同的东西是如何相连的。\n",
    "\n"
   ]
  },
  {
   "cell_type": "markdown",
   "metadata": {},
   "source": [
    "## 广度优先搜索\n",
    "\n",
    "广度优先搜索是一种用于图的查找算法，**可帮助回答两类问题**。\n",
    "\n",
    "- (1):第一类问题：从节点A出发，有前往节点B的路径吗？\n",
    "- (2):第二类问题：从节点A出发，前往节点B的哪条路径最短？"
   ]
  },
  {
   "cell_type": "markdown",
   "metadata": {},
   "source": [
    "### 查找最短路径\n",
    "\n",
    "在广度优先搜索的执行过程中，搜索范围从起点开始逐渐向外延伸，即先检查一度关系，再检查二度关系。**广度优先搜索不仅查找从A到B的路径，而且找到的是最短的路径。**\n",
    "\n",
    "注意，只有按添加顺序查找时，才能实现这样的目的。因此，你需要按添加顺序进行检查。有一个可实现这种目的的数据结构，那就是``队列（queue）``。"
   ]
  },
  {
   "cell_type": "markdown",
   "metadata": {},
   "source": [
    "### 队列\n",
    "\n",
    "队列的工作原理与现实生活中的队列完全相同。假设你与朋友一起在公交车站排队，如果你排在他前面，你将先上车。队列的工作原理与此相同。``队列类似于栈，你不能随机地访问队列中的元素``。队列只支持两种操作：``入队和出队``。\n",
    "\n",
    "如果你将两个元素加入队列，先加入的元素将在后加入的元素之前出队。因此，你可使用队列来表示查找名单！这样，*先加入的人将先出队并先被检查*。\n",
    "\n",
    "*队列是一种先进先出（First In First Out，FIFO）的数据结构，而栈是一种后进先出（Last InFirst Out，LIFO）的数据结构。*"
   ]
  },
  {
   "cell_type": "markdown",
   "metadata": {},
   "source": [
    "### 实现图\n",
    "\n",
    "首先，需要使用代码来实现图。图由多个节点组成。\n",
    "\n",
    "每个节点都与邻近节点相连, 好在你知道的一种结构让你能够表示这种关系，它就是`散列表`！记住，**散列表让你能够将键映射到值**。\n",
    "```python\n",
    "# 在python中，可用下述代码表述一个图\n",
    "graph = {}\n",
    "graph[\"you\"] = [\"alice\", \"bob\", \"claire\"]\n",
    "```\n",
    "\n",
    "如果用python代码表述一个更大的图，如下：\n",
    "\n",
    "<img align = \"left\" src=\"figures/graph1.png\">\n",
    "\n",
    "```python\n",
    "# 它的python代码如下：\n",
    "graph = {}\n",
    "graph[\"you\"] = [\"alice\", \"bob\", \"claire\"]\n",
    "graph[\"bob\"] = [\"anuj\", \"peggy\"]\n",
    "graph[\"alice\"] = [\"peggy\"]\n",
    "graph[\"claire\"] = [\"jonny\", \"thom\"]\n",
    "graph[\"anuj\"] = []\n",
    "graph[\"peggy\"] = []\n",
    "graph[\"jonny\"] = []\n",
    "graph[\"thom\"] = []\n",
    "```\n",
    "\n",
    "Anuj、Peggy、Thom和Jonny都没有邻居，这是因为虽然有指向他们的箭头，但没有从他们出发指向其他人的箭头。这被称为**有向图（directed graph），其中的关系是单向的**。因此，Anuj是Bob的邻居，但Bob不是Anuj的邻居。**无向图（undirected graph）没有箭头，直接相连的节点互为邻居**。\n",
    "\n",
    "##### 以下两个图等价：\n",
    "<img align=\"right\" src=\"figures/graph2.png\">"
   ]
  },
  {
   "cell_type": "markdown",
   "metadata": {},
   "source": [
    "## 实现算法\n",
    "\n",
    "在Python中，可使用函数deque来创建一个双端队列。"
   ]
  },
  {
   "cell_type": "code",
   "execution_count": 1,
   "metadata": {
    "collapsed": true
   },
   "outputs": [],
   "source": [
    "graph = {}\n",
    "graph[\"you\"] = [\"alice\", \"bob\", \"claire\"]\n",
    "graph[\"bob\"] = [\"anuj\", \"peggy\"]\n",
    "graph[\"alice\"] = [\"peggy\"]\n",
    "graph[\"claire\"] = [\"jonny\", \"thom\"]\n",
    "graph[\"anuj\"] = []\n",
    "graph[\"peggy\"] = []\n",
    "graph[\"jonny\"] = []\n",
    "graph[\"thom\"] = []"
   ]
  },
  {
   "cell_type": "code",
   "execution_count": 2,
   "metadata": {
    "collapsed": true
   },
   "outputs": [],
   "source": [
    "def person_is_seller(name):\n",
    "    # 这个函数检查人的姓名是否以m结尾：如果是，他就是芒果销售商\n",
    "    return name[-1] ==  'm'"
   ]
  },
  {
   "cell_type": "code",
   "execution_count": 3,
   "metadata": {
    "collapsed": true
   },
   "outputs": [],
   "source": [
    "from collections import deque\n",
    "def search(name):\n",
    "    search_queue = deque()\n",
    "    search_queue += graph[name]\n",
    "    searched = []\n",
    "    while search_queue:\n",
    "        person = search_queue.popleft()\n",
    "        if ~(person in searched):\n",
    "            if person_is_seller(person):\n",
    "                print(person + \"is a mongo seller!\")\n",
    "                return True\n",
    "            else:\n",
    "                search_queue += graph[person]\n",
    "                searched.append(person)\n",
    "    return False"
   ]
  },
  {
   "cell_type": "code",
   "execution_count": 4,
   "metadata": {},
   "outputs": [
    {
     "name": "stdout",
     "output_type": "stream",
     "text": [
      "thomis a mongo seller!\n"
     ]
    },
    {
     "data": {
      "text/plain": [
       "True"
      ]
     },
     "execution_count": 4,
     "metadata": {},
     "output_type": "execute_result"
    }
   ],
   "source": [
    "search(\"you\")"
   ]
  },
  {
   "cell_type": "markdown",
   "metadata": {},
   "source": [
    "## 运行时间\n",
    "\n",
    "如果你在你的整个人际关系网中搜索芒果销售商，就意味着你将沿每条边前行（记住，边是从一个人到另一个人的箭头或连接），因此运行时间至少为O(边数)。\n",
    "\n",
    "你还使用了一个队列，其中包含要检查的每个人。将一个人添加到队列需要的时间是固定的，即为$O(1)$，因此对每个人都这样做需要的总时间为$O$(人数)。所以，广度优先搜索的运行时间为$O$(人数 + 边数)，这通常写作$O(V + E)$，其中$V$为顶点（vertice）数，E为边数。"
   ]
  },
  {
   "cell_type": "markdown",
   "metadata": {},
   "source": [
    "### Excercise:\n"
   ]
  },
  {
   "cell_type": "code",
   "execution_count": 6,
   "metadata": {
    "collapsed": true
   },
   "outputs": [],
   "source": [
    "routine = {}\n",
    "routine[\"up\"] = [\"excercise\", \"brush_teeth\", \"pack_lunch\"]\n",
    "routine[\"excercise\"] = [\"shower\"]\n",
    "routine[\"brush_teeth\"] = [\"eat_breakfast\"]\n",
    "routine[\"pack_lunch\"] = []\n",
    "routine[\"eat_breakfast\"] = []\n",
    "routine[\"shower\"] = [\"get_dressed\"]\n",
    "routine[\"get_dressed\"] = []"
   ]
  },
  {
   "cell_type": "markdown",
   "metadata": {},
   "source": [
    "**从某种程度上说，这种列表是有序的。如果任务A依赖于任务B，在列表中任务A就必须在任\n",
    "务B后面。这被称为``拓扑排序``，使用它可根据图创建一个有序列表。**"
   ]
  },
  {
   "cell_type": "markdown",
   "metadata": {},
   "source": [
    "这种图被称为树。树是一种特殊的图，其中没有往后指的边。**`This is called a tree. A tree is a special type of graph, where no edges ever point back.`**"
   ]
  },
  {
   "cell_type": "markdown",
   "metadata": {},
   "source": [
    "## 小结\n",
    "\n",
    "- 广度优先搜索指出是否有从A到B的路径。\n",
    "- 如果有，广度优先搜索将找出最短路径。\n",
    "- 面临类似于寻找最短路径的问题时，可尝试使用图来建立模型，再使用广度优先搜索来解决问题。\n",
    "- 有向图中的边为箭头，箭头的方向指定了关系的方向，例如，rama→adit表示rama欠adit钱。\n",
    "- 无向图中的边不带箭头，其中的关系是双向的，例如，ross - rachel表示“ross与rachel约会，而rachel也与ross约会”。\n",
    "- 队列是先进先出（FIFO）的。\n",
    "- 栈是后进先出（LIFO）的。\n",
    "- 你需要按加入顺序检查搜索列表中的人，否则找到的就不是最短路径，因此搜索列表必须是队列。\n",
    "- 对于检查过的人，务必不要再去检查，否则可能导致无限循环。\n",
    "\n",
    "\n",
    "- Breadth-first search tells you if there’s a path from A to B.\n",
    "- If there’s a path, breadth-irst search will find the shortest path.\n",
    "- If you have a problem like “ind the shortest X,” try modeling your problem as a graph, and use breadth-irst search to solve.\n",
    "- A directed graph has arrows, and the relationship follows the direction of the arrow (rama -> adit means “rama owes adit money”).\n",
    "- Undirected graphs don’t have arrows, and the relationship goes both ways (ross - rachel means “ross dated rachel and rachel dated ross”).\n",
    "- Queues are FIFO (First In, First Out).\n",
    "- Stacks are LIFO (Last In, First Out).\n",
    "- You need to check people in the order they were added to the search list, so the search list needs to be a queue. Otherwise, you won’t get the shortest path.\n",
    "- Once you check someone, make sure you don’t check them again.\n",
    "- Otherwise, you might end up in an inifinite loop."
   ]
  }
 ],
 "metadata": {
  "kernelspec": {
   "display_name": "Python 3",
   "language": "python",
   "name": "python3"
  },
  "language_info": {
   "codemirror_mode": {
    "name": "ipython",
    "version": 3
   },
   "file_extension": ".py",
   "mimetype": "text/x-python",
   "name": "python",
   "nbconvert_exporter": "python",
   "pygments_lexer": "ipython3",
   "version": "3.6.3"
  }
 },
 "nbformat": 4,
 "nbformat_minor": 2
}

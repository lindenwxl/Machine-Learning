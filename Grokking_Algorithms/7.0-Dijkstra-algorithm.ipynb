{
 "cells": [
  {
   "cell_type": "markdown",
   "metadata": {},
   "source": [
    "# 狄克斯特拉算法\n",
    "\n",
    "## 本章内容\n",
    "\n",
    "\n",
    "- 继续图的讨论，介绍加权图——提高或降低某些边的权重。\n",
    "- 介绍狄克斯特拉算法，让你能够找出加权图中前往X的最短路径。\n",
    "- 介绍图中的环，它导致狄克斯特拉算法不管用。\n",
    "\n",
    "#### 前一章使用了广度优先搜索，它找出的是段数最少的路径。如果你要找出最快的路径，该如何办呢？为此，可使用另一种算法——``狄克斯特拉算法（Dijkstra’s algorithm）``。\n",
    "\n",
    "狄克斯特拉算法包含4个步骤。\n",
    "\n",
    "- (1) 找出“最便宜”的节点，即可在最短时间内到达的节点。  (目的)\n",
    "- (2) 更新该节点的邻居的开销，其含义将稍后介绍。       （第一步）\n",
    "- (3) 重复这个过程，直到对图中的每个节点都这样做了。    （第二步骤）\n",
    "- (4) 计算最终路径。                         （第三步骤）"
   ]
  },
  {
   "cell_type": "markdown",
   "metadata": {},
   "source": [
    "## 术语"
   ]
  },
  {
   "cell_type": "markdown",
   "metadata": {},
   "source": [
    "介绍其他狄克斯特拉算法使用示例前，先来澄清一些术语。\n",
    "\n",
    "狄克斯特拉算法用于每条边都有关联数字的图，这些数字称为**``权重（weight）``**。\n",
    "\n",
    "带权重的图称为**``加权图（weighted graph）``**，不带权重的图称为**``非加权图（unweighted graph）``**。\n",
    "\n",
    "#### 要计算非加权图中的最短路径，可使用广度优先搜索。要计算加权图中的最短路径，可使用狄克斯特拉算法。图还可能有环。无向图意味着两个节点彼此指向对方，其实就是环！在无向图中，每条边都是一个环。狄克斯特拉算法只适用于有向无环图（directed acyclic graph，DAG）。"
   ]
  },
  {
   "cell_type": "markdown",
   "metadata": {},
   "source": [
    "# Example:换钢琴"
   ]
  },
  {
   "cell_type": "markdown",
   "metadata": {},
   "source": [
    "1. 这是Rama，想拿一本乐谱换架钢琴。\n",
    "2. Alex说：“这是我最喜欢的乐队Destroyer的海报，我愿意拿它换你的乐谱。如果你再加5美元，还可拿乐谱换我这张稀有的Rick Astley黑胶唱片。\n",
    "3. Amy说：“哇，我听说这张黑胶唱片里有首非常好听的歌曲，我愿意拿我的吉他或架子鼓换这张海报或黑胶唱片。”\n",
    "4. Beethoven惊呼：“我一直想要吉他，我愿意拿我的钢琴换Amy的吉他或架子鼓。”\n",
    "\n",
    "Q:太好了！只要再花一点点钱，Rama就能拿乐谱换架钢琴。现在他需要确定的是，如何花最少的钱实现这个目标。我们来绘制一个图，列出大家的交换意愿。\n",
    "\n",
    "<img align=\"left\" src=\"figures/dijkstra1.png\">"
   ]
  },
  {
   "cell_type": "markdown",
   "metadata": {},
   "source": [
    "动手之前，你需要做些准备工作：创建一个表格，在其中列出每个节点的开销。这里的开销指的是达到节点需要额外支付多少钱。\n",
    "\n",
    "<img align=\"left\" src=\"figures/dijkstra2.png\"><img align=\"middle\" src=\"figures/dijkstra3.png\">"
   ]
  },
  {
   "cell_type": "markdown",
   "metadata": {},
   "source": [
    "在执行狄克斯特拉算法的过程中，你将不断更新这个表。为计算最终路径，还需在这个表中\n",
    "添加表示父节点的列。\n",
    "\n",
    "这列的作用将稍后介绍。我们开始执行算法吧\n",
    "\n",
    "- 第一步：找出最便宜的节点。在这里，换海报最便宜，不需要支付额外的费用。还有更便宜的换海报的途径吗？这一点非常重要，你一定要想一想。Rama能够通过一系列交换得到海报，还能额外得到钱吗？想清楚后接着往下读。答案是不能，因为海报是Rama能够到达的最便宜的节点，没法再便宜了.*``这就是狄克斯特拉算法背后的关键理念``*：**```找出图中最便宜的节点，并确保没有到该节点的更便宜的路径！``**\n",
    "\n",
    "\n",
    "\n",
    "- 第二步：计算前往该节点的各个邻居的开销。现在的表中包含低音吉他和架子鼓的开销。这些开销是用海报交换它们时需要支付的额外费用，因此父节点为海报。这意味着，要到达低音吉他，需要沿从海报出发的边前行，对架子鼓来说亦如此。\n",
    "\n",
    "<img align=\"left\" src=\"figures/dijkstra4.png\"><img align=\"middle\" src=\"figures/dijkstra5.png\">"
   ]
  },
  {
   "cell_type": "markdown",
   "metadata": {},
   "source": [
    "- 再次执行第一步：下一个最便宜的节点是黑胶唱片——需要额外支付5美元。再次执行第二步：更新黑胶唱片的各个邻居的开销。"
   ]
  },
  {
   "cell_type": "markdown",
   "metadata": {},
   "source": [
    "<img align=\"left\" src=\"figures/dijkstra6.png\"><img align=\"middle\" src=\"figures/dijkstra7.png\"><img align=\"right\" src=\"figures/dijkstra8.png\">"
   ]
  },
  {
   "cell_type": "markdown",
   "metadata": {},
   "source": [
    "- 你更新了架子鼓和吉他的开销！这意味着经“黑胶唱片”前往“架子鼓”和“吉他”的开销更低，因此你将这些乐器的父节点改为黑胶唱片。下一个最便宜的是吉他，因此更新其邻居的开销。\n",
    "\n",
    "- 你终于计算出了用吉他换钢琴的开销，于是你将其父节点设置为吉他。最后，对最后一个节点——架子鼓，做同样的处理。\n",
    "\n",
    "- 如果用架子鼓换钢琴，Rama需要额外支付的费用更少。因此，采用最便宜的交换路径时，Rama需要额外支付35美元。\n",
    "\n",
    "- 现在来兑现前面的承诺，确定最终的路径。当前，我们知道最短路径的开销为35美元，但如何确定这条路径呢？为此，先找出钢琴的父节点。\n",
    "\n",
    "- 钢琴的父节点为架子鼓，这意味着Rama需要用架子鼓来换钢琴。因此你就沿着这一边。我们来看看需要沿哪些边前行。钢琴的父节点为架子鼓。"
   ]
  },
  {
   "cell_type": "markdown",
   "metadata": {},
   "source": [
    "- 钢琴的父节点为架子鼓，这意味着Rama需要用架子鼓来换钢琴。因此你就沿着这一边。\n",
    "- 我们来看看需要沿哪些边前行。钢琴的父节点为`架子鼓`。\n",
    "- `架子鼓`的父节点为`黑胶唱片`。\n",
    "- 因此Rama需要用黑胶唱片了换架子鼓。显然，他需要用`乐谱`来换`黑胶唱片`。通过沿父节点回溯，便得到了完整的交换路径。\n",
    "\n",
    "<img align=\"left\" src=\"figures/dijkstra9.png\"><img align=\"left\" src=\"figures/dijkstra10.png\"><img align=\"left\" src=\"figures/dijkstra11.png\">\n",
    "<img align=\"left\" src=\"figures/dijkstra12.png\">"
   ]
  },
  {
   "cell_type": "markdown",
   "metadata": {},
   "source": [
    "<img align=\"left\" src=\"figures/dijkstra13.png\">\n",
    "\n",
    "下面是Rama需要做的一系列交换。\n",
    "\n",
    "本章前面使用的都是术语最短路径的字面意思：计算两点或两人之间的最短路径。但希望这\n",
    "个示例让你明白：**最短路径指的并不一定是物理距离，也可能是让某种度量指标最小**。在这个示\n",
    "例中，最短路径指的是Rama想要额外支付的费用最少。这都要归功于狄克斯特拉！\n",
    "\n",
    "\n",
    "#### 如果有负权边，就不能使用狄克斯特拉算法。因为负权边会导致这种算法不管用。\n",
    "\n",
    "\n",
    "在包含负权边的图中，要找出最短路径，可使用另一种算法——贝尔曼福德算法（Bellman-Fordalgorithm）。"
   ]
  },
  {
   "cell_type": "markdown",
   "metadata": {},
   "source": [
    "# 实现\n",
    "\n",
    "下面来看看如何使用代码来实现狄克斯特拉算法，这里以下面的图为例。\n",
    "\n",
    "<img align=\"left\" src=\"figures/dijkstra15.png\"><img align=\"middle\" src=\"figures/dijkstra14.png\">"
   ]
  },
  {
   "cell_type": "markdown",
   "metadata": {},
   "source": [
    "随着算法的进行，你将不断更新散列表costs和parents。首先，需要实现这个图，为此使用一个散列表。"
   ]
  },
  {
   "cell_type": "code",
   "execution_count": 2,
   "metadata": {},
   "outputs": [],
   "source": [
    "graph = {}\n",
    "\n",
    "graph[\"start\"] = {}\n",
    "graph[\"start\"][\"a\"] = 6\n",
    "graph[\"start\"][\"b\"] = 2\n",
    "\n",
    "graph[\"a\"] = {}\n",
    "graph[\"a\"][\"final\"] = 1\n",
    "\n",
    "graph[\"b\"] = {}\n",
    "graph[\"b\"][\"a\"] = 3\n",
    "graph[\"b\"][\"final\"] = 5\n",
    "\n",
    "graph[\"final\"] = {}  # 终点没任何邻居\n",
    "\n",
    "infinity = float(\"inf\")\n",
    "\n",
    "costs = {}\n",
    "costs[\"a\"] = 6\n",
    "costs[\"b\"] = 2\n",
    "costs[\"final\"] = infinity\n",
    "\n",
    "parents = {}\n",
    "parents[\"a\"] = \"start\"\n",
    "parents[\"b\"] = \"start\"\n",
    "parents[\"final\"] = None\n",
    "\n",
    "processed = []"
   ]
  },
  {
   "cell_type": "code",
   "execution_count": 3,
   "metadata": {},
   "outputs": [
    {
     "name": "stdout",
     "output_type": "stream",
     "text": [
      "{'start': {'a': 6, 'b': 2}, 'a': {'final': 1}, 'b': {'a': 3, 'final': 5}, 'final': {}}\n"
     ]
    }
   ],
   "source": [
    "print(graph)"
   ]
  },
  {
   "cell_type": "code",
   "execution_count": 9,
   "metadata": {},
   "outputs": [],
   "source": [
    "def find_lowest_cost_node(costs):\n",
    "    lowest_cost = float(\"inf\")\n",
    "    lowest_cost_node = None\n",
    "    for node in costs:\n",
    "        cost = costs[node]\n",
    "        if cost < lowest_cost and node not in processed:\n",
    "            lowest_cost = cost\n",
    "            lowest_cost_node = node\n",
    "        return lowest_cost_node\n",
    "    \n",
    "node = find_lowest_cost_node(costs)\n",
    "\n",
    "while node is not None:\n",
    "    cost = costs[node]\n",
    "    neighbors = graph[node]\n",
    "    for n in neighbors.keys():\n",
    "        new_cost = cost + neighbors[n]\n",
    "        if (costs[n] > new_cost):\n",
    "            costs[n] = new_cost\n",
    "            parents[n] = node\n",
    "    \n",
    "    processed.append(node)\n",
    "    node = find_lowest_cost_node(costs)"
   ]
  },
  {
   "cell_type": "code",
   "execution_count": 10,
   "metadata": {},
   "outputs": [
    {
     "name": "stdout",
     "output_type": "stream",
     "text": [
      "None\n"
     ]
    }
   ],
   "source": [
    "print(node)"
   ]
  },
  {
   "cell_type": "markdown",
   "metadata": {},
   "source": [
    "## 小结\n",
    "\n",
    "- 广度优先搜索用于在非加权图中查找最短路径。\n",
    "- 狄克斯特拉算法用于在加权图中查找最短路径。\n",
    "- 仅当权重为正时狄克斯特拉算法才管用。\n",
    "- 如果图中包含负权边，请使用贝尔曼福德算法。"
   ]
  },
  {
   "cell_type": "markdown",
   "metadata": {},
   "source": [
    "## 对狄克斯特拉算法的理解\n",
    "\n",
    "狄克斯特拉算法是一种实现了在有障碍物的两个地点之间找出一条最短路径的高效算法，解决了机器人学中的一个十分关键的问题，即运动路径规划问题，至今仍被广泛应用。是“贪婪算法（greedy method）”的一个成功范例。\n",
    "\n",
    "### 使用狄克斯特拉算法\n",
    "\n",
    "<img align=\"left\" src=\"figures/狄克斯特拉0.png\">\n",
    "\n",
    "找出从起点到终点耗时最短的路径。其中，每个数字表示的都是时间，单位分钟。**线路使用有方向的箭头线路表示，表示只有一个方向可以使用，统称有向图。**"
   ]
  },
  {
   "cell_type": "markdown",
   "metadata": {},
   "source": [
    "### 常规思路\n",
    "\n",
    "为了找到从起点到终点耗时最短的路径，我们通常需要找出从起点到终点所有的路径，然后进行一一对比。\n",
    "\n",
    "<img align=\"left\" src=\"figures/狄克斯特拉1.png\"><img align=\"left\" src=\"figures/狄克斯特拉2.png\">"
   ]
  },
  {
   "cell_type": "markdown",
   "metadata": {},
   "source": [
    "<img align=\"left\" src=\"figures/狄克斯特拉3.png\">\n",
    "\n",
    "- 路径一是从起点出发，经过 A 节点，到达终点，共计用时 $6 + 1 = 7$ 分钟\n",
    "\n",
    "\n",
    "- 路径二是从起点出发，经过 B 节点，到达终点，共计用时 $2 + 5 = 7$ 分钟\n",
    "\n",
    "\n",
    "- 路径三从起点出发，经过 B 节点，再经过 A 节点，到达终点，共计用时 $2 + 3 + 1 = 6$ 分钟\n",
    "\n"
   ]
  },
  {
   "cell_type": "markdown",
   "metadata": {},
   "source": [
    "综上，我们已经穷举完了所有可能的路径，不可能再找出另外的路径了。同时，对比一下三种路径，你会发现路径三用时最短，只需要 6 分钟。呵呵，so easy，妈妈再也不用担心我的学习了。既然，人可以做出结果，那么计算机利用此种方法，也就是所谓的穷举法，当然也能找到最优路径。\n",
    "\n",
    "\n",
    "不过，别得意，你的妈妈还得担心你的学习。如果路途中，不止 A、B 两个节点，而是接近无穷多个节点，记住是接近无穷多个节点，......懵逼从天空飘过。\n",
    "\n",
    "\n",
    "**此时，肯定有同学会跳出来反对，无穷多个节点，这就是无限。无限，也就是无界，就是死循环的问题了，肯定无法得到答案，此题出得有问题。**\n",
    "\n",
    "这个问题提得好，*`必须有界才能有答案`*，该问题是接近无限多，也就是个很大很大的边界，是超出了人力范围的边界。......懵逼继续从天空飘过。 但是，计算机肯定是能够计算出有界的问题的，利用穷举法当然可以算出，不过这里又产生一个问题，穷举法是检索每条可能的路径，这肯定会消耗很大的计算机运算能力，那么有没有更优的方法，至少不用穷举出所有路径的方法呢？当然，有那么多的牛人供我们致敬，答案是肯定的"
   ]
  },
  {
   "cell_type": "markdown",
   "metadata": {},
   "source": [
    "## 狄克斯特拉算法思路\n",
    "\n",
    "步骤或思路如下：\n",
    "\n",
    "1. 找出最便宜的节点，即可在最短时间内前往的节点。\n",
    "2. 对于该节点的所有邻居，检查是否有前往它们的更短路径，如果有，就更新其开销。\n",
    "3. 处理过的节点，进行标记，以后将不再处理。\n",
    "4. 重复以上过程，直到对图中的每个节点都这样做了。\n",
    "5. 计算出最终路径。\n",
    "\n",
    "**第一步**：找出最便宜的节点。你站在起点，不知道该前往节点 A 还是节点 B ，茫然无措ing........。此时，`散列表`可以派上用场了。\n",
    "\n",
    "前往节点 A 需要6 分钟，而前往节点 B 需要 2 分钟。至于前往其它节点，你还不知道需要多长时间。那么散列表如下：\n",
    "\n",
    "| 父节点 |节点   |耗时   |\n",
    "|------------|---------------|---------------|\n",
    "|起点|A|$6$|\n",
    "|起点|B|$2$|\n",
    "|起点|终点|$\\infty$|\n",
    "\n",
    "**第二步**：由于从起到到节点 B 的路径耗时少，先计算经节点 B 前往其各个邻居所需的时间。\n",
    "\n",
    "| 父节点 |节点   |耗时   |\n",
    "|------------|---------------|---------------|\n",
    "|B|A|$5$ 更新耗时|\n",
    "|-|B|$2$|\n",
    "|B|终点|$7$ 更新耗时|\n",
    "\n",
    "这一步，找到了一条前往节点 A 的更短路径！直接前往节点 A 需要 6 分钟。但是经过节点 B 前往节点 A 只需要 5 分钟。\n",
    "\n",
    "对于节点 B 的邻居，如果找到前往它的更短路径，就更新其开销。\n",
    "\n",
    "- 前往节点 A 的更短路径，时间从 6 分钟缩短到 5 分钟。\n",
    "- 前往终点的更短路径，时间从无穷大缩短到 7 分钟。\n",
    "\n",
    "**第三步**：对节点 B 已进行处理，所以要对节点 B 进行标记，以后将不再处理节点 B。\n",
    "\n",
    "**第四部**： 重复！\n",
    "- *重复第一步*：找出可在最短时间内前往的节点。除节点 B 之外，可以在最短时间内前往的节点是节点 A \n",
    "- *重复第二步*：更新节点 A 的所有邻居的开销。\n",
    "\n",
    "| 父节点 |节点   |耗时   |\n",
    "|------------|---------------|---------------|\n",
    "|-|A|$5$   已经是最小耗时，无需更新|\n",
    "|-|B|$2$|\n",
    "|A|终点|$6$ 更新耗时|\n",
    "\n",
    "现在对每个节点都运行了狄克斯特拉算法（无需对终点这样做）。现在，你知道：\n",
    "- 前往节点 B 需要 2 分钟；\n",
    "- 前往节点A 需要 5 分钟；\n",
    "- 前往终点需要 6 分钟。\n",
    "\n",
    "#### 所以你会发现，前往终点的时间为 6 分钟！！！"
   ]
  },
  {
   "cell_type": "markdown",
   "metadata": {},
   "source": [
    "## Python代码实现"
   ]
  },
  {
   "cell_type": "code",
   "execution_count": 17,
   "metadata": {
    "collapsed": true
   },
   "outputs": [],
   "source": [
    "# 实现一个能够找出开销最低节点的函数\n",
    "def find_lowest_cost_node(costs):\n",
    "    lowest_cost = float(\"inf\")     # 设置初始开销为无穷大，因为你现在很茫然\n",
    "    lowest_cost_node = None       # 设置初始最低开销节点为 None\n",
    "    for node in costs:            # 遍历所有的节点\n",
    "        cost = costs[node]\n",
    "        if cost < lowest_cost and node not in processed:\n",
    "            lowest_cost = cost\n",
    "            lowest_cost_node = node\n",
    "    return lowest_cost_node\n",
    "        \n",
    "\n",
    "\n",
    "# 创建用于存储所有节点及其前往邻居开销的散列表代码\n",
    "\n",
    "graph = {}\n",
    "\n",
    "graph[\"start\"] = {}\n",
    "graph[\"start\"][\"a\"] = 6\n",
    "graph[\"start\"][\"b\"] = 2\n",
    "\n",
    "graph[\"a\"] = {}\n",
    "graph[\"a\"][\"final\"] = 1\n",
    "\n",
    "graph[\"b\"] = {}\n",
    "graph[\"b\"][\"a\"] = 3\n",
    "graph[\"b\"][\"final\"] = 5\n",
    "\n",
    "graph[\"final\"] = {} # 终点没有任何邻居"
   ]
  },
  {
   "cell_type": "markdown",
   "metadata": {},
   "source": [
    "表示整个图的散列表类似下面这样。\n",
    "\n",
    "|parents|\tnode|\ttime(s)|\n",
    "|---|---|---|\n",
    "|start|\tA\t|6|\n",
    "|start|\tB\t|2|\n",
    "|A\t|final\t|1|\n",
    "|B\t|A\t|3|\n",
    "|B\t|final|\t5|\n",
    "|start|final|\t-|\n"
   ]
  },
  {
   "cell_type": "code",
   "execution_count": 18,
   "metadata": {
    "collapsed": true
   },
   "outputs": [],
   "source": [
    "# 创建从起点开始的开销表代码如下：\n",
    "infinity = float(\"inf\")\n",
    "costs = {}\n",
    "costs[\"a\"] = 6\n",
    "costs[\"b\"] = 2\n",
    "costs[\"final\"] = infinity\n",
    "\n",
    "# 创建存储父节点的hashtable如下：\n",
    "parents = {}\n",
    "parents[\"a\"] = \"start\"\n",
    "parents[\"b\"] = \"start\"\n",
    "parents[\"final\"] = None\n",
    "\n",
    "# 创建一个数组，用于记录处理过的节点，对于同一个节点，不用多次处理\n",
    "\n",
    "processed = []"
   ]
  },
  {
   "cell_type": "code",
   "execution_count": 19,
   "metadata": {},
   "outputs": [],
   "source": [
    "# 按照算法列出代码\n",
    "\n",
    "node = find_lowest_cost_node(costs)   # 在未处理的节点中找出开销最小的节点\n",
    "\n",
    "while node is None:                   # 这个 while 循环在所有节点都被处理过后结束\n",
    "    cost = costs[node]\n",
    "    neighbers = graph[node]\n",
    "    for n in neighbors.keys():         # 遍历当前节点的所有邻居\n",
    "        new_cost = cost + neighbors[n]\n",
    "        if cost[n] > new_cost:          # 如果经当前节点前往该邻居最近，\n",
    "            costs[n] = new_cost         # 就更新该邻居的开销\n",
    "            parents[n] = node           # 同时将该邻居的父节点设置为当前节\n",
    "    processed.append(node)              # 将当前节点标记为已处理\n",
    "    node = find_lowest_cost_node(costs) # 找出接下来要处理的节点，并循环\n"
   ]
  },
  {
   "cell_type": "code",
   "execution_count": 33,
   "metadata": {},
   "outputs": [
    {
     "name": "stdout",
     "output_type": "stream",
     "text": [
      "到达终点的最快到达的时间是6分钟\n"
     ]
    }
   ],
   "source": [
    "%run dijkstra_algorithm"
   ]
  },
  {
   "cell_type": "code",
   "execution_count": null,
   "metadata": {
    "collapsed": true
   },
   "outputs": [],
   "source": []
  }
 ],
 "metadata": {
  "kernelspec": {
   "display_name": "Python 3",
   "language": "python",
   "name": "python3"
  },
  "language_info": {
   "codemirror_mode": {
    "name": "ipython",
    "version": 3
   },
   "file_extension": ".py",
   "mimetype": "text/x-python",
   "name": "python",
   "nbconvert_exporter": "python",
   "pygments_lexer": "ipython3",
   "version": "3.6.3"
  }
 },
 "nbformat": 4,
 "nbformat_minor": 2
}

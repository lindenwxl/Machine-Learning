{
 "cells": [
  {
   "cell_type": "markdown",
   "metadata": {},
   "source": [
    "---\n",
    "# In this chapter\n",
    "\n",
    "- ``You get a foundation for the rest of the book``.\n",
    "\n",
    "-  ``You write your first search algorithm (binary search)``.\n",
    "-  ``You learn how to talk about the running time of an algorithm (Big O notation)``.\n",
    "-  ``You’re introduced to a common technique for designing algorithms (recursion)``.\n",
    "---"
   ]
  },
  {
   "cell_type": "markdown",
   "metadata": {},
   "source": [
    "## Introduction\n",
    "\n",
    "An algorithm is a set of instructions for accomplishing a task. Every\n",
    "piece of code could be called an algorithm, but this book covers the\n",
    "more interesting bits. I chose the algorithms in this book for inclusion\n",
    "because they’re fast, or they solve interesting problems, or both. Here\n",
    "are some highlights:\n",
    "\n",
    "- *Chapter 1* talks about binary search and shows how an algorithm can speed up your code. In one example, the number of steps needed goes from 4 billion down to 32!\n",
    "\n",
    "\n",
    "- A GPS device uses graph algorithms (as you’ll learn in chapters 6, 7,and 8) to calculate the shortest route to your destination.\n",
    "\n",
    "\n",
    "- You can use dynamic programming (discussed in chapter 9) to write an AI algorithm that plays checkers.\n",
    "\n",
    "In each case, I’ll describe the algorithm and give you an example. Then\n",
    "I’ll talk about the running time of the algorithm in Big O notation.\n",
    "Finally, I’ll explore what other types of problems could be solved by the\n",
    "same algorithm."
   ]
  },
  {
   "cell_type": "markdown",
   "metadata": {},
   "source": [
    "## What you’ll learn about performance\n",
    "\n",
    "The good news is, an implementation of every algorithm in this book is\n",
    "probably available in your favorite language, so you don’t have to write\n",
    "each algorithm yourself! But those implementations are useless if you\n",
    "don’t understand the trade-ofs. In this book, you’ll learn to compare\n",
    "trade-ofs between diferent algorithms: Should you use merge sort or\n",
    "quicksort? Should you use an array or a list? Just using a diferent data\n",
    "structure can make a big diference."
   ]
  },
  {
   "cell_type": "markdown",
   "metadata": {},
   "source": [
    "## What you’ll learn about solving problems\n",
    "\n",
    "You’ll learn techniques for solving problems that might have been out of\n",
    "your grasp until now. For example:\n",
    "\n",
    "-  If you like making video games, you can write an AI system that follows the user around using graph algorithms.\n",
    "\n",
    "\n",
    "-  You’ll learn to make a recommendations system using k-nearest neighbors.\n",
    "\n",
    "\n",
    "-  Some problems aren’t solvable in a timely manner! he part of this book that talks about NP-complete problems shows you how to identify those problems and come up with an algorithm that gives you an approximate answer.\n",
    "\n",
    "More generally, by the end of this book, you’ll know some of the most\n",
    "widely applicable algorithms. You can then use your new knowledge to\n",
    "learn about more specific algorithms for AI, databases, and so on. Or\n",
    "you can take on bigger challenges at work."
   ]
  },
  {
   "cell_type": "markdown",
   "metadata": {},
   "source": [
    "#### What you need to know\n",
    "\n",
    "You’ll need to know basic algebra before starting this book. In particular,\n",
    "take this function: $f(x) = x × 2$. What is f(5)? If you answered 10,\n",
    "you’re set.\n",
    "\n",
    "Additionally, this chapter (and this book) will be easier to follow if\n",
    "you’re familiar with one programming language. All the examples in\n",
    "this book are in Python. If you don’t know any programming languages\n",
    "and want to learn one, choose Python—it’s great for beginners. If you\n",
    "know another language, like Ruby, you’ll be fine."
   ]
  },
  {
   "cell_type": "markdown",
   "metadata": {},
   "source": [
    "# Binary search\n",
    "\n",
    "Suppose you’re searching for a person in the phone book (what an oldfashioned\n",
    "sentence!). Their name starts with K. You could start at the\n",
    "beginning and keep lipping pages until you get to the Ks. But you’re\n",
    "more likely to start at a page in the middle, because you know the Ks\n",
    "are going to be near the middle of the phone book.\n",
    "\n",
    "\n",
    "Or suppose you’re searching for a word in a dictionary, and it\n",
    "starts with O. Again, you’ll start near the middle.\n",
    "\n",
    "\n",
    "Now suppose you log on to Facebook. When you do, Facebook\n",
    "has to verify that you have an account on the site. So, it needs to\n",
    "search for your username in its database. Suppose your username is\n",
    "karlmageddon. Facebook could start from the As and search for your\n",
    "name—but it makes more sense for it to begin somewhere in the\n",
    "middle.\n",
    "\n",
    "This is a search problem. And all these cases use the same algorithm\n",
    "to solve the problem: *binary search*.\n",
    "\n",
    "\n",
    "Binary search is an algorithm; its input is a sorted list of elements\n",
    "(I’ll explain later why it needs to be sorted). If an element you’re\n",
    "looking for is in that list, binary search returns the position\n",
    "where it’s located. Otherwise, binary search returns `null`."
   ]
  },
  {
   "cell_type": "markdown",
   "metadata": {},
   "source": [
    "For example:\n",
    "\n",
    "<img align=\"left\"   src=\"figures/binary1.png\">"
   ]
  },
  {
   "cell_type": "markdown",
   "metadata": {},
   "source": [
    "Here’s an example of how binary search works. I’m thinking of a\n",
    "number between 1 and 100.\n",
    "\n",
    "You have to try to guess my number in the fewest tries possible. With\n",
    "every guess, I’ll tell you if your guess is too low, too high, or correct.\n",
    "Suppose you start guessing like this: 1, 2, 3, 4 …. Here’s how it would\n",
    "go.\n",
    "\n",
    "<img align=\"left\"   src=\"figures/binary2.png\">"
   ]
  },
  {
   "cell_type": "markdown",
   "metadata": {},
   "source": [
    "This is simple search (maybe stupid search would be a better term). With\n",
    "each guess, you’re eliminating only one number. If my number was 99,\n",
    "it could take you 99 guesses to get there!\n",
    "\n",
    "<img align=\"left\"   src=\"figures/binary3.png\">"
   ]
  },
  {
   "cell_type": "markdown",
   "metadata": {},
   "source": [
    "### A better way to search\n",
    "\n",
    "Here’s a better technique. Start with 50.\n",
    "\n",
    "<img align=\"left\"   src=\"figures/binary4.png\">"
   ]
  },
  {
   "cell_type": "markdown",
   "metadata": {},
   "source": [
    "Too low, but you just eliminated half the numbers! Now you know that\n",
    "1–50 are all too low. Next guess: 75.\n",
    "\n",
    "<img align=\"left\"   src=\"figures/binary5.png\">"
   ]
  },
  {
   "cell_type": "markdown",
   "metadata": {},
   "source": [
    "Too high, but again you cut down half the remaining numbers! *With\n",
    "binary search, you guess the middle number and eliminate half the\n",
    "remaining numbers every time*. Next is 63 (halfway between 50 and 75).\n",
    "\n",
    "<img align=\"left\"   src=\"figures/binary6.png\">"
   ]
  },
  {
   "cell_type": "markdown",
   "metadata": {},
   "source": [
    "This is binary search. You just learned your irst algorithm! Here’s how\n",
    "many numbers you can eliminate every time.\n",
    "\n",
    "<img align=\"left\"   src=\"figures/binary7.png\">"
   ]
  },
  {
   "cell_type": "markdown",
   "metadata": {},
   "source": [
    "Whatever number I’m thinking of, you can guess in a maximum of\n",
    "seven guesses—because you eliminate so many numbers with every\n",
    "guess!\n",
    "\n",
    "Suppose you’re looking for a word in the dictionary. The dictionary has\n",
    "240,000 words. In the worst case, how many steps do you think each\n",
    "search will take?\n",
    "\n",
    "<img align=\"left\"   src=\"figures/binary8.png\">"
   ]
  },
  {
   "cell_type": "markdown",
   "metadata": {},
   "source": [
    "Simple search could take 240,000 steps if the word you’re looking for is\n",
    "the very last one in the book. With each step of binary search, you cut\n",
    "the number of words in half until you’re let with only one word.\n",
    "\n",
    "<img align=\"left\"   src=\"figures/binary9.png\">"
   ]
  },
  {
   "cell_type": "markdown",
   "metadata": {},
   "source": [
    "So binary search will take 18 steps—a big diference! In general, for any\n",
    "list of n, binary search will take $log_2n$ steps to run in the worst case,\n",
    "whereas simple search will take n steps."
   ]
  },
  {
   "cell_type": "markdown",
   "metadata": {},
   "source": [
    "### Logarithms\n",
    "\n",
    "You may not remember what logarithms are, but you probably know what\n",
    "exponentials are. $log_{10}100$ is like asking, “How many 10s do we multiply\n",
    "together to get 100?” The answer is 2: $10 × 10$. So   $log_{10}100 = 2$. Logs are the\n",
    "lip of exponentials.\n",
    "\n",
    "In this book, when I talk about running time in Big O notation (explained\n",
    "a little later), log always means $log_2$. When you search for an element using\n",
    "simple search, in the worst case you might have to look at every single\n",
    "element. So for a list of 8 numbers, you'd have to check 8 numbers at most.\n",
    "For binary search, you have to check log n elements in the worst case. For\n",
    "a list of 8 elements, $log 8 == 3$, because $2^3 == 8$. So for a list of 8 numbers,\n",
    "you would have to check 3 numbers at most. For a list of 1,024 elements,\n",
    "$log 1024 = 10$, because $2^{10} == 1024$. So for a list of 1,024 numbers, you’d\n",
    "have to check 10 numbers at most.\n",
    "\n",
    "<img align=\"left\"   src=\"figures/binary10.png\">"
   ]
  },
  {
   "cell_type": "markdown",
   "metadata": {},
   "source": [
    "<img align=\"right\"   src=\"figures/binary12.png\">\n",
    "<img align=\"left\"   src=\"figures/binary11.png\">"
   ]
  },
  {
   "cell_type": "markdown",
   "metadata": {},
   "source": [
    "Let’s see how to write binary search in Python. The code sample here\n",
    "uses arrays. If you don’t know how arrays work, don’t worry; they’re\n",
    "covered in the next chapter. You just need to know that you can store\n",
    "a sequence of elements in a row of consecutive buckets called an array.\n",
    "The buckets are numbered starting with 0: the first bucket is at position$#0$, the second is $#1$, the third is $#2$, and so on.\n",
    "\n",
    "\n",
    "The ``binary_search`` function takes a sorted array and an item. If the\n",
    "item is in the array, the function returns its position. You’ll keep track\n",
    "of what part of the array you have to search through. At the beginning,\n",
    "this is the entire array:\n",
    "```python\n",
    "low = 0\n",
    "high = len(lists) - 1\n",
    "```\n",
    "\n",
    "Each time, you check the middle element:\n",
    "```python\n",
    "mid = (low + high) // 2\n",
    "guess = lists[mid]\n",
    "```"
   ]
  },
  {
   "cell_type": "markdown",
   "metadata": {},
   "source": [
    "If the guess is too low, you update ``low`` accordingly:\n",
    "```python\n",
    "if guess < item:\n",
    "    low = mid + 1\n",
    "```\n",
    "And if the guess is too high, you update `high`. Here’s the full code:\n",
    "```python\n",
    "def binary_search(lists, item):\n",
    "    low = 0\n",
    "    high = len(lists) - 1            # low and high keep track of which part of the list you’ll search in.\n",
    "    \n",
    "    while low <= high :             # While you haven’t narrowed it down to one element …\n",
    "        mid = (low + high) // 2      # check the middle element.\n",
    "        guess = lists[mid]\n",
    "        \n",
    "        if guess == item:            # Found the item.\n",
    "            return mid\n",
    "        if guess > item:             # The guess was too high.\n",
    "            high = mid - 1\n",
    "        else:                        # The guess was too low\n",
    "            low = mid + 1\n",
    "    return None                     # The item doesn’t exist\n",
    "\n",
    "my_list = [1, 3, 5, 6, 7, 9, 11]\n",
    "\n",
    "print(binary_search(my_list, 3))\n",
    "print(binary_search(my_list, 5))\n",
    "print(binary_search(my_list, -1))\n",
    "```"
   ]
  },
  {
   "cell_type": "code",
   "execution_count": 6,
   "metadata": {},
   "outputs": [
    {
     "name": "stdout",
     "output_type": "stream",
     "text": [
      "1\n",
      "2\n",
      "None\n"
     ]
    }
   ],
   "source": [
    "%run binary_search"
   ]
  },
  {
   "cell_type": "markdown",
   "metadata": {},
   "source": [
    "#### EXERCISES\n",
    "\n",
    "1.1 Suppose you have a sorted list of 128 names, and you’re searching\n",
    "through it using binary search. What’s the maximum number of\n",
    "steps it would take?\n",
    "\n",
    "\n",
    "1.2 Suppose you double the size of the list. What’s the maximum\n",
    "number of steps now?"
   ]
  },
  {
   "cell_type": "code",
   "execution_count": 4,
   "metadata": {
    "collapsed": true
   },
   "outputs": [],
   "source": [
    "# Excercise1.1: Ans 7\n",
    "# Excercise1.2: Ans 8"
   ]
  },
  {
   "cell_type": "markdown",
   "metadata": {},
   "source": [
    "<img align=\"right\"   src=\"figures/binary13.png\">\n",
    "## Running time\n",
    "---\n",
    "\n",
    "\n",
    "\n",
    "Any time I talk about an algorithm, I’ll discuss its running time.\n",
    "Generally you want to choose the most efficient algorithm—\n",
    "whether you’re trying to optimize for time or space.\n",
    "\n",
    "\n",
    "Back to binary search. How much time do you save by using\n",
    "it? Well, the first approach was to check each number, one by\n",
    "one. If this is a list of 100 numbers, it takes up to 100 guesses.\n",
    "If it's a list of 4 billion numbers, it takes up to 4 billion guesses. So the\n",
    "maximum number of guesses is the same as the size of the list. This is\n",
    "called linear time.\n",
    "\n",
    "\n",
    "Binary search is diferent. If the list is 100 items long, it takes at most\n",
    "7 guesses. If the list is 4 billion items, it takes at most 32 guesses.\n",
    "Powerful, eh? Binary search runs in logarithmic time (or log time, as\n",
    "the natives call it). Here’s a table summarizing our findings today.\n"
   ]
  },
  {
   "cell_type": "markdown",
   "metadata": {},
   "source": [
    "# Big $O$ notation\n",
    "\n",
    "Big $O$ notation is special notation that tells you how fast an algorithm is.\n",
    "Who cares? Well, it turns out that you’ll use other people’s algorithms\n",
    "often—and when you do, it’s nice to understand how fast or slow they\n",
    "are. In this section, I’ll explain what Big $O$ notation is and give you a list\n",
    "of the most common running times for algorithms using it."
   ]
  },
  {
   "cell_type": "markdown",
   "metadata": {},
   "source": [
    "<img align=\"left\"   src=\"figures/binary14.png\">\n",
    "\n",
    "## Algorithm running times grow at diferent rates\n",
    "\n",
    "Bob is writing a search algorithm for NASA. His algorithm will kick in\n",
    "when a rocket is about to land on the Moon, and it will help calculate\n",
    "where to land.\n",
    "\n",
    "\n",
    "This is an example of how the run time of two algorithms can grow\n",
    "at diferent rates. Bob is trying to decide between simple search and\n",
    "binary search. The algorithm needs to be both fast and correct. On one\n",
    "hand, binary search is faster. And Bob has only 10 seconds to figure out\n",
    "where to land—otherwise, the rocket will be of course. On the other\n",
    "hand, simple search is easier to write, and there is less chance of bugs\n",
    "being introduced. And Bob really doesn’t want bugs in the code to land\n",
    "a rocket! To be extra careful, Bob decides to time both algorithms with\n",
    "a list of 100 elements.\n",
    "\n",
    "\n",
    "Let’s assume it takes 1 millisecond to check one element. With simple\n",
    "search, Bob has to check 100 elements, so the search takes 100 ms to\n",
    "run. On the other hand, he only has to check 7 elements with binary\n",
    "search (log2 100 is roughly 7), so that search takes 7 ms to run. But\n",
    "realistically, the list will have more like a billion elements. If it does,\n",
    "how long will simple search take? How long will binary search take?\n",
    "Make sure you have an answer for each question before reading on.\n",
    "\n",
    "\n",
    "Bob runs binary search with 1 billion elements, and it takes 30 ms\n",
    "(log2 1,000,000,000 is roughly 30). “32 ms!” he thinks. “Binary search\n",
    "is about 15 times faster than simple search, because simple search took\n",
    "100 ms with 100 elements, and binary search took 7 ms. So simple\n",
    "search will take 30 × 15 = 450 ms, right? Way under my threshold of\n",
    "10 seconds.” Bob decides to go with simple search. Is that the right\n",
    "choice?\n",
    "\n",
    "\n",
    "No. Turns out, Bob is wrong. Dead wrong. The run time for simple\n",
    "search with 1 billion items will be 1 billion ms, which is 11 days! The\n",
    "problem is, the run times for binary search and simple search *don’t\n",
    "grow at the same rate*.\n",
    "\n",
    "\n",
    "\n",
    "That is, as the number of items increases, binary search takes a little\n",
    "more time to run. \n",
    "\n",
    "But simple search takes a lot more time to run. So\n",
    "as the list of numbers gets bigger, binary search suddenly becomes a\n",
    "lot faster than simple search. Bob thought binary search was 15 times\n",
    "faster than simple search, but that’s not correct. If the list has 1 billion\n",
    "items, it’s more like 33 million times faster. That’s why it’s not enough\n",
    "to know how long an algorithm takes to run—you need to know how\n",
    "the running time increases as the list size increases. That’s where Big O\n",
    "notation comes in.\n",
    "\n",
    "<img align=\"left\"  src=\"figures/binary15.png\">\n",
    "Big $O$ notation tells you how fast an algorithm is. For example, suppose\n",
    "you have a list of size n. Simple search needs to check each element, so\n",
    "it will take n operations. The run time in Big O notation is O(n). Where\n",
    "are the seconds? Where are none—Big O doesn’t tell you the speed in\n",
    "seconds. Big $O$ notation lets you compare the number of operations. It\n",
    "tells you how fast the algorithm grows.\n",
    "\n",
    "\n",
    "Here’s another example. Binary search needs $log{n}$ operations to check\n",
    "a list of size n. What’s the running time in Big O notation? It’s $O(log n)$.\n",
    "In general, Big $O$ notation is written as follows.\n",
    "\n",
    "This tells you the number of operations an algorithm will make. It’s\n",
    "called Big O notation because you put a “big O” in front of the number\n",
    "of operations (it sounds like a joke, but it’s true!).\n",
    "Now let’s look at some examples. See if you can igure out the run time\n",
    "for these algorithms.\n"
   ]
  },
  {
   "cell_type": "markdown",
   "metadata": {
    "collapsed": true
   },
   "source": [
    "<img align=\"right\"   src=\"figures/binary16.png\">\n",
    "\n",
    "## Visualizing diferent Big O run times\n",
    "\n",
    "Here’s a practical example you can follow at\n",
    "home with a few pieces of paper and a pencil.\n",
    "Suppose you have to draw a grid of 16 boxes.\n",
    "\n",
    "#### Algorithm 1\n",
    "One way to do it is to draw 16 boxes, one at\n",
    "a time. Remember, Big O notation counts\n",
    "the number of operations. In this example,\n",
    "drawing one box is one operation. You have\n",
    "to draw 16 boxes. How many operations will\n",
    "it take, drawing one box at a time?\n",
    "\n",
    "<img align=\"left\"   src=\"figures/binary17.png\">\n",
    "\n",
    "---\n",
    "It takes 16 steps to draw 16 boxes. What’s the running time for this\n",
    "algorithm?\n",
    "\n",
    "---"
   ]
  },
  {
   "cell_type": "markdown",
   "metadata": {},
   "source": [
    "#### Algorithm 2\n",
    "\n",
    "Try this algorithm instead. Fold the paper.\n",
    "\n",
    "\n",
    "In this example, folding the paper once is an operation. You just made two boxes with that operation!\n",
    "\n",
    "Fold the paper again, and again, and again.\n",
    "\n",
    "Unfold it ater four folds, and you’ll have a beautiful grid! Every fold\n",
    "doubles the number of boxes. You made 16 boxes with 4 operations.\n",
    "\n",
    "<img align=\"left\"   src=\"figures/binary18.png\">\n",
    "\n",
    "---\n",
    "You can “draw” twice as many boxes with every fold, so you can draw\n",
    "16 boxes in 4 steps. What’s the running time for this algorithm? Come\n",
    "up with running times for both algorithms before moving on.\n",
    "Answers: Algorithm 1 takes $O(n)$ time, and algorithm 2 takes\n",
    "$O(log n)$ time.\n",
    "\n",
    "---"
   ]
  },
  {
   "cell_type": "markdown",
   "metadata": {},
   "source": [
    "## Big $O$ establishes a worst-case run time\n",
    "\n",
    "Suppose you’re using simple search to look for a person in the phone\n",
    "book. You know that simple search takes O(n) time to run, which\n",
    "means in the worst case, you’ll have to look through every single entry\n",
    "in your phone book. In this case, you’re looking for Adit. This guy is\n",
    "the first entry in your phone book. So you didn’t have to look at every\n",
    "entry—you found it on the first try. Did this algorithm take O(n) time?\n",
    "Or did it take O(1) time because you found the person on the first try?\n",
    "\n",
    "<img align=\"right\"   src=\"figures/binary19.png\">\n",
    "\n",
    "\n",
    "Simple search still takes O(n) time. In this case, you found what you\n",
    "were looking for instantly. That’s the best-case scenario. But Big O\n",
    "notation is about the worst-case scenario. So you can say that, in the\n",
    "worst case, you’ll have to look at every entry in the phone book once.\n",
    "That’s O(n) time. It’s a reassurance—you know that simple search will\n",
    "never be slower than O(n) time.\n"
   ]
  },
  {
   "cell_type": "markdown",
   "metadata": {},
   "source": [
    "## Some common Big $O$ run times\n",
    "\n",
    "Here are ive Big O run times that you’ll encounter a lot, sorted from\n",
    "fastest to slowest:\n",
    "\n",
    "- $O(log n)$: also known as log time. Example: Binary search.\n",
    "\n",
    "\n",
    "- $O(n)$: also known as linear time. Example: Simple search.\n",
    "\n",
    "\n",
    "- $O(n * log n)$: Example: A fast sorting algorithm, like quicksort (coming up in chapter 4).\n",
    "\n",
    "\n",
    "- $O(n2)$ Example: A slow sorting algorithm, like selection sort (coming up in chapter 2).\n",
    "\n",
    "\n",
    "- $O(n!)$ Example: A really slow algorithm, like the traveling salesperson (coming up next!).\n",
    "\n",
    "\n",
    "Suppose you’re drawing a grid of 16 boxes again, and you can choose\n",
    "from 5 diferent algorithms to do so. If you use the first algorithm, it\n",
    "will take you $O(log n)$ time to draw the grid. You can do 10 operations\n",
    "per second. With $O(log n)$ time, it will take you 4 operations to draw a\n",
    "grid of 16 boxes (log 16 is 4). So it will take you 0.4 seconds to draw\n",
    "the grid. What if you have to draw 1,024 boxes? It will take you\n",
    "log 1,024 = 10 operations, or 1 second to draw a grid of 1,024 boxes.\n",
    "These numbers are using the irst algorithm.\n",
    "\n",
    "<img align=\"right\"   src=\"figures/binary20.png\">\n",
    "The second algorithm is slower: it takes $O(n)$ time. It will take 16\n",
    "operations to draw 16 boxes, and it will take 1,024 operations to draw\n",
    "1,024 boxes. How much time is that in seconds?\n",
    "\n",
    "\n",
    "Here’s how long it would take to draw a grid for the rest of the\n",
    "algorithms, from fastest to slowest:\n",
    "\n",
    "\n",
    "\n",
    "There are other run times, too, but these are the five most common.\n",
    "This is a simpliication. In reality you can’t convert from a Big O run\n",
    "time to a number of operations this neatly, but this is good enough\n",
    "for now. We’ll come back to Big O notation in chapter 4, after you’ve\n",
    "learned a few more algorithms. For now, the main takeaways are as\n",
    "follows:\n",
    "\n",
    "-  Algorithm speed isn’t measured in seconds, but in growth of thenumber of operations.\n",
    "\n",
    "\n",
    "-  Instead, we talk about how quickly the run time of an algorithm increases as the size of the input increases.\n",
    "\n",
    "\n",
    "-  Run time of algorithms is expressed in Big O notation.\n",
    "\n",
    "\n",
    "-  O(log n) is faster than O(n), but it gets a lot faster as the list of items you’re searching grows."
   ]
  },
  {
   "cell_type": "markdown",
   "metadata": {},
   "source": [
    "#### EXERCISES\n",
    "\n",
    "Give the run time for each of these scenarios in terms of Big O.\n",
    "\n",
    "- 1.3 You have a name, and you want to find the person’s phone number in the phone book.\n",
    "\n",
    "\n",
    "- 1.4 You have a phone number, and you want to find the person’s name in the phone book. (Hint: You’ll have to search through the whole book!)\n",
    "\n",
    "\n",
    "- 1.5 You want to read the numbers of every person in the phone book.\n",
    "\n",
    "\n",
    "- 1.6 You want to read the numbers of just the As. (This is a tricky one!It involves concepts that are covered more in chapter 4. Read the answer—you may be surprised!)"
   ]
  },
  {
   "cell_type": "code",
   "execution_count": 5,
   "metadata": {
    "collapsed": true
   },
   "outputs": [],
   "source": [
    "# excercise1.3  Ans: O(log n)\n",
    "\n",
    "# excercise1.4  Ans: O(n)\n",
    "\n",
    "# excercise1.5  Ans: O(n)\n",
    "\n",
    "# excercise1.6  Ans: O(n)"
   ]
  },
  {
   "cell_type": "markdown",
   "metadata": {},
   "source": [
    "<img align=\"left\"   src=\"figures/salesperson1.png\">\n",
    "\n",
    "## Algorithm running times grow at diferent rates\n",
    "\n",
    "You might have read that last section and thought, “here’s no way I’ll\n",
    "ever run into an algorithm that takes O(n!) time.” Well, let me try to\n",
    "prove you wrong! Here’s an example of an algorithm with a really bad\n",
    "running time. This is a famous problem in computer science, because\n",
    "its growth is appalling and some very smart people think it can’t be\n",
    "improved. It’s called the traveling salesperson problem."
   ]
  },
  {
   "cell_type": "markdown",
   "metadata": {},
   "source": [
    "<img align=\"left\"   src=\"figures/salesperson2.png\">\n",
    "You have a salesperson\n",
    "\n",
    "The salesperson has to go to ive cities\n",
    "\n"
   ]
  },
  {
   "cell_type": "markdown",
   "metadata": {},
   "source": [
    "<img align=\"left\"   src=\"figures/salesperson3.png\">\n",
    "This salesperson, whom I’ll call Opus, wants to hit all ive cities while\n",
    "traveling the minimum distance. Here’s one way to do that: look\n",
    "at every possible order in which he could travel to the cities."
   ]
  },
  {
   "cell_type": "markdown",
   "metadata": {},
   "source": [
    "<img align=\"left\"   src=\"figures/salesperson4.png\">\n",
    "He adds up the total distance and then picks the path with the\n",
    "lowest distance. here are 120 permutations with 5 cities, so it will\n",
    "take 120 operations to solve the problem for 5 cities. For 6 cities, it\n",
    "will take 720 operations (there are 720 permutations). For 7 cities,\n",
    "it will take 5,040 operations!\n",
    "\n",
    "\n",
    "In general, for $n$ items, it will take $n!$ (n factorial) operations to\n",
    "compute the result. So this is $O(n!)$ time, or factorial time. It takes a\n",
    "lot of operations for everything except the smallest numbers. Once\n",
    "you’re dealing with 100+ cities, it’s impossible to calculate the answer in\n",
    "time—the Sun will collapse first.\n",
    "\n",
    "\n",
    "This is a terrible algorithm! Opus should use a diferent one, right? But\n",
    "he can’t. This is one of the unsolved problems in computer science.\n",
    "There’s no fast known algorithm for it, and smart people think it’s\n",
    "impossible to have a smart algorithm for this problem. The best we can\n",
    "do is come up with an approximate solution; see chapter 10 for more.\n",
    "\n",
    "\n",
    "One final note: if you’re an advanced reader, check out binary search\n",
    "trees! There’s a brief description of them in the last chapter."
   ]
  },
  {
   "cell_type": "markdown",
   "metadata": {},
   "source": [
    "## `Recap`\n",
    "\n",
    "-  Binary search is a lot faster than simple search.\n",
    "\n",
    "\n",
    "-  $O(log n)$ is faster than $O(n)$, but it gets a lot faster once the list of items you’re searching through grows.\n",
    "\n",
    "\n",
    "-  Algorithm speed isn’t measured in seconds.\n",
    "\n",
    "\n",
    "-  Algorithm times are measured in terms of growth of an algorithm.\n",
    "\n",
    "\n",
    "-  Algorithm times are written in Big O notation."
   ]
  }
 ],
 "metadata": {
  "kernelspec": {
   "display_name": "Python 3",
   "language": "python",
   "name": "python3"
  },
  "language_info": {
   "codemirror_mode": {
    "name": "ipython",
    "version": 3
   },
   "file_extension": ".py",
   "mimetype": "text/x-python",
   "name": "python",
   "nbconvert_exporter": "python",
   "pygments_lexer": "ipython3",
   "version": "3.6.3"
  }
 },
 "nbformat": 4,
 "nbformat_minor": 2
}

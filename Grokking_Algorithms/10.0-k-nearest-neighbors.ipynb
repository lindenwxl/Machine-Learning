{
 "cells": [
  {
   "cell_type": "markdown",
   "metadata": {},
   "source": [
    "## ``K最近邻算法``\n",
    "\n",
    "### 本章内容\n",
    "- 学习使用K最近邻算法创建分类系统。\n",
    "- 学习特征抽取。\n",
    "- 学习回归，即预测数值，如明天的股价或用户对某部电影的喜欢程度。\n",
    "- 学习K最近邻算法的应用案例和局限性。"
   ]
  },
  {
   "cell_type": "markdown",
   "metadata": {},
   "source": [
    "你将使用KNN来做两项基本工作——``分类和回归``：\n",
    "\n",
    "- 分类就是编组；\n",
    "- 回归就是预测结果（如一个数字）"
   ]
  },
  {
   "cell_type": "markdown",
   "metadata": {},
   "source": [
    "## `机器学习简介`\n",
    "\n",
    "KNN算法真的是很有用，堪称你进入神奇的机器学习领域的领路人！机器学习旨在让计算机更聪明。\n",
    "\n",
    "- (1)、OCR， 指的是光学字符识别（optical character recognition），这意味着你可拍摄印刷页面的照片，计算机将自动识别出其中的文字。Google使用OCR来实现图书数字化。一般而言，OCR算法提取线段、点和曲线等特征。\n",
    "\n",
    "\n",
    "- (2)、创建垃圾邮件过滤器， 垃圾邮件过滤器使用一种简单算法——朴素贝叶斯分类器（Naive Bayes classifier）。朴素贝叶斯分类器能计算出邮件为垃圾邮件的概率，其应用领域与KNN相似。朴素贝叶斯分类器也是一种简单而极其有效的算法。我们钟爱这样的算法！\n",
    "\n",
    "\n",
    "- (3)、预测股票市场。使用机器学习来预测股票市场的涨跌真的很难。在根据以往的数据来预测未来方面，没有万无一失的方法。未来很难预测，由于涉及的变数太多，这几乎是不可能完成的任务。"
   ]
  },
  {
   "cell_type": "markdown",
   "metadata": {},
   "source": [
    "### 小结\n",
    "\n",
    "机器学习是个很有趣的领域，只要下定决心，你就能很深入地了解它。\n",
    "- KNN用于分类和回归，需要考虑最近的邻居。\n",
    "- 分类就是编组。\n",
    "- 回归就是预测结果（如数字）。\n",
    "- 特征抽取意味着将物品（如水果或用户）转换为一系列可比较的数字。\n",
    "- 能否挑选合适的特征事关KNN算法的成败。"
   ]
  }
 ],
 "metadata": {
  "kernelspec": {
   "display_name": "Python 3",
   "language": "python",
   "name": "python3"
  },
  "language_info": {
   "codemirror_mode": {
    "name": "ipython",
    "version": 3
   },
   "file_extension": ".py",
   "mimetype": "text/x-python",
   "name": "python",
   "nbconvert_exporter": "python",
   "pygments_lexer": "ipython3",
   "version": "3.6.3"
  }
 },
 "nbformat": 4,
 "nbformat_minor": 2
}

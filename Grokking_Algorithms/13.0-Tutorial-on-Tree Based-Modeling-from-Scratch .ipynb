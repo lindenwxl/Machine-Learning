{
 "cells": [
  {
   "cell_type": "markdown",
   "metadata": {},
   "source": [
    "## 简介\n",
    "\n",
    "基于树的学习算法被认为是最优秀学习方法之一，它主要用于监督学习。树方法帮助预测模型拥有较高的精度，稳定性、易于解释。与线性模型不同，树模型映射非线性关系相当好。适用于解决手头上任何类型的问题（``分类或回归``）。\n",
    "\n",
    "决策树、随机森林、gradient boosting等方法被广泛用于各种数据学科问题中。因此，对于每个分析师（包括新人）来说，学习这些算法并用它们建模很重要。\n",
    "\n",
    "本教程旨在帮助初学者学习树建模。成功学完本教程后，有望成为一个精通使用树算法，建立预测模型的人."
   ]
  },
  {
   "cell_type": "markdown",
   "metadata": {},
   "source": [
    "## 目录\n",
    "\n",
    "- ①、什么是决策树？它是如何工作的？\n",
    "\n",
    "- ②、回归树和分类树\n",
    "- ③、一棵树是如何决定在哪里分裂？\n",
    "- ④、树建模的关键参数是什么？我们如何避免决策树的过拟合？\n",
    "- ⑤、基于树的模型优于线性模型吗？\n",
    "- ⑥、Python中使用决策树\n",
    "- ⑦、树建模的集成方法是什么？\n",
    "- ⑧、什么是Bagging？它是如何工作的？\n",
    "- ⑨、什么是随机森林？它是如何工作的？\n",
    "- ⑩、什么是Boosting？它是如何工作的？\n",
    "- 11、GBM和Xgboost哪个更强大？\n",
    "- 12、Python中使用GBM\n",
    "- 13、Python中使用XGBoost\n",
    "- 14、在哪里实践？"
   ]
  },
  {
   "cell_type": "code",
   "execution_count": null,
   "metadata": {
    "collapsed": true
   },
   "outputs": [],
   "source": []
  }
 ],
 "metadata": {
  "kernelspec": {
   "display_name": "Python 3",
   "language": "python",
   "name": "python3"
  },
  "language_info": {
   "codemirror_mode": {
    "name": "ipython",
    "version": 3
   },
   "file_extension": ".py",
   "mimetype": "text/x-python",
   "name": "python",
   "nbconvert_exporter": "python",
   "pygments_lexer": "ipython3",
   "version": "3.6.3"
  }
 },
 "nbformat": 4,
 "nbformat_minor": 2
}

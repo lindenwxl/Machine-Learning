{
 "cells": [
  {
   "cell_type": "markdown",
   "metadata": {},
   "source": [
    "---\n",
    "# In this chapter\n",
    "\n",
    "<img align=\"right\" src=\"figures/sort0.png\">\n",
    "\n",
    "- ``You learn about arrays and linked lists—two of the most basic data structures. They’re used absolutely everywhere. You already used arrays in chapter 1,and you’ll use them in almost every chapter in this book. Arrays are a crucial topic, so pay attention!But sometimes it’s better to use a linked list instead of an array. This chapter explains the pros and cons of both so you can decide which one is right for your algorithm.``.\n",
    "   \n",
    "   \n",
    "-  ``You learn your first sorting algorithm. A lot of algorithms only work if your data is sorted. Remember  binary search? You can run binary search only on a sorted list of elements. This chapter teaches you selection sort. Most languages have a sorting algorithm built in, so you’ll rarely need to write your own version from scratch. But selection sort is a stepping stone to quicksort, which I’ll cover in the next chapter. Quicksort is an important algorithm,and it will be easier to understand if you know one sorting algorithm already.``.\n"
   ]
  },
  {
   "cell_type": "markdown",
   "metadata": {},
   "source": [
    "<img align=\"left\" src=\"figures/sort1.png\">\n",
    "# How memory works\n",
    "\n",
    "Imagine you go to a show and need to check your things. A chest of drawers is available.\n",
    "\n",
    "Each drawer can hold one element. You want to store two things, so you ask for two drawers.\n",
    "\n",
    "You store your two things here.\n",
    "\n",
    "And you’re ready for the show! This is basically how your computer’s\n",
    "memory works. Your computer looks like a giant set of drawers, and\n",
    "each drawer has an address."
   ]
  },
  {
   "cell_type": "markdown",
   "metadata": {},
   "source": [
    "<img align=\"left\" src=\"figures/sort2.png\">\n",
    "\n",
    "$\\boldsymbol{fe{\\phi}feeb}$ is the address of a slot in memory.\n",
    "\n",
    "Each time you want to store an item in memory, you ask the computer\n",
    "for some space, and it gives you an address where you can store your\n",
    "item. If you want to store multiple items, there are two basic ways to\n",
    "do so: arrays and lists. I’ll talk about arrays and lists next, as well as the\n",
    "pros and cons of each. There isn’t one right way to store items for every\n",
    "use case, so it’s important to know the diferences."
   ]
  },
  {
   "cell_type": "markdown",
   "metadata": {},
   "source": [
    "<img align=\"left\" src=\"figures/sort3.png\">\n",
    "## Arrays and linked lists\n",
    "\n",
    "Sometimes you need to store a list of elements in memory. Suppose\n",
    "you’re writing an app to manage your todos. You’ll want to store the\n",
    "todos as a list in memory.\n",
    "Should you use an array, or a linked list? Let’s store the todos in an\n",
    "array irst, because it’s easier to grasp. Using an array means all your\n",
    "tasks are stored contiguously (right next to each other) in memory."
   ]
  },
  {
   "cell_type": "markdown",
   "metadata": {},
   "source": [
    "Now suppose you want to add a fourth task. But the next drawer is\n",
    "taken up by someone else’s stuff!\n",
    "\n",
    "\n",
    "It’s like going to a movie with your friends and finding a place to sit—\n",
    "but another friend joins you, and there’s no place for them. You have to\n",
    "move to a new spot where you all it. In this case, you need to ask your\n",
    "computer for a diferent chunk of memory that can it four tasks. Then\n",
    "you need to move all your tasks there.\n",
    "\n",
    "<img align=\"left\" src=\"figures/sort4.png\">\n",
    "<img align=\"middle\" src=\"figures/sort5.png\">"
   ]
  },
  {
   "cell_type": "markdown",
   "metadata": {},
   "source": [
    "If another friend comes by, you’re out of room again—and you all have\n",
    "to move a second time! What a pain. Similarly, adding new items to\n",
    "an array can be a big pain. If you’re out of space and need to move to a\n",
    "new spot in memory every time, adding a new item will be really slow.\n",
    "One easy fix is to “hold seats”: even if you have only 3 items in your task\n",
    "list, you can ask the computer for 10 slots, just in case. Then you can\n",
    "add 10 items to your task list without having to move. This is a good\n",
    "workaround, but you should be aware of a couple of downsides:\n",
    "\n",
    "- You may not need the extra slots that you asked for, and then that memory will be wasted. You aren’t using it, but no one else can use it either.\n",
    "\n",
    "\n",
    "- You may add more than 10 items to your task list and have to move anyway.\n",
    "\n",
    "So it’s a good workaround, but it’s not a perfect solution. Linked lists\n",
    "solve this problem of adding items."
   ]
  },
  {
   "cell_type": "markdown",
   "metadata": {},
   "source": [
    "## Linked lists\n",
    "\n",
    "With linked lists, your items can be anywhere in memory.\n",
    "\n",
    "Each item stores the address of the next item in the list. A bunch of\n",
    "random memory addresses are linked together.\n",
    "\n",
    "<img align=\"left\" src=\"figures/sort6.png\">\n",
    "<img align=\"right\" src=\"figures/sort7.png\">\n"
   ]
  },
  {
   "cell_type": "markdown",
   "metadata": {},
   "source": [
    "It’s like a treasure hunt. You go to the first address, and it says, “he next\n",
    "item can be found at address 123.” So you go to address 123, and it says,\n",
    "“The next item can be found at address 847,” and so on. Adding an item\n",
    "to a linked list is easy: you stick it anywhere in memory and store the\n",
    "address with the previous item.\n",
    "\n",
    "\n",
    "With linked lists, you never have to move your items. You also avoid\n",
    "another problem. Let’s say you go to a popular movie with ive of your\n",
    "friends. The six of you are trying to ind a place to sit, but the theater\n",
    "is packed. There aren’t six seats together. Well, sometimes this happens\n",
    "with arrays. Let’s say you’re trying to find 10,000 slots for an array. Your\n",
    "memory has 10,000 slots, but it doesn’t have 10,000 slots together. You\n",
    "can’t get space for your array! A linked list is like saying, “Let’s split up\n",
    "and watch the movie.” If there’s space in memory, you have space for\n",
    "your linked list.\n",
    "\n",
    "\n",
    "If linked lists are so much better at inserts, what are arrays good for?"
   ]
  },
  {
   "cell_type": "markdown",
   "metadata": {},
   "source": [
    "<img align=\"left\" src=\"figures/sort8.png\">\n",
    "\n",
    "### Arrays\n",
    "\n",
    "Websites with top-10 lists use a scummy tactic to get more page views.\n",
    "Instead of showing you the list on one page, they put one item on each\n",
    "page and make you click Next to get to the next item in the list. For\n",
    "example, Top 10 Best TV Villains won’t show you the entire list on one\n",
    "page. Instead, you start at $#10$ (Newman), and you have to click Next on\n",
    "each page to reach $#1$ (Gustavo Fring). This technique gives the websites\n",
    "10 whole pages on which to show you ads, but it’s boring to click Next 9\n",
    "times to get to $#1$. It would be much better if the whole list was on one\n",
    "page and you could click each person’s name for more info.\n",
    "\n",
    "<img align=\"right\" src=\"figures/sort9.png\">\n",
    "Linked lists have a similar problem. Suppose you want to read the last\n",
    "item in a linked list. You can’t just read it, because you don’t know what\n",
    "address it’s at. Instead, you have to go to item $#1$ to get the address for\n",
    "item $#2$. Then you have to go to item $#2$ to get the address for item $#3$.\n",
    "And so on, until you get to the last item. Linked lists are great if you’re\n",
    "going to read all the items one at a time: you can read one item, follow\n",
    "the address to the next item, and so on. But if you’re going to keep\n",
    "jumping around, linked lists are terrible.\n",
    "\n",
    "Arrays are diferent. You know the address for every item in your array.\n",
    "For example, suppose your array contains five items, and you know it\n",
    "starts at address 00. What is the address of item $#5$?\n",
    "\n",
    "Simple math tells you: it’s 04. Arrays are great if you want to read\n",
    "random elements, because you can look up any element in your array\n",
    "instantly. With a linked list, the elements aren’t next to each other,\n",
    "so you can’t instantly calculate the position of the fifth element in\n",
    "memory—you have to go to the first element to get the address to the\n",
    "second element, then go to the second element to get the address of\n",
    "the third element, and so on until you get to the fith element."
   ]
  },
  {
   "cell_type": "markdown",
   "metadata": {},
   "source": [
    "<img align=\"left\" src=\"figures/sort10.png\">\n",
    "\n",
    "### Terminology\n",
    "\n",
    "The elements in an array are numbered. This numbering starts from 0,\n",
    "not 1. For example, in this array, 20 is at position 1.\n",
    "\n",
    "And 10 is at position 0. This usually throws new programmers for a\n",
    "spin. Starting at 0 makes all kinds of array-based code easier to write,\n",
    "so programmers have stuck with it. Almost every programming\n",
    "language you use will number array elements starting at 0. You’ll\n",
    "soon get used to it.\n",
    "\n",
    "<img align=\"right\" src=\"figures/sort11.png\">\n",
    "\n",
    "The position of an element is called its *index*. So instead of saying, *“20 is\n",
    "at position 1,”* the correct terminology is, *“20 is at index 1.”* I’ll use index\n",
    "to mean position throughout this book.\n",
    "\n",
    "Here are the run times for common operations on arrays and lists.\n",
    "\n",
    "Question: Why does it take $O(n)$ time to insert an element into an\n",
    "array? Suppose you wanted to insert an element at the beginning of an\n",
    "array. How would you do it? How long would it take? Find the answers\n",
    "to these questions in the next section!"
   ]
  },
  {
   "cell_type": "markdown",
   "metadata": {},
   "source": [
    "### EXERCISE\n",
    "\n",
    "- 2.1 Suppose you’re building an app to keep track of your inances.\n",
    "\n",
    "<img align=\"middle\" src=\"figures/sort12.png\">\n",
    "\n",
    "Every day, you write down everything you spent money on. At the\n",
    "end of the month, you review your expenses and sum up how much\n",
    "you spent. So, you have lots of inserts and a few reads. Should you\n",
    "use an array or a list?"
   ]
  },
  {
   "cell_type": "markdown",
   "metadata": {},
   "source": [
    "```\n",
    "Answer: In this case, you’re adding expenses to the list every day and reading all the expenses \n",
    "        once a month. Arrays have fast reads and slow inserts. Linked lists have slow reads and \n",
    "        fast inserts.Because you’ll be inserting more often than reading, it makes sense to use\n",
    "        a linked list. Also,linked lists have slow reads only if you're accessing random elements \n",
    "        in the list. Because you’re reading every element in the list, linked lists will do well \n",
    "        on reads too. So a linked list is a good solution to this problem.\n",
    "```"
   ]
  },
  {
   "cell_type": "markdown",
   "metadata": {},
   "source": [
    "## Inserting into the middle of a list\n",
    "\n",
    "Suppose you want your todo list to work more like a calendar. Earlier,\n",
    "you were adding things to the end of the list.\n",
    "\n",
    "Now you want to add them in the order in which they should\n",
    "be done.\n",
    "\n",
    "<img align=\"left\" src=\"figures/sort13.png\">"
   ]
  },
  {
   "cell_type": "markdown",
   "metadata": {},
   "source": [
    "What’s better if you want to insert elements in the middle: arrays or\n",
    "lists? With lists, it’s as easy as changing what the previous element\n",
    "points to.\n",
    "\n",
    "\n",
    "But for arrays, you have to shit all the rest of the elements down.\n",
    "\n",
    "And if there’s no space, you might have to copy everything to a new\n",
    "location! Lists are better if you want to insert elements into the middle.\n",
    "\n",
    "<img align=\"left\" src=\"figures/sort14.png\">\n",
    "<img align=\"left\" src=\"figures/sort15.png\">"
   ]
  },
  {
   "cell_type": "markdown",
   "metadata": {},
   "source": [
    "### Deletions\n",
    "\n",
    "What if you want to delete an element? Again, lists are better, because\n",
    "you just need to change what the previous element points to. With\n",
    "arrays, everything needs to be moved up when you delete an element.\n",
    "Unlike insertions, deletions will always work. Insertions can fail\n",
    "sometimes when there’s no space let in memory. But you can always\n",
    "delete an element.\n",
    "\n",
    "Here are the run times for common operations on arrays and\n",
    "linked lists.\n",
    "\n",
    "||ARRAYS|LISTS|\n",
    "|-|-|-|\n",
    "|READING|$O(1)$|$O(n)$|\n",
    "|INSERTION|$O(n)$|$O(1)$|\n",
    "|DELETION|$O(n)$|$O(1)$|\n",
    "\n",
    "It’s worth mentioning that insertions and deletions are O(1) time only\n",
    "if you can instantly access the element to be deleted. It’s a common\n",
    "practice to keep track of the irst and last items in a linked list, so it\n",
    "would take only O(1) time to delete those.\n",
    "\n",
    "Which are used more: arrays or lists? Obviously, it depends on the use\n",
    "case. But arrays see a lot of use because they allow random access. There\n",
    "are two diferent types of access: random access and sequential access.\n",
    "Sequential access means reading the elements one by one, starting\n",
    "at the irst element. Linked lists can only do sequential access. If you\n",
    "want to read the 10th element of a linked list, you have to read the first\n",
    "9 elements and follow the links to the 10th element. Random access\n",
    "means you can jump directly to the 10th element. You’ll frequently\n",
    "hear me say that arrays are faster at reads. This is because they provide\n",
    "random access. A lot of use cases require random access, so arrays are\n",
    "used a lot. Arrays and lists are used to implement other data structures,\n",
    "too (coming up later in the book)."
   ]
  },
  {
   "cell_type": "markdown",
   "metadata": {},
   "source": [
    "#### EXERCISES\n",
    "\n",
    "- 2.2 Suppose you’re building an app for restaurants to take customer orders. Your app needs to store a list of orders. Servers keep adding orders to this list, and chefs take orders of the list and make them.It’s an order queue: servers add orders to the back of the queue, and the chef takes the irst order of the queue and cooks it.*(Would you use an array or a linked list to implement this queue?(Hint: Linked lists are good for inserts/deletes, and arrays are good for random access. Which one are you going to be doing here?))*\n",
    "\n",
    "\n",
    "- 2.3 Let’s run a thought experiment. Suppose Facebook keeps a list of usernames. When someone tries to log in to Facebook, a search is done for their username. If their name is in the list of usernames, they can log in. People log in to Facebook pretty oten, so there are a lot of searches through this list of usernames. Suppose Facebook uses binary search to search the list. Binary search needs random access—you need to be able to get to the middle of the list of usernames instantly. Knowing this, would you implement the list as an array or a linked list?\n",
    "\n",
    "\n",
    "- 2.4 People sign up for Facebook pretty oten, too. Suppose you decided to use an array to store the list of users. What are the downsides of an array for inserts? In particular, suppose you’re using binary search to search for logins. What happens when you add new users to an array?\n",
    "\n",
    "\n",
    "- 2.5 In reality, Facebook uses neither an array nor a linked list to store user information. Let’s consider a hybrid data structure: an array of linked lists. You have an array with 26 slots. Each slot points to a linked list. For example, the first slot in the array points to a linked list containing all the usernames starting with a. The second slot points to a linked list containing all the usernames starting with b,and so on.\n",
    "\n",
    "\n",
    "Suppose Adit B signs up for Facebook, and you want to add them\n",
    "to the list. You go to slot 1 in the array, go to the linked list for slot\n",
    "1, and add Adit B at the end. Now, suppose you want to search for\n",
    "Zakhir H. You go to slot 26, which points to a linked list of all the\n",
    "Z names. hen you search through that list to ind Zakhir H.\n",
    "\n",
    "Compare this hybrid data structure to arrays and linked lists. Is it\n",
    "slower or faster than each for searching and inserting? You don’t\n",
    "have to give Big O run times, just whether the new data structure\n",
    "would be faster or slower"
   ]
  },
  {
   "cell_type": "markdown",
   "metadata": {},
   "source": [
    "```\n",
    "2.2 Answer: A linked list. Lots of inserts are happening (servers adding orders), which linked lists \n",
    "            excel at. You don’t need search or random access (what arrays excel at), because the \n",
    "            chefs always take the first order off the queue.\n",
    "\n",
    "2.3 Answer: A sorted array. Arrays give you random access—you can get an element from the middle of \n",
    "            the array instantly. You can’t do that with linked lists. To get to the middle element \n",
    "            in a linked list, you’d have to start at the first element and follow all the links\n",
    "            down to the middle element.\n",
    "\n",
    "2.4 Answer: Inserting into arrays is slow. Also, if you’re using binary search to search for usernames, \n",
    "            the array needs to be sorted.Suppose someone named Adit B signs up for Facebook. Their name \n",
    "            will be inserted at the end of the array. So you need to sort the array every time a name is \n",
    "            inserted!\n",
    "\n",
    "2.5 Answer: Searching—slower than arrays, faster than linked lists.Inserting—faster than arrays, \n",
    "             same amount of time as linked lists.So it’s slower for searching than an array, but \n",
    "             faster or the same as linked lists for everything. We’ll talk about another hybrid \n",
    "             data structure called a hash table later in the book. This should give you an idea \n",
    "             of how you can build up more complex data structures from simple ones.\n",
    "```"
   ]
  },
  {
   "cell_type": "markdown",
   "metadata": {},
   "source": [
    "<img align=\"left\" src=\"figures/sort16.png\">\n",
    "\n",
    "## Selection sort\n",
    "\n",
    "<img align=\"right\" src=\"figures/sort17.png\">\n",
    "Let’s put it all together to learn your second algorithm:\n",
    "selection sort. To follow this section, you need to\n",
    "understand arrays and lists, as well as Big O notation.\n",
    "\n",
    "Suppose you have a bunch of music on your computer.\n",
    "For each artist, you have a play count.\n",
    "\n",
    "You want to sort this list from most to least played, so that you can rank\n",
    "your favorite artists. How can you do it?\n",
    "\n",
    "One way is to go through the list and ind the most-played artist. Add\n",
    "that artist to a new list.\n",
    "\n",
    "Do it again to ind the next-most-played artist.\n",
    "\n",
    "Keep doing this, and you’ll end up with a sorted list.\n",
    "\n",
    "<img align=\"right\" src=\"figures/sort18.png\">\n",
    "\n",
    "Let’s put on our computer science hats and see how long this will take to\n",
    "run. Remember that O(n) time means you touch every element in a list\n",
    "once. For example, running simple search over the list of artists means\n",
    "looking at each artist once.\n",
    "\n",
    "To find the artist with the highest play count, you have to check each\n",
    "item in the list. his takes $O(n)$ time, as you just saw. So you have an\n",
    "operation that takes $O(n)$ time, and you have to do that $n$ times:\n",
    "\n",
    "This takes $O(n × n)$ time or $O(n^2)$ time.\n",
    "\n",
    "Sorting algorithms are very useful. Now you can sort\n",
    "- Names in a phone book\n",
    "- Travel dates\n",
    "- Emails (newest to oldest)"
   ]
  },
  {
   "cell_type": "markdown",
   "metadata": {},
   "source": [
    "Selection sort is a neat algorithm, but it’s not very fast. Quicksort is a\n",
    "faster sorting algorithm that only takes O(n log n) time. It’s coming up\n",
    "in the next chapter!\n",
    "\n",
    "<img align=\"left\" src=\"figures/sort19.png\">"
   ]
  },
  {
   "cell_type": "markdown",
   "metadata": {},
   "source": [
    "#### EXAMPLE CODE LISTING\n",
    "\n",
    "We didn’t show you the code to sort the music list, but following is\n",
    "some code that will do something very similar: sort an array from\n",
    "smallest to largest. Let’s write a function to ind the smallest element\n",
    "in an array:\n",
    "\n",
    "```python\n",
    "def findSmallest(arr):\n",
    "    smallest = arr[0]\n",
    "    smallest_index = 0\n",
    "    for i in range(1, len(arr)):\n",
    "        if arr[i] < smallest:\n",
    "            smallest = arr[i]\n",
    "            smallest_index = i\n",
    "    return smallest_index\n",
    "    \n",
    "def selectionSort(arr):\n",
    "    newArr = []\n",
    "    for i in range(len(arr)):\n",
    "        smallest = findSmallest(arr)\n",
    "        newArr.append(arr.pop(smallest))\n",
    "    return newArr\n",
    "\n",
    "print(selectionSort([5, 3, 6, 2, 10]))\n",
    "```"
   ]
  },
  {
   "cell_type": "code",
   "execution_count": 5,
   "metadata": {},
   "outputs": [
    {
     "name": "stdout",
     "output_type": "stream",
     "text": [
      "[2, 3, 5, 6, 10]\n"
     ]
    }
   ],
   "source": [
    "%run selection_sort.py"
   ]
  },
  {
   "cell_type": "markdown",
   "metadata": {},
   "source": [
    "# `Recap`\n",
    "\n",
    "- Your computer’s memory is like a giant set of drawers.\n",
    "\n",
    "\n",
    "- When you want to store multiple elements, use an array or a list.\n",
    "\n",
    "\n",
    "- With an array, all your elements are stored right next to each other.\n",
    "\n",
    "\n",
    "- With a list, elements are strewn all over, and one element stores the address of the next one.\n",
    "\n",
    "\n",
    "- Arrays allow fast reads.\n",
    "\n",
    "\n",
    "- Linked lists allow fast inserts and deletes.\n",
    "\n",
    "\n",
    "- All elements in the array should be the same type (all ints,all doubles, and so on)."
   ]
  }
 ],
 "metadata": {
  "kernelspec": {
   "display_name": "Python 3",
   "language": "python",
   "name": "python3"
  },
  "language_info": {
   "codemirror_mode": {
    "name": "ipython",
    "version": 3
   },
   "file_extension": ".py",
   "mimetype": "text/x-python",
   "name": "python",
   "nbconvert_exporter": "python",
   "pygments_lexer": "ipython3",
   "version": "3.6.3"
  }
 },
 "nbformat": 4,
 "nbformat_minor": 2
}

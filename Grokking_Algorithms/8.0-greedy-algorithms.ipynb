{
 "cells": [
  {
   "cell_type": "markdown",
   "metadata": {},
   "source": [
    "# 贪婪算法\n",
    "\n",
    "### 本章内容\n",
    "-  学习如何处理不可能完成的任务：没有快速算法的问题（NP完全问题）。\n",
    "-  学习识别NP完全问题，以免浪费时间去寻找解决它们的快速算法。\n",
    "-  学习近似算法，使用它们可快速找到NP完全问题的近似解。\n",
    "-  学习贪婪策略——一种非常简单的问题解决策略。\n",
    "\n",
    "\n",
    "- You learn how to tackle the impossible:problems that have no fast algorithmic solution (NP-complete problems).\n",
    "- You learn how to identify such problems when you see them, so you don’t waste time trying to find a fast algorithm for them.\n",
    "- You learn about approximation algorithms, which you can use to find an approximate solution to an NP-complete problem quickly.\n",
    "- You learn about the greedy strategy, a very simple problem-solving strategy.\n",
    "\n",
    "贪婪算法很简单：每步都采取最优的做法。用专业术语说，就是你*`每步都选择局部最优解`*，最终得到的就是全局最优解。"
   ]
  },
  {
   "cell_type": "markdown",
   "metadata": {},
   "source": [
    "## 近似算法(approximation algorithm)\n",
    "\n",
    "在获得精确解需要的时间太长时，可使用近似算法。判断近似算法优劣的标准如下：\n",
    "- 速度有多快；\n",
    "- 得到的近似解与最优解的接近程度。\n",
    "\n",
    "贪婪算法是不错的选择，它们不仅简单，而且通常运行速度很快."
   ]
  },
  {
   "cell_type": "markdown",
   "metadata": {},
   "source": [
    "### 集合覆盖问题:The set-covering problem"
   ]
  },
  {
   "cell_type": "markdown",
   "metadata": {},
   "source": [
    "Let’s compare the run time of the greedy algorithm to the exact algorithm.\n",
    "\n",
    "<img align=\"left\" src=\"figures/greedy0.png\">"
   ]
  },
  {
   "cell_type": "markdown",
   "metadata": {},
   "source": [
    "### NP-complete problems.\n",
    "\n",
    "旅行商问题和集合覆盖问题有一些共同之处：你需要计算所有的解，并从中选出最小/最短的那个。这两个问题都属于NP完全问题。\n",
    "\n",
    "NP完全问题的简单定义是，以难解著称的问题，如旅行商问题和集合覆盖问题。很多非常聪明的人都认为，根本不可能编写出可快速解决这些问题的算法。"
   ]
  },
  {
   "cell_type": "markdown",
   "metadata": {},
   "source": [
    "#### Approximating\n",
    "\n",
    "<img align=\"left\" src=\"figures/greedy1.png\">\n",
    "\n",
    "```\n",
    "What's a good approximation algorithm for the traveling \n",
    "salesperson ? Something simple that finds a short path. \n",
    "See if you can come up with an answer before reading on.\n",
    "\n",
    "Here’s how I would do it: arbitrarily pick a start city. \n",
    "Then, each time the salesperson has to pick the next city\n",
    "to visit, they pick the closest unvisited city. Suppose \n",
    "they start in Marin.\n",
    "\n",
    "Total distance: 71 miles. Maybe it’s not the shortest \n",
    "path, but it’s still pretty short.\n",
    "```\n"
   ]
  },
  {
   "cell_type": "code",
   "execution_count": null,
   "metadata": {
    "collapsed": true
   },
   "outputs": [],
   "source": [
    "%run greedy_station"
   ]
  },
  {
   "cell_type": "markdown",
   "metadata": {},
   "source": [
    "但如果要找出经由指定几个点的的最短路径，就是旅行商问题——NP完全问题。简言之，没办法判断问题是不是NP完全问题，但还是有一些蛛丝马迹可循的。\n",
    "\n",
    "- 元素较少时算法的运行速度非常快，但随着元素数量的增加，速度会变得非常慢。\n",
    "- 涉及“所有组合”的问题通常是NP完全问题。\n",
    "- 不能将问题分成小问题，必须考虑各种可能的情况。这可能是NP完全问题。\n",
    "- 如果问题涉及序列（如旅行商问题中的城市序列）且难以解决，它可能就是NP完全问题。\n",
    "- 如果问题涉及集合（如广播台集合）且难以解决，它可能就是NP完全问题。\n",
    "- 如果问题可转换为集合覆盖问题或旅行商问题，那它肯定是NP完全问题。"
   ]
  },
  {
   "cell_type": "markdown",
   "metadata": {},
   "source": [
    "## 小结\n",
    "- (1)贪婪算法寻找局部最优解，企图以这种方式获得全局最优解。\n",
    "- (2)对于NP完全问题，还没有找到快速解决方案。\n",
    "- (3)面临NP完全问题时，最佳的做法是使用近似算法。\n",
    "- (4)贪婪算法易于实现、运行速度快，是不错的近似算法。"
   ]
  }
 ],
 "metadata": {
  "kernelspec": {
   "display_name": "Python 3",
   "language": "python",
   "name": "python3"
  },
  "language_info": {
   "codemirror_mode": {
    "name": "ipython",
    "version": 3
   },
   "file_extension": ".py",
   "mimetype": "text/x-python",
   "name": "python",
   "nbconvert_exporter": "python",
   "pygments_lexer": "ipython3",
   "version": "3.6.3"
  }
 },
 "nbformat": 4,
 "nbformat_minor": 2
}
